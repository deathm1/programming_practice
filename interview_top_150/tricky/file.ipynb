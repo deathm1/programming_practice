{
 "cells": [
  {
   "cell_type": "markdown",
   "metadata": {},
   "source": [
    "# Denormalize an array\n"
   ]
  },
  {
   "cell_type": "code",
   "execution_count": 12,
   "metadata": {},
   "outputs": [
    {
     "name": "stdout",
     "output_type": "stream",
     "text": [
      "[1, 2, 3, 4, 5, 6, 7, 8, 9, 10, 11, 12, 13, 14, 15]\n"
     ]
    }
   ],
   "source": [
    "x = [[[[1, 2, 3], 4], 5], 6, [7, 8, 9, [10, [11, [12, [13, [14, [15]]]]]]]]\n",
    "\n",
    "\n",
    "def de_normal(arr, result: list):\n",
    "    for elem in arr:\n",
    "        if type(elem) != list:\n",
    "            result.append(elem)\n",
    "        else:\n",
    "            de_normal(elem, result)\n",
    "    else:\n",
    "        return result\n",
    "\n",
    "\n",
    "print(de_normal(x, []))"
   ]
  }
 ],
 "metadata": {
  "kernelspec": {
   "display_name": "Python 3",
   "language": "python",
   "name": "python3"
  },
  "language_info": {
   "codemirror_mode": {
    "name": "ipython",
    "version": 3
   },
   "file_extension": ".py",
   "mimetype": "text/x-python",
   "name": "python",
   "nbconvert_exporter": "python",
   "pygments_lexer": "ipython3",
   "version": "3.12.2"
  }
 },
 "nbformat": 4,
 "nbformat_minor": 2
}
