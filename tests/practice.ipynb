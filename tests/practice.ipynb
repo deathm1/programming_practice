{
 "cells": [
  {
   "cell_type": "code",
   "execution_count": 229,
   "metadata": {},
   "outputs": [
    {
     "name": "stdout",
     "output_type": "stream",
     "text": [
      "3\n"
     ]
    }
   ],
   "source": [
    "def test_bs(my_arr: list, elem: int):\n",
    "    low = 0\n",
    "    high = len(my_arr) - 1\n",
    "    while low <= high:\n",
    "        mid = (high+low)//2\n",
    "        if(my_arr[mid] == elem):\n",
    "            return mid\n",
    "        elif (my_arr[mid] > elem):\n",
    "            high = mid - 1\n",
    "        elif(my_arr[mid] < elem):\n",
    "            low = mid + 1\n",
    "print (test_bs([1,2,3,4,5,6,7], 4))"
   ]
  },
  {
   "cell_type": "code",
   "execution_count": 230,
   "metadata": {},
   "outputs": [
    {
     "name": "stdout",
     "output_type": "stream",
     "text": [
      "3\n"
     ]
    }
   ],
   "source": [
    "def rec_bs(my_arr: list, elem: int, high: int, low: int):\n",
    "    if low > high:\n",
    "        return\n",
    "    mid = (high+low)//2 # theetah (1)\n",
    "    if(my_arr[mid] == elem):\n",
    "        return mid\n",
    "    elif (my_arr[mid] > elem):\n",
    "        rec_bs(my_arr, elem, mid-1, low)\n",
    "    elif (my_arr[mid] < elem):\n",
    "        rec_bs(my_arr, elem, high, mid+1)\n",
    "\n",
    "print (rec_bs([1,2,3,4,5,6,7], 4, 6, 0))\n"
   ]
  },
  {
   "cell_type": "code",
   "execution_count": 231,
   "metadata": {},
   "outputs": [
    {
     "name": "stdout",
     "output_type": "stream",
     "text": [
      "12\n"
     ]
    }
   ],
   "source": [
    "import math\n",
    "\n",
    "def findlarge(myarr: list):\n",
    "\n",
    "    mini = -math.inf\n",
    "\n",
    "    for i in range(0, len(myarr), 1):\n",
    "        if myarr[i] > mini:\n",
    "            mini = myarr[i]\n",
    "\n",
    "    return mini\n",
    "\n",
    "\n",
    "\n",
    "\n",
    "print(findlarge([12,3,5,6]))"
   ]
  },
  {
   "cell_type": "code",
   "execution_count": 232,
   "metadata": {},
   "outputs": [
    {
     "name": "stdout",
     "output_type": "stream",
     "text": [
      "(18, 20)\n"
     ]
    }
   ],
   "source": [
    "def find_sec_large(my_arr: list):\n",
    "    large = slarge = float('-inf')\n",
    "\n",
    "    for elem in my_arr:\n",
    "        if elem > large:\n",
    "            slarge = large\n",
    "            large = elem\n",
    "        elif elem > slarge and elem < large:\n",
    "            slarge = elem\n",
    "\n",
    "    return slarge, large\n",
    "\n",
    "\n",
    "\n",
    "print(find_sec_large([20, 20, 18]))"
   ]
  },
  {
   "cell_type": "code",
   "execution_count": 233,
   "metadata": {},
   "outputs": [
    {
     "name": "stdout",
     "output_type": "stream",
     "text": [
      "[9, 8, 7, 6, 5, 4, 3, 2, 1]\n"
     ]
    }
   ],
   "source": [
    "def list_rev(my_arr:list):\n",
    "    low = 0\n",
    "    high = len(my_arr) - 1\n",
    "\n",
    "    while low<=high:\n",
    "        # swap\n",
    "        my_arr[low], my_arr[high] = my_arr[high], my_arr[low]\n",
    "\n",
    "        low+=1\n",
    "        high-=1\n",
    "    return my_arr\n",
    "    \n",
    "\n",
    "    \n",
    "\n",
    "\n",
    "print(list_rev([1,2,3,4,5,6,7,8,9]))\n",
    "\n"
   ]
  },
  {
   "cell_type": "code",
   "execution_count": 234,
   "metadata": {},
   "outputs": [
    {
     "name": "stdout",
     "output_type": "stream",
     "text": [
      "[3, 4, 5, 1, 2]\n",
      "[4, 5, 1, 2, 3]\n"
     ]
    }
   ],
   "source": [
    "def left_rotate_by_k(my_arr:list, k:int):\n",
    "    def reverse(start, end):\n",
    "        while start < end:\n",
    "            my_arr[start], my_arr[end] = my_arr[end], my_arr[start]\n",
    "            start += 1\n",
    "            end -= 1\n",
    "\n",
    "\n",
    "    n = len(my_arr)\n",
    "    k = k % n\n",
    "\n",
    "    reverse(0, k-1)\n",
    "    reverse(k, n-1)\n",
    "    reverse(0, n - 1)\n",
    "    return my_arr\n",
    "\n",
    "def right_rotate_by_k(my_arr:list, k:int):\n",
    "    def reverse(start, end):\n",
    "        while start < end:\n",
    "            my_arr[start], my_arr[end] = my_arr[end], my_arr[start]\n",
    "            start += 1\n",
    "            end -= 1\n",
    "\n",
    "\n",
    "    n = len(my_arr)\n",
    "    k = k % n\n",
    "\n",
    "    reverse(0, n-1)\n",
    "    reverse(0, k-1)\n",
    "    reverse(k, n - 1)\n",
    "    return my_arr\n",
    "\n",
    "\n",
    "print(left_rotate_by_k([1,2,3,4,5], 2))\n",
    "print(right_rotate_by_k([1,2,3,4,5], 2))"
   ]
  },
  {
   "cell_type": "code",
   "execution_count": 235,
   "metadata": {},
   "outputs": [
    {
     "name": "stdout",
     "output_type": "stream",
     "text": [
      "[1, 3, 3, 999, 6, 7, 8, 9]\n"
     ]
    }
   ],
   "source": [
    "def insert_manual(my_arr: list, index: int, elem: int):\n",
    "    last_elem = my_arr[-1]\n",
    "    for i in range(len(my_arr)-1, -1, -1):\n",
    "        if i > index:\n",
    "            my_arr[i] = my_arr[i-1]\n",
    "    my_arr[index] = elem\n",
    "    my_arr.append(last_elem)\n",
    "    return my_arr\n",
    "\n",
    "\n",
    "print(insert_manual([1,3,3,6,7,8,9], 3, 999))"
   ]
  },
  {
   "cell_type": "code",
   "execution_count": 236,
   "metadata": {},
   "outputs": [
    {
     "name": "stdout",
     "output_type": "stream",
     "text": [
      "5.5\n"
     ]
    }
   ],
   "source": [
    "def find_median(my_arr: list):\n",
    "    my_arr.sort()\n",
    "    arr_len = len(my_arr)\n",
    "    if arr_len % 2 == 0:\n",
    "        nthterm = my_arr[(arr_len-1) // 2]\n",
    "        n1thterm = my_arr[((arr_len-1) // 2)+1]\n",
    "        return (nthterm+n1thterm)/2\n",
    "    else:\n",
    "        return my_arr[(arr_len-1) // 2]\n",
    "\n",
    "print(find_median([1, 2, 3, 5, 6, 4, 5, 6, 7, 8, 999, 6, 5, 54, 4, 67, 7, 3]))"
   ]
  },
  {
   "cell_type": "code",
   "execution_count": 237,
   "metadata": {},
   "outputs": [
    {
     "name": "stdout",
     "output_type": "stream",
     "text": [
      "[4, 4, 5, 6, 7, 63]\n"
     ]
    }
   ],
   "source": [
    "def imp_bubble_sort(my_arr:list):\n",
    "    scan = len(my_arr)\n",
    "    for i in range(0, scan, 1): #scan array from 0 to final index, no orf times equal to elems in array\n",
    "        is_swap = False # maintain swap var\n",
    "        for j in range(0, scan - 1 - i, 1): # scan the whole array from 0 to final index controlled by i\n",
    "            if (my_arr[j] > my_arr[j+1]):\n",
    "                # swap\n",
    "                my_arr[j], my_arr[j+1] = my_arr[j+1], my_arr[j]\n",
    "                is_swap = True\n",
    "        if is_swap == False:\n",
    "            return my_arr\n",
    "    return my_arr\n",
    "\n",
    "\n",
    "print(imp_bubble_sort([4,5,63,6,7,4]))"
   ]
  },
  {
   "cell_type": "code",
   "execution_count": 238,
   "metadata": {},
   "outputs": [
    {
     "name": "stdout",
     "output_type": "stream",
     "text": [
      "[4, 4, 5, 6, 7, 63]\n"
     ]
    }
   ],
   "source": [
    "def sel_sort(my_arr:list):\n",
    "    arrlen = len(my_arr)\n",
    "\n",
    "    for i in range(arrlen-1):\n",
    "        mini = i\n",
    "        # pick first elem\n",
    "        # scan the remaining for smaller save index and then swap with first\n",
    "        # swap the first elem with \n",
    "\n",
    "        for j in range(i+1, arrlen):\n",
    "            if my_arr[j] < my_arr[mini]:\n",
    "                mini = j\n",
    "        my_arr[mini], my_arr[i] = my_arr[i], my_arr[mini]\n",
    "\n",
    "\n",
    "    return my_arr\n",
    "\n",
    "\n",
    "print(sel_sort([4,5,63,6,7,4]))"
   ]
  },
  {
   "cell_type": "code",
   "execution_count": 239,
   "metadata": {},
   "outputs": [
    {
     "name": "stdout",
     "output_type": "stream",
     "text": [
      "[4, 4, 5, 6, 7, 63]\n"
     ]
    }
   ],
   "source": [
    "def ins_sort(my_arr: list):\n",
    "    n = len(my_arr)\n",
    "\n",
    "    for i in range(1, n, 1):\n",
    "\n",
    "        x = my_arr[i]\n",
    "        j = i-1\n",
    "\n",
    "        while j>=0 and x<my_arr[j]:\n",
    "            my_arr[j+1] = my_arr[j]\n",
    "            j-=1 \n",
    "\n",
    "        my_arr[j+1] = x\n",
    "\n",
    "    return my_arr\n",
    "\n",
    "\n",
    "print(ins_sort([4,5,63,6,7,4]))"
   ]
  },
  {
   "cell_type": "code",
   "execution_count": null,
   "metadata": {},
   "outputs": [],
   "source": [
    "# my merge sort\n",
    "# [1,2,3,4,5]\n",
    "def my_merge(arr: list, low: int, mid: int, high: int):\n",
    "\n",
    "    temp = []\n",
    "    left = low\n",
    "    right = mid+1\n",
    "\n",
    "    while (left<=mid and right <= high):\n",
    "        if(arr[left] <= arr[right]):\n",
    "            temp.append(arr[left])\n",
    "            left+=1\n",
    "        else:\n",
    "            temp.append(arr[right])\n",
    "            right+=1\n",
    "\n",
    "    while left<=mid:\n",
    "        temp.append(arr[left])\n",
    "        left+=1\n",
    "\n",
    "    while right<=high:\n",
    "        temp.append(arr[right])\n",
    "        right+=1\n",
    "\n",
    "    # transferring all elements from temporary to their correct position\n",
    "    # we need to insert elements in arr from low index thats why the offset i-low\n",
    "\n",
    "    for i in range(low, high + 1):\n",
    "        arr[i] = temp[i - low]\n",
    "\n",
    "\n",
    "def my_merge_sort(arr: list, low: int, high: int):\n",
    "    if low>=high:\n",
    "        return\n",
    "    mid = (low+high)//2\n",
    "\n",
    "    my_merge_sort(arr, low, mid)\n",
    "    my_merge_sort(arr, mid+1, high)\n",
    "    my_merge(arr, low, mid, high)\n",
    "    print(\"\\n\")\n",
    "\n",
    "n = 7\n",
    "arr = [8,4,7,9,3,10,5]\n",
    "my_merge_sort(arr, 0, 6)\n",
    "print(arr)\n"
   ]
  },
  {
   "cell_type": "code",
   "execution_count": 245,
   "metadata": {},
   "outputs": [
    {
     "name": "stdout",
     "output_type": "stream",
     "text": [
      "0\n",
      "1\n",
      "2\n",
      "3\n",
      "4\n",
      "0\n",
      "1\n",
      "2\n",
      "3\n",
      "4\n"
     ]
    }
   ],
   "source": [
    "for i in range(0,len([1,2,3,4,5,6])-1):\n",
    "    print(i)\n",
    "\n",
    "for i in range(len([1,2,3,4,5,6])-1):\n",
    "    print(i)"
   ]
  }
 ],
 "metadata": {
  "kernelspec": {
   "display_name": "Python 3",
   "language": "python",
   "name": "python3"
  },
  "language_info": {
   "codemirror_mode": {
    "name": "ipython",
    "version": 3
   },
   "file_extension": ".py",
   "mimetype": "text/x-python",
   "name": "python",
   "nbconvert_exporter": "python",
   "pygments_lexer": "ipython3",
   "version": "3.12.2"
  }
 },
 "nbformat": 4,
 "nbformat_minor": 2
}
