{
 "cells": [
  {
   "cell_type": "markdown",
   "metadata": {},
   "source": [
    "# Longest Prefix Suffix\n"
   ]
  },
  {
   "cell_type": "code",
   "execution_count": 28,
   "metadata": {},
   "outputs": [
    {
     "name": "stdout",
     "output_type": "stream",
     "text": [
      "[0, 1, 0, 1, 2, 2, 0]\n"
     ]
    }
   ],
   "source": [
    "def find_lps(mystr):\n",
    "    n = len(mystr)\n",
    "    lps = [0] * n\n",
    "    i = 1\n",
    "    j = 0\n",
    "\n",
    "    while i < n:\n",
    "        if mystr[i] == mystr[j]:\n",
    "            j += 1\n",
    "            lps[i] = j\n",
    "            i += 1\n",
    "        else:\n",
    "            if j != 0:  # important\n",
    "                j = lps[j - 1]  # take last j val to minimize full pattern traversal\n",
    "            else:\n",
    "                lps[i] = 0\n",
    "                i += 1\n",
    "\n",
    "        \n",
    "    return lps\n",
    "\n",
    "\n",
    "print(find_lps(\"AABAAAC\"))"
   ]
  },
  {
   "cell_type": "markdown",
   "metadata": {},
   "source": [
    "# KMP Main\n"
   ]
  },
  {
   "cell_type": "code",
   "execution_count": 29,
   "metadata": {},
   "outputs": [
    {
     "name": "stdout",
     "output_type": "stream",
     "text": [
      "(4, [4])\n"
     ]
    }
   ],
   "source": [
    "def search_needle_in_haystack(needle, haystack):\n",
    "    n = len(haystack)\n",
    "    m = len(needle)\n",
    "    lps = find_lps(needle)\n",
    "\n",
    "    i = 0  # haystack index\n",
    "    j = 0  # needle index\n",
    "    occur = []\n",
    "\n",
    "    while i < n:\n",
    "        if haystack[i] == needle[j]:\n",
    "            i += 1\n",
    "            j += 1\n",
    "        else:\n",
    "            if j != 0:  # important\n",
    "                j = lps[j - 1]  # take last j val to minimize full pattern traversal\n",
    "            else:\n",
    "                i += 1\n",
    "        if j == m:\n",
    "            # to print all occurences\n",
    "            occur.append(i - j)\n",
    "            j = lps[j - 1]\n",
    "\n",
    "    return (occur[0], occur) if len(occur) != 0 else -1\n",
    "\n",
    "\n",
    "print(search_needle_in_haystack(\"aabaaac\", \"aabaaabaaac\"))"
   ]
  }
 ],
 "metadata": {
  "kernelspec": {
   "display_name": "Python 3",
   "language": "python",
   "name": "python3"
  },
  "language_info": {
   "codemirror_mode": {
    "name": "ipython",
    "version": 3
   },
   "file_extension": ".py",
   "mimetype": "text/x-python",
   "name": "python",
   "nbconvert_exporter": "python",
   "pygments_lexer": "ipython3",
   "version": "3.12.2"
  }
 },
 "nbformat": 4,
 "nbformat_minor": 2
}
