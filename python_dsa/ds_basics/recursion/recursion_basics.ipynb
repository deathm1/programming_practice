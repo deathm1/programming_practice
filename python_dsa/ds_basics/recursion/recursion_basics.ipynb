{
 "cells": [
  {
   "cell_type": "markdown",
   "metadata": {},
   "source": [
    "# Direct Recursion functions\n"
   ]
  },
  {
   "cell_type": "markdown",
   "metadata": {},
   "source": [
    "## How function states are stored in Function Call Stack\n"
   ]
  },
  {
   "cell_type": "code",
   "execution_count": 34,
   "metadata": {},
   "outputs": [
    {
     "name": "stdout",
     "output_type": "stream",
     "text": [
      "something\n",
      "something\n",
      "something\n",
      "something\n",
      "something\n"
     ]
    }
   ],
   "source": [
    "## case without termination\n",
    "def func(limit : int):\n",
    "    # base case\n",
    "    if(limit <= 0):\n",
    "        return\n",
    "    print(\"something\")\n",
    "    func(limit - 1)\n",
    "func(5)"
   ]
  },
  {
   "cell_type": "markdown",
   "metadata": {},
   "source": [
    "## Typical structure of recursive functions\n"
   ]
  },
  {
   "cell_type": "code",
   "execution_count": 35,
   "metadata": {},
   "outputs": [],
   "source": [
    "def myfunc(para1, para2, andsoon):\n",
    "    ## base case\n",
    "\n",
    "    ## Recursive calls with \n",
    "    ## atleast one change in parameter\n",
    "    pass"
   ]
  },
  {
   "cell_type": "markdown",
   "metadata": {},
   "source": [
    "## Writing base case recursion\n"
   ]
  },
  {
   "cell_type": "markdown",
   "metadata": {},
   "source": [
    "### Factorial of a number\n"
   ]
  },
  {
   "cell_type": "code",
   "execution_count": 36,
   "metadata": {},
   "outputs": [
    {
     "name": "stdout",
     "output_type": "stream",
     "text": [
      "12146304367025329675766243241881295855454217088483382315328918161829235892362167668831156960612640202170735835221294047782591091570411651472186029519906261646730733907419814952960000000000000000000000000000\n"
     ]
    }
   ],
   "source": [
    "def get_factorial(n: int):\n",
    "    ##  this function is non tail recursive\n",
    "\n",
    "    if(n <= 1):\n",
    "        return 1\n",
    "    return get_factorial(n-1) * n\n",
    "    \n",
    "\n",
    "print(get_factorial(123))"
   ]
  },
  {
   "cell_type": "markdown",
   "metadata": {},
   "source": [
    "### Fibonacci Series using recursion\n"
   ]
  },
  {
   "cell_type": "code",
   "execution_count": 37,
   "metadata": {},
   "outputs": [
    {
     "name": "stdout",
     "output_type": "stream",
     "text": [
      "55\n",
      "55\n"
     ]
    }
   ],
   "source": [
    "def nth_fibonacci_series(n: int, a: int, b: int):\n",
    "    ##  this function is non tail recursive\n",
    "    if(n <= 0):\n",
    "        return a\n",
    "    c = a + b\n",
    "    return nth_fibonacci_series(n-1, b, c)\n",
    "\n",
    "print(nth_fibonacci_series(10, 0, 1))\n",
    "\n",
    "def nth_fibonacci_series_2(n: int):\n",
    "    ##  this function is non tail recursive\n",
    "\n",
    "    if (n == 0):\n",
    "        return 0\n",
    "    if (n == 1):\n",
    "        return 1\n",
    "    return nth_fibonacci_series_2(n-1) + nth_fibonacci_series_2(n-2)\n",
    "\n",
    "print(nth_fibonacci_series_2(10))"
   ]
  }
 ],
 "metadata": {
  "kernelspec": {
   "display_name": "data_science_and_engineering",
   "language": "python",
   "name": "python3"
  },
  "language_info": {
   "codemirror_mode": {
    "name": "ipython",
    "version": 3
   },
   "file_extension": ".py",
   "mimetype": "text/x-python",
   "name": "python",
   "nbconvert_exporter": "python",
   "pygments_lexer": "ipython3",
   "version": "3.10.12"
  },
  "orig_nbformat": 4
 },
 "nbformat": 4,
 "nbformat_minor": 2
}
