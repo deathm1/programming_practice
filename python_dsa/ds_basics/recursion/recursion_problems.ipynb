{
 "cells": [
  {
   "cell_type": "markdown",
   "metadata": {},
   "source": [
    "# Problem 1\n"
   ]
  },
  {
   "cell_type": "code",
   "execution_count": 282,
   "metadata": {},
   "outputs": [
    {
     "name": "stdout",
     "output_type": "stream",
     "text": [
      "5 4 3 2 1 1 2 3 4 5 "
     ]
    }
   ],
   "source": [
    "def myfun(n: int):\n",
    "    if(n<=0):\n",
    "        return\n",
    "    print(n, end = \" \")\n",
    "    myfun(n-1)\n",
    "    print(n, end = \" \")\n",
    "myfun(5)"
   ]
  },
  {
   "cell_type": "markdown",
   "metadata": {},
   "source": [
    "# Problem 2\n"
   ]
  },
  {
   "cell_type": "code",
   "execution_count": 283,
   "metadata": {},
   "outputs": [
    {
     "name": "stdout",
     "output_type": "stream",
     "text": [
      "1 2 1 3 1 2 1 "
     ]
    }
   ],
   "source": [
    "def myfun2(n: int):\n",
    "    if(n<=0):\n",
    "        return\n",
    "    myfun2(n-1)\n",
    "    print(n, end = \" \")\n",
    "    myfun2(n-1)\n",
    "\n",
    "myfun2(3)"
   ]
  },
  {
   "cell_type": "markdown",
   "metadata": {},
   "source": [
    "# floor(log2(n)) find floor of Log base 2 of a number\n"
   ]
  },
  {
   "cell_type": "code",
   "execution_count": 284,
   "metadata": {},
   "outputs": [
    {
     "name": "stdout",
     "output_type": "stream",
     "text": [
      "4\n"
     ]
    }
   ],
   "source": [
    "def get_log(n: int):\n",
    "    if(n<=1):\n",
    "        return 0\n",
    "    else:\n",
    "        return 1 + get_log(n//2)\n",
    "print(get_log(16))"
   ]
  },
  {
   "cell_type": "markdown",
   "metadata": {},
   "source": [
    "# Decimal to Binary Converter\n"
   ]
  },
  {
   "cell_type": "code",
   "execution_count": 285,
   "metadata": {},
   "outputs": [
    {
     "name": "stdout",
     "output_type": "stream",
     "text": [
      "1 1 0 1 "
     ]
    }
   ],
   "source": [
    "def convert_decimal_to_binary(n: int):\n",
    "    if(n<=0):\n",
    "        return\n",
    "    convert_decimal_to_binary(n//2)\n",
    "    print(n%2, end = \" \")\n",
    "convert_decimal_to_binary(13)"
   ]
  },
  {
   "cell_type": "markdown",
   "metadata": {},
   "source": [
    "# Print numbers from 1 - N\n"
   ]
  },
  {
   "cell_type": "code",
   "execution_count": 286,
   "metadata": {},
   "outputs": [
    {
     "name": "stdout",
     "output_type": "stream",
     "text": [
      "1 2 3 4 5 "
     ]
    }
   ],
   "source": [
    "def print_1_to_n(n: int):\n",
    "    if(n<=0):\n",
    "        return\n",
    "    print_1_to_n(n-1)\n",
    "    print(n, end = \" \")\n",
    "print_1_to_n(5)"
   ]
  },
  {
   "cell_type": "markdown",
   "metadata": {},
   "source": [
    "# Print numbers from N to 1\n"
   ]
  },
  {
   "cell_type": "code",
   "execution_count": 287,
   "metadata": {},
   "outputs": [
    {
     "name": "stdout",
     "output_type": "stream",
     "text": [
      "5 4 3 2 1 "
     ]
    }
   ],
   "source": [
    "def print_n_to_1(n: int):\n",
    "    if(n<=0):\n",
    "        return\n",
    "    print(n, end = \" \")\n",
    "    print_n_to_1(n-1)\n",
    "print_n_to_1(5)"
   ]
  },
  {
   "cell_type": "markdown",
   "metadata": {},
   "source": [
    "# Sum of digits using Recursion\n"
   ]
  },
  {
   "cell_type": "code",
   "execution_count": 288,
   "metadata": {},
   "outputs": [
    {
     "data": {
      "text/plain": [
       "3"
      ]
     },
     "execution_count": 288,
     "metadata": {},
     "output_type": "execute_result"
    }
   ],
   "source": [
    "def get_sum_using_recursion(n: int):\n",
    "    if (n<10):\n",
    "        return n\n",
    "    else:\n",
    "        return n%10 + get_sum_using_recursion(n//10)\n",
    "get_sum_using_recursion(12)"
   ]
  },
  {
   "cell_type": "markdown",
   "metadata": {},
   "source": [
    "# Palindrome check using recursion\n"
   ]
  },
  {
   "cell_type": "code",
   "execution_count": 289,
   "metadata": {},
   "outputs": [
    {
     "name": "stdout",
     "output_type": "stream",
     "text": [
      "True\n"
     ]
    }
   ],
   "source": [
    "def check_if_palindrome(mystr: str, start: int, end: int):\n",
    "    if(start>=end):\n",
    "        return True\n",
    "    if(mystr[start] != mystr[end]):\n",
    "        return False\n",
    "    else:\n",
    "        newstart = start + 1\n",
    "        newend = end - 1\n",
    "        return check_if_palindrome(mystr, newstart, newend)\n",
    "\n",
    "\n",
    "tocheck = \"abba\"\n",
    "print(check_if_palindrome(mystr=tocheck, start=0,end=len(tocheck)-1))"
   ]
  },
  {
   "cell_type": "markdown",
   "metadata": {},
   "source": [
    "# Print Array Recursively\n"
   ]
  },
  {
   "cell_type": "code",
   "execution_count": 290,
   "metadata": {},
   "outputs": [
    {
     "name": "stdout",
     "output_type": "stream",
     "text": [
      "1 2 3 4 5 "
     ]
    }
   ],
   "source": [
    "def printArrayRecursively(arr, n):\n",
    "    n = n - 1\n",
    "    if n < 0:\n",
    "        return\n",
    "    printArrayRecursively(arr, n)\n",
    "    \n",
    "    print(arr[n], end =' ')\n",
    "printArrayRecursively([1,2,3,4,5], 5)"
   ]
  },
  {
   "cell_type": "markdown",
   "metadata": {},
   "source": [
    "# Count digits using recursion\n"
   ]
  },
  {
   "cell_type": "code",
   "execution_count": 291,
   "metadata": {},
   "outputs": [
    {
     "name": "stdout",
     "output_type": "stream",
     "text": [
      "10\n"
     ]
    }
   ],
   "source": [
    "def countDigits(n):\n",
    "    if(n < 10):\n",
    "        return 1\n",
    "    return 1 + countDigits(n//10)\n",
    "\n",
    "print(countDigits(1234567890))"
   ]
  },
  {
   "cell_type": "markdown",
   "metadata": {},
   "source": [
    "# Fibonacci Series\n"
   ]
  },
  {
   "cell_type": "code",
   "execution_count": 292,
   "metadata": {},
   "outputs": [
    {
     "name": "stdout",
     "output_type": "stream",
     "text": [
      "5\n"
     ]
    }
   ],
   "source": [
    "def fibonacci(n):\n",
    "    if (n == 1):\n",
    "        return 1\n",
    "    if (n == 2):\n",
    "        return 1\n",
    "    return fibonacci(n-1) + fibonacci(n-2)\n",
    "\n",
    "print(fibonacci(5))"
   ]
  },
  {
   "cell_type": "markdown",
   "metadata": {},
   "source": [
    "# Reverse a number recursively\n"
   ]
  },
  {
   "cell_type": "code",
   "execution_count": 293,
   "metadata": {},
   "outputs": [
    {
     "name": "stdout",
     "output_type": "stream",
     "text": [
      "432\n"
     ]
    }
   ],
   "source": [
    "def reverser(n):\n",
    "    if n < 10 :\n",
    "        return n\n",
    "    return (n%10)*(10**(len(str(n))-1)) + reverser(n//10)\n",
    "\n",
    "print(reverser(234))"
   ]
  },
  {
   "cell_type": "markdown",
   "metadata": {},
   "source": [
    "# Random Problem\n"
   ]
  },
  {
   "cell_type": "code",
   "execution_count": 294,
   "metadata": {},
   "outputs": [
    {
     "name": "stdout",
     "output_type": "stream",
     "text": [
      "13\n"
     ]
    }
   ],
   "source": [
    "def random_prblem1(x, y):\n",
    "    if x == 0:\n",
    "        return y\n",
    "    else:\n",
    "        return random_prblem1(x-1, x+y)\n",
    "\n",
    "print(random_prblem1(4,3))"
   ]
  },
  {
   "cell_type": "markdown",
   "metadata": {},
   "source": [
    "# Random Problem\n"
   ]
  },
  {
   "cell_type": "code",
   "execution_count": 295,
   "metadata": {},
   "outputs": [
    {
     "name": "stdout",
     "output_type": "stream",
     "text": [
      "5\n"
     ]
    }
   ],
   "source": [
    "def randomProblem2(x):\n",
    "    if x <= 1:\n",
    "        return 1\n",
    "    if x%2==0:\n",
    "        return randomProblem2(x//2)\n",
    "    return randomProblem2(x//2) + randomProblem2(x//2 + 1)\n",
    "\n",
    "print(randomProblem2(11))"
   ]
  }
 ],
 "metadata": {
  "kernelspec": {
   "display_name": "pythondev",
   "language": "python",
   "name": "python3"
  },
  "language_info": {
   "codemirror_mode": {
    "name": "ipython",
    "version": 3
   },
   "file_extension": ".py",
   "mimetype": "text/x-python",
   "name": "python",
   "nbconvert_exporter": "python",
   "pygments_lexer": "ipython3",
   "version": "3.11.4"
  },
  "orig_nbformat": 4
 },
 "nbformat": 4,
 "nbformat_minor": 2
}
