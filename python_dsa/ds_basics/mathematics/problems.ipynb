{
 "cells": [
  {
   "attachments": {},
   "cell_type": "markdown",
   "metadata": {},
   "source": [
    "### Count Number of Digits\n"
   ]
  },
  {
   "cell_type": "code",
   "execution_count": 2,
   "metadata": {},
   "outputs": [
    {
     "name": "stdout",
     "output_type": "stream",
     "text": [
      "10\n"
     ]
    }
   ],
   "source": [
    "# // - Floor Division, divide the first argument by the second and round the result\n",
    "# down to the nearest whole number\n",
    "def count_digits(n: int):\n",
    "    ctr = 0\n",
    "    while (n != 0):\n",
    "        n = n//10\n",
    "        ctr += 1\n",
    "    return ctr\n",
    "\n",
    "\n",
    "print(count_digits(1234567890))"
   ]
  },
  {
   "attachments": {},
   "cell_type": "markdown",
   "metadata": {},
   "source": [
    "### Palindrome Numbers\n",
    "\n",
    "Read the number from left to right or right to left the number reads the same. Ex - 78987\n"
   ]
  },
  {
   "cell_type": "code",
   "execution_count": 3,
   "metadata": {},
   "outputs": [
    {
     "name": "stdout",
     "output_type": "stream",
     "text": [
      "Is Palindrom : False\n"
     ]
    }
   ],
   "source": [
    "def is_palindrom(n: int):\n",
    "    temp = n\n",
    "    reverse_number_constructor = 0\n",
    "    while (temp > 0):\n",
    "        # get last digit\n",
    "        last_digit = temp % 10\n",
    "        # construct the reverse of the number with last digit\n",
    "        reverse_number_constructor = reverse_number_constructor * 10 + last_digit\n",
    "        # remove the last digit from the temp\n",
    "        temp = temp // 10\n",
    "\n",
    "    if (reverse_number_constructor == n):\n",
    "        return True\n",
    "    return False\n",
    "\n",
    "\n",
    "print(f\"Is Palindrom : {is_palindrom(4553)}\")"
   ]
  },
  {
   "attachments": {},
   "cell_type": "markdown",
   "metadata": {},
   "source": [
    "### Factorial of a number\n",
    "\n",
    "T(n) = T(n-1) + C\n",
    "recursive approach is slightly inefficient because the function call stack will take auxiliary space.\n"
   ]
  },
  {
   "cell_type": "code",
   "execution_count": 4,
   "metadata": {},
   "outputs": [
    {
     "name": "stdout",
     "output_type": "stream",
     "text": [
      "6 6\n"
     ]
    }
   ],
   "source": [
    "def get_factorial_of_a_number(n: int):\n",
    "    if (n == 0):\n",
    "        return 1\n",
    "    return n*(n-1)\n",
    "\n",
    "\n",
    "def get_factorial_of_a_number_efficient(n: int):\n",
    "    res = 1\n",
    "    for i in range(2, n+1):\n",
    "        res = res * i\n",
    "    return res\n",
    "\n",
    "\n",
    "print(get_factorial_of_a_number_efficient(3), get_factorial_of_a_number(3))"
   ]
  },
  {
   "cell_type": "markdown",
   "metadata": {},
   "source": [
    "### Count number of zeros in a factorial of a number\n",
    "\n",
    "To solve this we have a direct formula,\n",
    "Which is we have to floor divide the number by 5 and its mulitiples.\n",
    "\n",
    "no_of_zeros_in_factorial = [num//5] + [num//25] + [num//125]...\n",
    "till the denominator is less than equal to the number of which factorial is to be found.\n",
    "\n",
    "#### The time complexity of this is Theetah(log(n)) and aux space is theetah(1)\n",
    "\n",
    "5^k <= num_num\n"
   ]
  },
  {
   "cell_type": "code",
   "execution_count": 5,
   "metadata": {},
   "outputs": [
    {
     "name": "stdout",
     "output_type": "stream",
     "text": [
      "3\n"
     ]
    }
   ],
   "source": [
    "def count_trailing_zeros(my_num: int):\n",
    "    result = 0\n",
    "    i = 5\n",
    "    while (i <= my_num):\n",
    "        result = result + (my_num//i)\n",
    "        i = i*5\n",
    "    return result\n",
    "\n",
    "\n",
    "print(count_trailing_zeros(my_num=19))"
   ]
  },
  {
   "cell_type": "markdown",
   "metadata": {},
   "source": [
    "### Finding GCD of Two numbers\n"
   ]
  },
  {
   "cell_type": "markdown",
   "metadata": {},
   "source": [
    "#### Naive Approach\n",
    "\n",
    "Here the TC is Theetah(min(a,b)), AS: Theetah(1)\n"
   ]
  },
  {
   "cell_type": "code",
   "execution_count": 6,
   "metadata": {},
   "outputs": [
    {
     "name": "stdout",
     "output_type": "stream",
     "text": [
      "3\n"
     ]
    }
   ],
   "source": [
    "def get_gcd_naive(a: int, b: int):\n",
    "    mini = min(a, b)\n",
    "    for i in range(mini, 0, -1):\n",
    "        if (\n",
    "            (a % i == 0)\n",
    "            and\n",
    "            (b % i == 0)\n",
    "        ):\n",
    "            break\n",
    "\n",
    "        mini = mini - 1\n",
    "    return mini\n",
    "\n",
    "\n",
    "print(get_gcd_naive(12, 15))"
   ]
  },
  {
   "cell_type": "markdown",
   "metadata": {},
   "source": [
    "#### Euclidean\n"
   ]
  },
  {
   "cell_type": "markdown",
   "metadata": {},
   "source": [
    "##### Approach 1\n"
   ]
  },
  {
   "cell_type": "code",
   "execution_count": 7,
   "metadata": {},
   "outputs": [
    {
     "name": "stdout",
     "output_type": "stream",
     "text": [
      "3\n"
     ]
    }
   ],
   "source": [
    "def get_gcd_euclidean_1(a: int, b: int):\n",
    "\n",
    "    while (a != b):\n",
    "        if (a > b):\n",
    "            a = a - b\n",
    "        elif (b > a):\n",
    "            b = b - a\n",
    "    return a\n",
    "\n",
    "\n",
    "print(get_gcd_euclidean_1(12, 15))"
   ]
  },
  {
   "cell_type": "markdown",
   "metadata": {},
   "source": [
    "##### Approach 2\n"
   ]
  },
  {
   "cell_type": "code",
   "execution_count": 8,
   "metadata": {},
   "outputs": [
    {
     "name": "stdout",
     "output_type": "stream",
     "text": [
      "3\n"
     ]
    }
   ],
   "source": [
    "def get_gcd_euclidean_2(a: int, b: int):\n",
    "    if b == 0:\n",
    "        return a\n",
    "    return get_gcd_euclidean_2(a=b, b=a % b)\n",
    "\n",
    "\n",
    "print(get_gcd_euclidean_2(12, 15))"
   ]
  },
  {
   "attachments": {},
   "cell_type": "markdown",
   "metadata": {},
   "source": [
    "### Get LCM of two numbers\n"
   ]
  },
  {
   "cell_type": "code",
   "execution_count": 9,
   "metadata": {},
   "outputs": [
    {
     "name": "stdout",
     "output_type": "stream",
     "text": [
      "12\n"
     ]
    }
   ],
   "source": [
    "def get_lcm_of_two_numbers(a: int, b: int):\n",
    "    # we know lcm of two numbers is going to be greater than the max of two numbers.\n",
    "    res = max(a, b)\n",
    "    # we will keep on incrementing the res till it is divisible by both a and b\n",
    "    # here the TC would be\n",
    "    # theeta(axb-max(axb))\n",
    "    while True:\n",
    "        if (res % a == 0 and res % b == 0):\n",
    "            return res\n",
    "        res += 1\n",
    "# we know a*b=gcd(a,b)*lcm(a,b)\n",
    "# here the time complexity would be same as of that of gcd\n",
    "# O(log(min(a,b)))\n",
    "\n",
    "\n",
    "def get_gcd(a: int, b: int):\n",
    "    if b == 0:\n",
    "        return a\n",
    "    return get_gcd(b, a % b)\n",
    "\n",
    "\n",
    "def get_lcm_of_two_numbers_efficient(a: int, b: int):\n",
    "    return a*b // get_gcd(a, b)\n",
    "\n",
    "\n",
    "print(get_lcm_of_two_numbers_efficient(4, 6))"
   ]
  },
  {
   "attachments": {},
   "cell_type": "markdown",
   "metadata": {},
   "source": [
    "### check if the number is prime ?\n",
    "\n",
    "Divisors always appears in pairs\n",
    "<br>\n",
    "if (x,y) is in pair\n",
    "<br>\n",
    "and if x<=y\n",
    "<br>\n",
    "x\\*x<=n\n",
    "<br>\n",
    "x<=sqrt(n)\n"
   ]
  },
  {
   "attachments": {},
   "cell_type": "markdown",
   "metadata": {},
   "source": [
    "###\n"
   ]
  },
  {
   "cell_type": "code",
   "execution_count": 10,
   "metadata": {},
   "outputs": [
    {
     "name": "stdout",
     "output_type": "stream",
     "text": [
      "True\n"
     ]
    }
   ],
   "source": [
    "def is_prime(n: int):  # O(n)\n",
    "    if (n == 1):\n",
    "        return False\n",
    "    for i in range(2, n):\n",
    "        if (n % i == 0):\n",
    "            return False\n",
    "    return True\n",
    "\n",
    "\n",
    "def is_prime_efficient(n: int):  # O(sqrt(n))\n",
    "    if (n == 1):\n",
    "        return False\n",
    "    i = 2\n",
    "    while (i*i <= n):\n",
    "        if (n % i == 0):\n",
    "            return False\n",
    "        i += 1\n",
    "    return True\n",
    "\n",
    "\n",
    "def is_prime_best(n: int):\n",
    "    if (n == 1):\n",
    "        return False\n",
    "    if (n == 2 or n == 3):\n",
    "        return True\n",
    "    if (n % 2 == 0 or n % 3 == 0):\n",
    "        return False\n",
    "\n",
    "    i = 5\n",
    "\n",
    "    while (i*i <= n):\n",
    "        if ((n % i == 0) or (n % (i+2) == 0)):\n",
    "            return False\n",
    "        i += 6\n",
    "    return True\n",
    "\n",
    "\n",
    "print(is_prime_best(13))"
   ]
  },
  {
   "attachments": {},
   "cell_type": "markdown",
   "metadata": {},
   "source": [
    "### Print prime factorization\n",
    "\n",
    "n = 100\n",
    "<br>\n",
    "2 2 5 5\n"
   ]
  },
  {
   "cell_type": "code",
   "execution_count": 11,
   "metadata": {},
   "outputs": [
    {
     "name": "stdout",
     "output_type": "stream",
     "text": [
      "2\n",
      "2\n",
      "5\n",
      "5\n"
     ]
    }
   ],
   "source": [
    "def prime_factors(n: int):\n",
    "    for i in range(2, n+1):\n",
    "        if (is_prime_best(i)):\n",
    "            x = i\n",
    "            while (n % x == 0):\n",
    "                print(i)\n",
    "                x = x*i\n",
    "\n",
    "\n",
    "prime_factors(100)"
   ]
  },
  {
   "attachments": {},
   "cell_type": "markdown",
   "metadata": {},
   "source": [
    "### Print all divisors of a number\n",
    "\n",
    "Divisors always appears in pairs\n",
    "<br>\n",
    "(1,30),(2,15),(3,10)\n",
    "\n",
    "<br>\n",
    "if (x,y) is in pair\n",
    "<br>\n",
    "and if x<=y \n",
    "<br>\n",
    "x*x<=n\n",
    "<br>\n",
    "x<=sqrt(n)\n"
   ]
  },
  {
   "cell_type": "code",
   "execution_count": 12,
   "metadata": {},
   "outputs": [
    {
     "name": "stdout",
     "output_type": "stream",
     "text": [
      "1\n",
      "2\n",
      "5\n",
      "10\n",
      "25\n",
      "50\n"
     ]
    }
   ],
   "source": [
    "def get_divisors(n: int):  # TC : theeta(n) and AS : theeta(1)\n",
    "    for i in range(1, n+1):\n",
    "        if (n % i == 0):\n",
    "            print(i)\n",
    "\n",
    "\n",
    "def get_divisors_efficient(n: int):  # TC : theeta(sqrt(n)) and AS : theeta(1)\n",
    "    i = 1\n",
    "    # run a loop till sqrt(n)\n",
    "    while (i*i <= n):\n",
    "        if (n % i == 0):\n",
    "            print(i)\n",
    "            div = n//i\n",
    "            if (i != div):\n",
    "                print(div)\n",
    "        i += 1\n",
    "\n",
    "\n",
    "# TC : theeta(sqrt(n)) and AS : theeta(1)\n",
    "def get_divisors_efficient_sorted(n: int):\n",
    "    i = 1\n",
    "\n",
    "    # to sqrt(n)\n",
    "    while (i*i < n):\n",
    "        if (n % i == 0):\n",
    "            print(i)\n",
    "        i += 1\n",
    "    # from sqrt(n) to 1\n",
    "    while (i >= 1):\n",
    "        if (n % i == 0):\n",
    "            print(n//i)\n",
    "        i -= 1\n",
    "\n",
    "\n",
    "get_divisors_efficient_sorted(50)"
   ]
  },
  {
   "cell_type": "markdown",
   "metadata": {},
   "source": [
    "### Computing Power\n",
    "\n",
    "if n is even:\n",
    "temp \\* temp (temp = power(x, n//2))\n",
    "\n",
    "if n is odd:\n",
    "power(x, n - 1) \\* x\n"
   ]
  },
  {
   "cell_type": "code",
   "execution_count": 13,
   "metadata": {},
   "outputs": [
    {
     "name": "stdout",
     "output_type": "stream",
     "text": [
      "81\n"
     ]
    }
   ],
   "source": [
    "def compute_power(x, y):\n",
    "    if y == 0:\n",
    "        return 1\n",
    "    return x * compute_power(x, y-1)\n",
    "\n",
    "\n",
    "print(compute_power(3, 4))"
   ]
  },
  {
   "cell_type": "code",
   "execution_count": 14,
   "metadata": {},
   "outputs": [
    {
     "name": "stdout",
     "output_type": "stream",
     "text": [
      "81\n"
     ]
    }
   ],
   "source": [
    "def computer_power_efficient(x, y):\n",
    "    if (y == 0):\n",
    "        return 1\n",
    "    temp = computer_power_efficient(x, y//2)\n",
    "    temp = temp * temp\n",
    "    if (y % 2 == 0):\n",
    "        return temp\n",
    "    else:\n",
    "        return temp * x\n",
    "\n",
    "\n",
    "print(computer_power_efficient(3, 4))\n",
    "# AS : theetah(logn)\n",
    "# TC : theetah(logn)"
   ]
  },
  {
   "cell_type": "markdown",
   "metadata": {},
   "source": [
    "### Iterative Power Binary Exponention\n"
   ]
  },
  {
   "cell_type": "code",
   "execution_count": 15,
   "metadata": {},
   "outputs": [
    {
     "data": {
      "text/plain": [
       "81"
      ]
     },
     "execution_count": 15,
     "metadata": {},
     "output_type": "execute_result"
    }
   ],
   "source": [
    "def compute_power_be(x, y):\n",
    "    res = 1\n",
    "    while (y > 0):\n",
    "        if (y % 2 != 0):\n",
    "            res = res * x\n",
    "        x = x * x\n",
    "        y = y//2\n",
    "    return res\n",
    "\n",
    "\n",
    "compute_power_be(3, 4)\n",
    "\n",
    "# AS : theetah(1)\n",
    "# TC : theetah(logn)"
   ]
  },
  {
   "cell_type": "markdown",
   "metadata": {},
   "source": [
    "### Optimized power calc\n"
   ]
  },
  {
   "cell_type": "code",
   "execution_count": 16,
   "metadata": {},
   "outputs": [
    {
     "data": {
      "text/plain": [
       "11"
      ]
     },
     "execution_count": 16,
     "metadata": {},
     "output_type": "execute_result"
    }
   ],
   "source": [
    "def compute_power_be_op(x, y, modulo):\n",
    "    res = 1\n",
    "    while (y > 0):\n",
    "        if (y & 1):\n",
    "            res = (res * x) % modulo\n",
    "        x = (x * x) % modulo\n",
    "        y = y >> 1\n",
    "    return res\n",
    "\n",
    "\n",
    "compute_power_be_op(30, 40, 19)\n",
    "\n",
    "# AS : theetah(1)\n",
    "# TC : theetah(logn)"
   ]
  },
  {
   "cell_type": "code",
   "execution_count": 17,
   "metadata": {},
   "outputs": [
    {
     "name": "stdout",
     "output_type": "stream",
     "text": [
      "0b101 0b1\n",
      "0b1\n",
      "0b101\n",
      "0b10\n"
     ]
    }
   ],
   "source": [
    "print(bin(5), bin(1))\n",
    "print(bin(5 & 1))\n",
    "print(bin(5 | 0))\n",
    "print(bin(5 >> 1))"
   ]
  },
  {
   "attachments": {},
   "cell_type": "markdown",
   "metadata": {},
   "source": [
    "### Sieve of Eratosthenes\n"
   ]
  },
  {
   "cell_type": "code",
   "execution_count": 18,
   "metadata": {},
   "outputs": [
    {
     "name": "stdout",
     "output_type": "stream",
     "text": [
      "2\n",
      "3\n",
      "5\n",
      "7\n"
     ]
    }
   ],
   "source": [
    "def SieveOfEratosthenes(num):\n",
    "    prime = [True for i in range(num+1)]\n",
    "    p = 2\n",
    "    while (p * p <= num):\n",
    "\n",
    "        # If prime[p] is not\n",
    "        # changed, then it is a prime\n",
    "        if (prime[p] == True):\n",
    "\n",
    "            # Updating all multiples of p\n",
    "            for i in range(p * p, num+1, p):\n",
    "                prime[i] = False\n",
    "        p += 1\n",
    "\n",
    "    # Print all prime numbers\n",
    "    for p in range(2, num+1):\n",
    "        if prime[p]:\n",
    "            print(p)\n",
    "\n",
    "\n",
    "SieveOfEratosthenes(10)"
   ]
  },
  {
   "cell_type": "markdown",
   "metadata": {},
   "source": [
    "# Count Digits in a Factorial by Stringlings approximation\n"
   ]
  },
  {
   "cell_type": "code",
   "execution_count": 19,
   "metadata": {},
   "outputs": [],
   "source": [
    "import math\n",
    "\n",
    "\n",
    "def digitsInFactorial(self, n):\n",
    "    if n < 0:\n",
    "        return 0\n",
    "    if n <= 1:\n",
    "        return 1\n",
    "\n",
    "    # Using Stirling's approximation formula to count the number of digits\n",
    "    x = (n * math.log10(n / math.e) + math.log10(2 * math.pi * n) / 2.0)\n",
    "\n",
    "    # Floor the result of the formula and add 1 to get the number of digits\n",
    "    return math.floor(x) + 1"
   ]
  },
  {
   "cell_type": "markdown",
   "metadata": {},
   "source": [
    "### Having Exactly 3 Divisors\n"
   ]
  },
  {
   "cell_type": "code",
   "execution_count": 20,
   "metadata": {},
   "outputs": [
    {
     "data": {
      "text/plain": [
       "1"
      ]
     },
     "execution_count": 20,
     "metadata": {},
     "output_type": "execute_result"
    }
   ],
   "source": [
    "import math\n",
    "\n",
    "\n",
    "def exactly3Divisors(N):\n",
    "    count = 0\n",
    "    if N == 1:\n",
    "        return 0\n",
    "    for i in range(2, int(math.sqrt(N))+1):\n",
    "        if is_prime_best(i):\n",
    "            count += 1\n",
    "    return count\n",
    "\n",
    "\n",
    "exactly3Divisors(6)"
   ]
  },
  {
   "cell_type": "code",
   "execution_count": 21,
   "metadata": {},
   "outputs": [
    {
     "data": {
      "text/plain": [
       "3"
      ]
     },
     "execution_count": 21,
     "metadata": {},
     "output_type": "execute_result"
    }
   ],
   "source": [
    "int(math.sqrt(6) + 1)"
   ]
  },
  {
   "cell_type": "code",
   "execution_count": 26,
   "metadata": {},
   "outputs": [
    {
     "name": "stdout",
     "output_type": "stream",
     "text": [
      "False\n"
     ]
    }
   ],
   "source": [
    "print(is_prime(57))"
   ]
  }
 ],
 "metadata": {
  "kernelspec": {
   "display_name": "Python 3",
   "language": "python",
   "name": "python3"
  },
  "language_info": {
   "codemirror_mode": {
    "name": "ipython",
    "version": 3
   },
   "file_extension": ".py",
   "mimetype": "text/x-python",
   "name": "python",
   "nbconvert_exporter": "python",
   "pygments_lexer": "ipython3",
   "version": "3.10.4"
  },
  "orig_nbformat": 4
 },
 "nbformat": 4,
 "nbformat_minor": 2
}
