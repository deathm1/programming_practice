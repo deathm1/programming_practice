{
 "cells": [
  {
   "attachments": {},
   "cell_type": "markdown",
   "metadata": {},
   "source": [
    "### Count Number of Digits"
   ]
  },
  {
   "cell_type": "code",
   "execution_count": 1,
   "metadata": {},
   "outputs": [
    {
     "name": "stdout",
     "output_type": "stream",
     "text": [
      "4\n"
     ]
    }
   ],
   "source": [
    "# // - Floor Division, divide the first argument by the second and round the result \n",
    "# down to the nearest whole number\n",
    "def count_digits(n : int):\n",
    "    ctr = 0\n",
    "    while (n>0):\n",
    "        n = n//10\n",
    "        ctr+=1\n",
    "    return ctr\n",
    "\n",
    "print(count_digits(9540))"
   ]
  },
  {
   "attachments": {},
   "cell_type": "markdown",
   "metadata": {},
   "source": [
    "### Palindrome Numbers\n",
    "Read the number from left to right or right to left the number reads the same. Ex - 78987"
   ]
  },
  {
   "cell_type": "code",
   "execution_count": 2,
   "metadata": {},
   "outputs": [
    {
     "name": "stdout",
     "output_type": "stream",
     "text": [
      "Is Palindrom : False\n"
     ]
    }
   ],
   "source": [
    "def is_palindrom(n : int):\n",
    "    temp = n\n",
    "    reverse_number_constructor = 0\n",
    "    while(temp>0):\n",
    "        # get last digit\n",
    "        last_digit = temp % 10\n",
    "        # construct the reverse of the number with last digit\n",
    "        reverse_number_constructor = reverse_number_constructor * 10 + last_digit\n",
    "        # remove the last digit from the temp\n",
    "        temp = temp // 10\n",
    "    \n",
    "    if(reverse_number_constructor==n):\n",
    "        return True\n",
    "    return False\n",
    "\n",
    "print(f\"Is Palindrom : {is_palindrom(4553)}\")"
   ]
  },
  {
   "attachments": {},
   "cell_type": "markdown",
   "metadata": {},
   "source": [
    "### Factorial of a number\n",
    "T(n) = T(n-1) + C\n",
    "recursive approach is slightly inefficient because the function call stack will take auxiliary space."
   ]
  },
  {
   "cell_type": "code",
   "execution_count": 3,
   "metadata": {},
   "outputs": [
    {
     "name": "stdout",
     "output_type": "stream",
     "text": [
      "6 6\n"
     ]
    }
   ],
   "source": [
    "def get_factorial_of_a_number(n : int):\n",
    "    if(n==0):\n",
    "        return 1\n",
    "    return n*(n-1)\n",
    "\n",
    "def get_factorial_of_a_number_efficient(n : int):\n",
    "    res = 1\n",
    "    for i in range(2, n+1):\n",
    "        res = res * i\n",
    "    return res\n",
    "print(get_factorial_of_a_number_efficient(3), get_factorial_of_a_number(3))"
   ]
  },
  {
   "attachments": {},
   "cell_type": "markdown",
   "metadata": {},
   "source": [
    "### Get LCM of two numbers"
   ]
  },
  {
   "cell_type": "code",
   "execution_count": 4,
   "metadata": {},
   "outputs": [
    {
     "name": "stdout",
     "output_type": "stream",
     "text": [
      "12\n"
     ]
    }
   ],
   "source": [
    "def get_lcm_of_two_numbers(a : int, b : int):\n",
    "    # we know lcm of two numbers is going to be greater than the max of two numbers.\n",
    "    res = max(a,b)\n",
    "    # we will keep on incrementing the res till it is divisible by both a and b\n",
    "    # here the TC would be \n",
    "    # theeta(axb-max(axb))\n",
    "    while True:\n",
    "        if(res % a == 0 and res % b == 0):\n",
    "            return res\n",
    "        res+=1\n",
    "# we know a*b=gcd(a,b)*lcm(a,b)\n",
    "# here the time complexity would be same as of that of gcd\n",
    "# O(log(min(a,b)))\n",
    "def get_gcd(a : int, b : int):\n",
    "    if b==0:\n",
    "        return a\n",
    "    return get_gcd(b, a%b)\n",
    "def get_lcm_of_two_numbers_efficient(a : int, b : int):\n",
    "    return a*b // get_gcd(a,b)\n",
    "print(get_lcm_of_two_numbers_efficient(4,6))"
   ]
  },
  {
   "attachments": {},
   "cell_type": "markdown",
   "metadata": {},
   "source": [
    "### check if the number is prime ?\n",
    "\n",
    "Divisors always appears in pairs\n",
    "<br>\n",
    "if (x,y) is in pair\n",
    "<br>\n",
    "and if x<=y \n",
    "<br>\n",
    "x*x<=n\n",
    "<br>\n",
    "x<=sqrt(n)"
   ]
  },
  {
   "attachments": {},
   "cell_type": "markdown",
   "metadata": {},
   "source": [
    "### "
   ]
  },
  {
   "cell_type": "code",
   "execution_count": 5,
   "metadata": {},
   "outputs": [
    {
     "name": "stdout",
     "output_type": "stream",
     "text": [
      "True\n"
     ]
    }
   ],
   "source": [
    "def is_prime(n : int):#O(n)\n",
    "    if(n==1):\n",
    "        return False\n",
    "    for i in range(2, n):\n",
    "        if(n%i==0):\n",
    "            return False\n",
    "    return True\n",
    "def is_prime_efficient(n : int):#O(sqrt(n))\n",
    "    if(n==1):\n",
    "        return False\n",
    "    i = 2\n",
    "    while(i*i<=n):\n",
    "        if(n%i==0):\n",
    "            return False\n",
    "        i+=1\n",
    "    return True\n",
    "\n",
    "def is_prime_best(n : int):\n",
    "    if(n==1):\n",
    "        return False\n",
    "    if(n==2 or n==3):\n",
    "        return True\n",
    "    if(n%2==0 or n%3==0):\n",
    "        return False\n",
    "    \n",
    "    i = 5\n",
    "\n",
    "    while(i*i<=n):\n",
    "        if((n%i==0) or (n%(i+2)==0)):\n",
    "            return False\n",
    "        i+=6\n",
    "    return True\n",
    "print(is_prime_best(13))"
   ]
  },
  {
   "attachments": {},
   "cell_type": "markdown",
   "metadata": {},
   "source": [
    "### Print prime factorization\n",
    "n = 100\n",
    "<br>\n",
    "2 2 5 5 "
   ]
  },
  {
   "cell_type": "code",
   "execution_count": 6,
   "metadata": {},
   "outputs": [
    {
     "name": "stdout",
     "output_type": "stream",
     "text": [
      "2\n",
      "2\n",
      "5\n",
      "5\n",
      "None\n",
      "2\n",
      "2\n",
      "5\n",
      "5\n",
      "None\n"
     ]
    }
   ],
   "source": [
    "def prime_factors(n : int):\n",
    "    for i in range(2, n+1):\n",
    "        if(is_prime(i)):\n",
    "            x = i\n",
    "            while(n%x==0):\n",
    "                print(i)\n",
    "                x=x*i\n",
    "\n",
    "print(prime_factors(100))\n",
    "\n",
    "\n",
    "def prime_factors_efficient(n : int):\n",
    "    for i in range(2, n+1):\n",
    "        if(is_prime(i)):\n",
    "            x = i\n",
    "            while(n%x==0):\n",
    "                print(i)\n",
    "                x=x*i\n",
    "\n",
    "print(prime_factors(100))"
   ]
  },
  {
   "attachments": {},
   "cell_type": "markdown",
   "metadata": {},
   "source": [
    "### Print all divisors of a number\n",
    "\n",
    "Divisors always appears in pairs\n",
    "<br>\n",
    "(1,30),(2,15),(3,10)\n",
    "\n",
    "<br>\n",
    "if (x,y) is in pair\n",
    "<br>\n",
    "and if x<=y \n",
    "<br>\n",
    "x*x<=n\n",
    "<br>\n",
    "x<=sqrt(n)"
   ]
  },
  {
   "cell_type": "code",
   "execution_count": 23,
   "metadata": {},
   "outputs": [
    {
     "name": "stdout",
     "output_type": "stream",
     "text": [
      "1\n",
      "2\n",
      "5\n",
      "10\n",
      "25\n",
      "50\n"
     ]
    }
   ],
   "source": [
    "def get_divisors(n : int): # TC : theeta(n) and AS : theeta(1)\n",
    "    for i in range(1, n+1):\n",
    "        if(n%i==0):\n",
    "            print(i)\n",
    "\n",
    "def get_divisors_efficient(n : int):# TC : theeta(sqrt(n)) and AS : theeta(1)\n",
    "    i = 1\n",
    "    #run a loop till sqrt(n)\n",
    "    while(i*i<=n):\n",
    "        if(n%i==0):\n",
    "            print(i)\n",
    "            div = n//i\n",
    "            if(i!=div):\n",
    "                print(div)\n",
    "        i+=1\n",
    " \n",
    "def get_divisors_efficient_sorted(n : int):# TC : theeta(sqrt(n)) and AS : theeta(1)\n",
    "    i=1\n",
    "\n",
    "    # to sqrt(n)\n",
    "    while(i*i<n):\n",
    "        if(n%i==0):\n",
    "            print(i)\n",
    "        i+=1\n",
    "    # from sqrt(n) to 1\n",
    "    while(i>=1):\n",
    "        if(n%i==0):\n",
    "            print(n//i)\n",
    "        i-=1\n",
    "\n",
    "get_divisors_efficient_sorted(50)"
   ]
  }
 ],
 "metadata": {
  "kernelspec": {
   "display_name": "Python 3",
   "language": "python",
   "name": "python3"
  },
  "language_info": {
   "codemirror_mode": {
    "name": "ipython",
    "version": 3
   },
   "file_extension": ".py",
   "mimetype": "text/x-python",
   "name": "python",
   "nbconvert_exporter": "python",
   "pygments_lexer": "ipython3",
   "version": "3.11.2"
  },
  "orig_nbformat": 4
 },
 "nbformat": 4,
 "nbformat_minor": 2
}
