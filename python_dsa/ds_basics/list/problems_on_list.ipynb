{
 "cells": [
  {
   "cell_type": "markdown",
   "metadata": {},
   "source": [
    "# Separate Odd and Even\n"
   ]
  },
  {
   "cell_type": "code",
   "execution_count": 19,
   "metadata": {},
   "outputs": [
    {
     "name": "stdout",
     "output_type": "stream",
     "text": [
      "([2, 4, 6, 8, 10], [1, 3, 5, 7, 9])\n"
     ]
    }
   ],
   "source": [
    "def separate_odd_even(my_input_list: list):\n",
    "    my_even_list = []\n",
    "    my_odd_lisr = []\n",
    "\n",
    "    for item in my_input_list:\n",
    "        if (item % 2 == 0):\n",
    "            my_even_list.append(item)\n",
    "        else:\n",
    "            my_odd_lisr.append(item)\n",
    "    return my_even_list, my_odd_lisr\n",
    "\n",
    "\n",
    "print(separate_odd_even([1, 2, 3, 4, 5, 6, 7, 8, 9, 10]))"
   ]
  },
  {
   "cell_type": "markdown",
   "metadata": {},
   "source": [
    "# Return Smaller Elements\n"
   ]
  },
  {
   "cell_type": "code",
   "execution_count": 20,
   "metadata": {},
   "outputs": [
    {
     "name": "stdout",
     "output_type": "stream",
     "text": [
      "[1, 2, 3, 4, 5]\n"
     ]
    }
   ],
   "source": [
    "def get_smaller_elements(my_list: list, my_thresh: int):\n",
    "    my_res_list = []\n",
    "\n",
    "    for item in my_list:\n",
    "        if item < my_thresh:\n",
    "            my_res_list.append(item)\n",
    "\n",
    "    return my_res_list\n",
    "\n",
    "\n",
    "print(get_smaller_elements([1, 2, 3, 4, 5, 6, 7, 8, 9, 10], 6))"
   ]
  },
  {
   "cell_type": "markdown",
   "metadata": {},
   "source": [
    "# Find largest element in a list\n"
   ]
  },
  {
   "cell_type": "code",
   "execution_count": 21,
   "metadata": {},
   "outputs": [
    {
     "name": "stdout",
     "output_type": "stream",
     "text": [
      "10\n"
     ]
    }
   ],
   "source": [
    "def find_largest_element_in_list(my_list: list):\n",
    "    res = my_list[0]\n",
    "\n",
    "    for x in range(1, len(my_list)):\n",
    "        if my_list[x] > res:\n",
    "            res = my_list[x]\n",
    "    return res\n",
    "\n",
    "\n",
    "print(find_largest_element_in_list([1, 2, 3, 4, 5, 6, 7, 8, 9, 10]))"
   ]
  },
  {
   "cell_type": "markdown",
   "metadata": {},
   "source": [
    "# Second largest integer in a list\n"
   ]
  },
  {
   "cell_type": "code",
   "execution_count": 24,
   "metadata": {},
   "outputs": [
    {
     "name": "stdout",
     "output_type": "stream",
     "text": [
      "(20, 18)\n"
     ]
    }
   ],
   "source": [
    "def second_largest_element_in_list(my_list: list):\n",
    "    large = my_list[0]\n",
    "    slarge = None\n",
    "\n",
    "    for x in range(1, len(my_list)):\n",
    "        if my_list[x] > large:\n",
    "            slarge = large\n",
    "            large = my_list[x]\n",
    "        if my_list[x] != large:\n",
    "            if slarge == None or my_list[x] > slarge:\n",
    "                slarge = my_list[x]\n",
    "\n",
    "    return large, slarge\n",
    "\n",
    "\n",
    "print(second_largest_element_in_list([20, 20, 18]))"
   ]
  }
 ],
 "metadata": {
  "kernelspec": {
   "display_name": "Python 3",
   "language": "python",
   "name": "python3"
  },
  "language_info": {
   "codemirror_mode": {
    "name": "ipython",
    "version": 3
   },
   "file_extension": ".py",
   "mimetype": "text/x-python",
   "name": "python",
   "nbconvert_exporter": "python",
   "pygments_lexer": "ipython3",
   "version": "3.10.4"
  },
  "orig_nbformat": 4
 },
 "nbformat": 4,
 "nbformat_minor": 2
}
