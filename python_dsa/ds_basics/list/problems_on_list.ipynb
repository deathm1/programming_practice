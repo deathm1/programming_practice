{
 "cells": [
  {
   "cell_type": "markdown",
   "metadata": {},
   "source": [
    "# Separate Odd and Even\n"
   ]
  },
  {
   "cell_type": "code",
   "execution_count": 8,
   "metadata": {},
   "outputs": [
    {
     "name": "stdout",
     "output_type": "stream",
     "text": [
      "([2, 4, 6, 8, 10], [1, 3, 5, 7, 9])\n"
     ]
    }
   ],
   "source": [
    "def separate_odd_even(my_input_list: list):\n",
    "    my_even_list = []\n",
    "    my_odd_lisr = []\n",
    "\n",
    "    for item in my_input_list:\n",
    "        if (item % 2 == 0):\n",
    "            my_even_list.append(item)\n",
    "        else:\n",
    "            my_odd_lisr.append(item)\n",
    "    return my_even_list, my_odd_lisr\n",
    "\n",
    "\n",
    "print(separate_odd_even([1, 2, 3, 4, 5, 6, 7, 8, 9, 10]))"
   ]
  },
  {
   "cell_type": "markdown",
   "metadata": {},
   "source": [
    "# Return Smaller Elements\n"
   ]
  },
  {
   "cell_type": "code",
   "execution_count": 9,
   "metadata": {},
   "outputs": [
    {
     "name": "stdout",
     "output_type": "stream",
     "text": [
      "[1, 2, 3, 4, 5]\n"
     ]
    }
   ],
   "source": [
    "def get_smaller_elements(my_list: list, my_thresh: int):\n",
    "    my_res_list = []\n",
    "\n",
    "    for item in my_list:\n",
    "        if item < my_thresh:\n",
    "            my_res_list.append(item)\n",
    "\n",
    "    return my_res_list\n",
    "\n",
    "\n",
    "print(get_smaller_elements([1, 2, 3, 4, 5, 6, 7, 8, 9, 10], 6))"
   ]
  },
  {
   "cell_type": "markdown",
   "metadata": {},
   "source": [
    "# Find largest element in a list\n"
   ]
  },
  {
   "cell_type": "code",
   "execution_count": 10,
   "metadata": {},
   "outputs": [
    {
     "name": "stdout",
     "output_type": "stream",
     "text": [
      "10\n"
     ]
    }
   ],
   "source": [
    "def find_largest_element_in_list(my_list: list):\n",
    "    res = my_list[0]\n",
    "\n",
    "    for x in range(1, len(my_list)):\n",
    "        if my_list[x] > res:\n",
    "            res = my_list[x]\n",
    "    return res\n",
    "\n",
    "\n",
    "print(find_largest_element_in_list([1, 2, 3, 4, 5, 6, 7, 8, 9, 10]))"
   ]
  },
  {
   "cell_type": "markdown",
   "metadata": {},
   "source": [
    "# Second largest integer in a list\n"
   ]
  },
  {
   "cell_type": "code",
   "execution_count": 18,
   "metadata": {},
   "outputs": [
    {
     "name": "stdout",
     "output_type": "stream",
     "text": [
      "(433, 45)\n"
     ]
    }
   ],
   "source": [
    "def second_largest_element_in_list(my_list: list):\n",
    "    large = my_list[0]\n",
    "    slarge = None\n",
    "    for x in range(1, len(my_list)):\n",
    "        if my_list[x] > large:\n",
    "            slarge = large\n",
    "            large = my_list[x]\n",
    "        if my_list[x] != large:\n",
    "            if slarge == None or my_list[x] > slarge:\n",
    "                slarge = my_list[x]\n",
    "    return large, slarge\n",
    "\n",
    "print(second_largest_element_in_list([20, 20, 18, 13, 45, 433, 3, 2,1]))"
   ]
  },
  {
   "cell_type": "markdown",
   "metadata": {},
   "source": [
    "# Check if a list is sorted\n"
   ]
  },
  {
   "cell_type": "code",
   "execution_count": 12,
   "metadata": {},
   "outputs": [
    {
     "name": "stdout",
     "output_type": "stream",
     "text": [
      "False\n"
     ]
    }
   ],
   "source": [
    "def check_if_list_is_sorted(my_list):\n",
    "    init_elem = my_list[0]\n",
    "    \n",
    "    for x in my_list[1:]:\n",
    "        if x > init_elem:\n",
    "            init_elem = x\n",
    "            return True\n",
    "        return False\n",
    "\n",
    "print(check_if_list_is_sorted([4, 1, 2, 3]))"
   ]
  },
  {
   "cell_type": "markdown",
   "metadata": {},
   "source": [
    "# Reverse a list Manually\n"
   ]
  },
  {
   "cell_type": "code",
   "execution_count": 13,
   "metadata": {},
   "outputs": [
    {
     "name": "stdout",
     "output_type": "stream",
     "text": [
      "[3, 2, 1]\n"
     ]
    }
   ],
   "source": [
    "def reverse_a_list(my_list: list):\n",
    "    start = 0\n",
    "    end = len(my_list) - 1\n",
    "    while start < end:\n",
    "        oldstart = my_list[start]\n",
    "        oldend = my_list[end]\n",
    "        my_list[start] = oldend\n",
    "        my_list[end] = oldstart\n",
    "        start+=1\n",
    "        end-=1\n",
    "    del oldstart\n",
    "    del oldend\n",
    "    del start\n",
    "    del end\n",
    "    return my_list\n",
    "\n",
    "\n",
    "\n",
    "print(reverse_a_list([1, 2, 3]))"
   ]
  },
  {
   "cell_type": "markdown",
   "metadata": {},
   "source": [
    "# Remove duplicates from a sorted array\n"
   ]
  },
  {
   "cell_type": "code",
   "execution_count": 14,
   "metadata": {},
   "outputs": [
    {
     "name": "stdout",
     "output_type": "stream",
     "text": [
      "[1, 1, 2]\n",
      "[1, 2, 2]\n",
      "2\n"
     ]
    }
   ],
   "source": [
    "def remove_duplicates_from_sorted_array(nums: list):\n",
    "    j = 1\n",
    "    for i in range(1, len(nums)):\n",
    "        if nums[i] != nums[i - 1]:\n",
    "            nums[j] = nums[i]\n",
    "            j += 1\n",
    "        print(nums)\n",
    "    return j\n",
    "print(remove_duplicates_from_sorted_array([1, 1, 2]))"
   ]
  },
  {
   "cell_type": "markdown",
   "metadata": {},
   "source": [
    "# Left rotate a list\n"
   ]
  },
  {
   "cell_type": "code",
   "execution_count": 15,
   "metadata": {},
   "outputs": [
    {
     "name": "stdout",
     "output_type": "stream",
     "text": [
      "[1, 3, 4, 5, 1]\n"
     ]
    }
   ],
   "source": [
    "def left_rotate_a_list(my_list: list):\n",
    "    store = my_list[0]\n",
    "\n",
    "    for i in range(1, len(my_list)):\n",
    "        my_list[i-1] = my_list[i]\n",
    "    my_list[len(my_list)-1] = store\n",
    "    return my_list\n",
    "\n",
    "print(left_rotate_a_list([1,1,3,4,5]))"
   ]
  },
  {
   "cell_type": "markdown",
   "metadata": {},
   "source": [
    "# Insert at index manually\n"
   ]
  },
  {
   "cell_type": "code",
   "execution_count": 16,
   "metadata": {},
   "outputs": [
    {
     "name": "stdout",
     "output_type": "stream",
     "text": [
      "[1, 1, 44, 3, 4, 5]\n"
     ]
    }
   ],
   "source": [
    "def insert_at_index_manually(my_list: list, index: int, element: int):\n",
    "    store_last_elem = my_list[len(my_list)-1]\n",
    "    for i in range(len(my_list)-1, -1, -1):\n",
    "        if(i>index):\n",
    "            my_list[i] = my_list[i-1]\n",
    "    my_list[index] = element\n",
    "    my_list.append(store_last_elem)\n",
    "    return my_list\n",
    "print(insert_at_index_manually([1,1,3,4,5], 2, 44))"
   ]
  },
  {
   "cell_type": "markdown",
   "metadata": {},
   "source": [
    "# Find median\n"
   ]
  },
  {
   "cell_type": "code",
   "execution_count": 17,
   "metadata": {},
   "outputs": [
    {
     "name": "stdout",
     "output_type": "stream",
     "text": [
      "[2, 3, 4, 8]\n",
      "3 4\n"
     ]
    },
    {
     "data": {
      "text/plain": [
       "3"
      ]
     },
     "execution_count": 17,
     "metadata": {},
     "output_type": "execute_result"
    }
   ],
   "source": [
    "def median(A):\n",
    "    A.sort()\n",
    "    print(A)\n",
    "    \n",
    "    mylen = len(A)\n",
    "    \n",
    "    if(mylen % 2 == 0):\n",
    "        num1 = A[mylen // 2 - 1]\n",
    "        num2 = A[(mylen // 2)]\n",
    "        print(num1, num2)\n",
    "        \n",
    "        return int((num1+num2) // 2)\n",
    "    else:\n",
    "        return A[mylen // 2]\n",
    "    \n",
    "median([2, 8, 3, 4])"
   ]
  },
  {
   "cell_type": "code",
   "execution_count": 25,
   "metadata": {},
   "outputs": [
    {
     "name": "stdout",
     "output_type": "stream",
     "text": [
      "[6, 1, 5, 2, 4, 3]\n"
     ]
    }
   ],
   "source": [
    "def min_max_form(my_arr:list):\n",
    "    my_arr2 = [float('-inf') for i in range(0, len(my_arr))]\n",
    "    low = 0\n",
    "    high = len(my_arr)-1\n",
    "    i = 0\n",
    "    while low<high:\n",
    "        my_arr2[i] = my_arr[high]\n",
    "        my_arr2[i+1] = my_arr[low]\n",
    "        low+=1\n",
    "        high-=1\n",
    "        i+=2\n",
    "\n",
    "    if len(my_arr)%2!=0:\n",
    "        my_arr2[-1] = my_arr[len(my_arr)//2]\n",
    "\n",
    "\n",
    "    return my_arr2\n",
    "\n",
    "\n",
    "\n",
    "print(min_max_form([1,2,3,4,5,6]))\n"
   ]
  }
 ],
 "metadata": {
  "kernelspec": {
   "display_name": "Python 3",
   "language": "python",
   "name": "python3"
  },
  "language_info": {
   "codemirror_mode": {
    "name": "ipython",
    "version": 3
   },
   "file_extension": ".py",
   "mimetype": "text/x-python",
   "name": "python",
   "nbconvert_exporter": "python",
   "pygments_lexer": "ipython3",
   "version": "3.12.2"
  },
  "orig_nbformat": 4
 },
 "nbformat": 4,
 "nbformat_minor": 2
}
