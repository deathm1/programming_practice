{
 "cells": [
  {
   "cell_type": "markdown",
   "metadata": {},
   "source": [
    "# Lists in Python\n"
   ]
  },
  {
   "cell_type": "markdown",
   "metadata": {},
   "source": [
    "## Introduction\n",
    "\n",
    "1. Dynamic Size\n",
    "2. Allowes Items of differnet size.\n",
    "3. Random Access\n",
    "4. Internally uses array data structure.\n",
    "\n",
    "NOTE: TC of append operation is constant if append is at the end and so is pop\n",
    "\n",
    "## Advantages\n",
    "\n",
    "1. Random Access\n",
    "2. Cache Friendlyness => locality of refernce\n",
    "\n",
    "## Disadvantages\n",
    "\n",
    "1. Insertions, Deletions, Search are slow, they take linear time\n",
    "2.\n"
   ]
  },
  {
   "cell_type": "code",
   "execution_count": 4,
   "metadata": {},
   "outputs": [
    {
     "name": "stdout",
     "output_type": "stream",
     "text": [
      "[10, 20, 30, 40, 50]\n"
     ]
    }
   ],
   "source": [
    "l = [10, 20, 30, 40, 50]\n",
    "print(l)"
   ]
  },
  {
   "cell_type": "markdown",
   "metadata": {},
   "source": [
    "## Accessing list items\n"
   ]
  },
  {
   "cell_type": "markdown",
   "metadata": {},
   "source": [
    "### Positive Indexing\n"
   ]
  },
  {
   "cell_type": "code",
   "execution_count": 5,
   "metadata": {},
   "outputs": [
    {
     "data": {
      "text/plain": [
       "40"
      ]
     },
     "execution_count": 5,
     "metadata": {},
     "output_type": "execute_result"
    }
   ],
   "source": [
    "l[3]"
   ]
  },
  {
   "cell_type": "markdown",
   "metadata": {},
   "source": [
    "### Negative Indexing\n"
   ]
  },
  {
   "cell_type": "code",
   "execution_count": 6,
   "metadata": {},
   "outputs": [
    {
     "name": "stdout",
     "output_type": "stream",
     "text": [
      "50 30\n"
     ]
    }
   ],
   "source": [
    "print(l[-1], l[-3])"
   ]
  },
  {
   "cell_type": "markdown",
   "metadata": {},
   "source": [
    "## Functions on List\n"
   ]
  },
  {
   "cell_type": "code",
   "execution_count": 7,
   "metadata": {},
   "outputs": [
    {
     "name": "stdout",
     "output_type": "stream",
     "text": [
      "[10, 20, 30, 40, 50, 30]\n"
     ]
    }
   ],
   "source": [
    "l.append(30)\n",
    "print(l)"
   ]
  },
  {
   "cell_type": "code",
   "execution_count": 8,
   "metadata": {},
   "outputs": [
    {
     "name": "stdout",
     "output_type": "stream",
     "text": [
      "[10, 150, 20, 30, 40, 50, 30]\n"
     ]
    }
   ],
   "source": [
    "l.insert(1, 150)\n",
    "print(l)"
   ]
  },
  {
   "cell_type": "code",
   "execution_count": 9,
   "metadata": {},
   "outputs": [
    {
     "name": "stdout",
     "output_type": "stream",
     "text": [
      "True\n"
     ]
    }
   ],
   "source": [
    "print(150 in l)"
   ]
  },
  {
   "cell_type": "code",
   "execution_count": 10,
   "metadata": {},
   "outputs": [
    {
     "name": "stdout",
     "output_type": "stream",
     "text": [
      "2\n"
     ]
    }
   ],
   "source": [
    "print(l.count(30))"
   ]
  },
  {
   "cell_type": "code",
   "execution_count": 11,
   "metadata": {},
   "outputs": [
    {
     "name": "stdout",
     "output_type": "stream",
     "text": [
      "3\n"
     ]
    }
   ],
   "source": [
    "print(l.index(30))  # index of first occurance of the item"
   ]
  },
  {
   "cell_type": "code",
   "execution_count": 12,
   "metadata": {},
   "outputs": [
    {
     "name": "stdout",
     "output_type": "stream",
     "text": [
      "6\n"
     ]
    }
   ],
   "source": [
    "print(l.index(30, 4, 7))  # search the element from index 4(inc) to 6(exc)"
   ]
  },
  {
   "cell_type": "markdown",
   "metadata": {},
   "source": [
    "## Removal functions on list\n"
   ]
  },
  {
   "cell_type": "code",
   "execution_count": 13,
   "metadata": {},
   "outputs": [
    {
     "name": "stdout",
     "output_type": "stream",
     "text": [
      "[10, 150, 30, 40, 50, 30]\n"
     ]
    }
   ],
   "source": [
    "l.remove(20)\n",
    "print(l)"
   ]
  },
  {
   "cell_type": "code",
   "execution_count": 14,
   "metadata": {},
   "outputs": [
    {
     "name": "stdout",
     "output_type": "stream",
     "text": [
      "30\n",
      "[10, 150, 30, 40, 50]\n"
     ]
    }
   ],
   "source": [
    "print(l.pop())\n",
    "print(l)"
   ]
  },
  {
   "cell_type": "code",
   "execution_count": 15,
   "metadata": {},
   "outputs": [
    {
     "name": "stdout",
     "output_type": "stream",
     "text": [
      "30\n",
      "[10, 150, 40, 50]\n"
     ]
    }
   ],
   "source": [
    "print(l.pop(2))\n",
    "print(l)"
   ]
  },
  {
   "cell_type": "code",
   "execution_count": 16,
   "metadata": {},
   "outputs": [
    {
     "name": "stdout",
     "output_type": "stream",
     "text": [
      "[10, 40, 50]\n"
     ]
    }
   ],
   "source": [
    "del l[1]\n",
    "print(l)"
   ]
  },
  {
   "cell_type": "code",
   "execution_count": 17,
   "metadata": {},
   "outputs": [
    {
     "name": "stdout",
     "output_type": "stream",
     "text": [
      "[50]\n"
     ]
    }
   ],
   "source": [
    "del l[0:2]  # 0(inc) and 2(exc)\n",
    "print(l)"
   ]
  },
  {
   "cell_type": "markdown",
   "metadata": {},
   "source": [
    "## Some general purpose functions on list\n"
   ]
  },
  {
   "cell_type": "code",
   "execution_count": 18,
   "metadata": {},
   "outputs": [],
   "source": [
    "l = [10, 20, 30, 40, 50]"
   ]
  },
  {
   "cell_type": "code",
   "execution_count": 19,
   "metadata": {},
   "outputs": [
    {
     "name": "stdout",
     "output_type": "stream",
     "text": [
      "50\n"
     ]
    }
   ],
   "source": [
    "print(max(l))"
   ]
  },
  {
   "cell_type": "code",
   "execution_count": 20,
   "metadata": {},
   "outputs": [
    {
     "name": "stdout",
     "output_type": "stream",
     "text": [
      "10\n"
     ]
    }
   ],
   "source": [
    "print(min(l))"
   ]
  },
  {
   "cell_type": "code",
   "execution_count": 21,
   "metadata": {},
   "outputs": [
    {
     "name": "stdout",
     "output_type": "stream",
     "text": [
      "150\n"
     ]
    }
   ],
   "source": [
    "print(sum(l))"
   ]
  },
  {
   "cell_type": "code",
   "execution_count": 22,
   "metadata": {},
   "outputs": [
    {
     "name": "stdout",
     "output_type": "stream",
     "text": [
      "[50, 40, 30, 20, 10]\n"
     ]
    }
   ],
   "source": [
    "l.reverse()\n",
    "print(l)"
   ]
  },
  {
   "cell_type": "code",
   "execution_count": 23,
   "metadata": {},
   "outputs": [
    {
     "name": "stdout",
     "output_type": "stream",
     "text": [
      "[10, 20, 30, 40, 50] [10, 20, 30, 40, 50]\n"
     ]
    }
   ],
   "source": [
    "l.sort()\n",
    "print(l)"
   ]
  },
  {
   "cell_type": "markdown",
   "metadata": {},
   "source": [
    "## List Slicing\n",
    "\n",
    "List slicing works on tuples and strings as well\n",
    "\n",
    "l[start: stop: step]\n",
    "\n",
    "start, start+step\n"
   ]
  },
  {
   "cell_type": "code",
   "execution_count": 24,
   "metadata": {},
   "outputs": [],
   "source": [
    "l = [10, 20, 30, 40, 50]"
   ]
  },
  {
   "cell_type": "code",
   "execution_count": 25,
   "metadata": {},
   "outputs": [
    {
     "name": "stdout",
     "output_type": "stream",
     "text": [
      "[10, 30, 50]\n"
     ]
    }
   ],
   "source": [
    "print(l[0: 5: 2])"
   ]
  },
  {
   "cell_type": "markdown",
   "metadata": {},
   "source": [
    "Default values are supplied if they are not provided.\n",
    "\n",
    "> start: 0\n",
    "\n",
    "> stop: len of list\n",
    "\n",
    "> step: 1\n"
   ]
  },
  {
   "cell_type": "code",
   "execution_count": 26,
   "metadata": {},
   "outputs": [
    {
     "name": "stdout",
     "output_type": "stream",
     "text": [
      "[10, 20, 30, 40, 50]\n",
      "[30, 40, 50]\n",
      "[10, 20, 30, 40]\n"
     ]
    }
   ],
   "source": [
    "print(l[:])\n",
    "print(l[2:])\n",
    "print(l[:4])"
   ]
  },
  {
   "cell_type": "markdown",
   "metadata": {},
   "source": [
    "We can have negative steps also\n"
   ]
  },
  {
   "cell_type": "code",
   "execution_count": 27,
   "metadata": {},
   "outputs": [
    {
     "name": "stdout",
     "output_type": "stream",
     "text": [
      "[50, 40, 30]\n",
      "[50, 40, 30, 20, 10]\n",
      "[50, 40, 30, 20, 10]\n"
     ]
    }
   ],
   "source": [
    "print(l[4:1:-1])\n",
    "print(l[::-1])\n",
    "print(l[-1:-6:-1])"
   ]
  },
  {
   "cell_type": "markdown",
   "metadata": {},
   "source": [
    "## Difference between List, Tuple and String Slicing\n"
   ]
  },
  {
   "cell_type": "code",
   "execution_count": 28,
   "metadata": {},
   "outputs": [],
   "source": [
    "l1 = [10, 20, 30, 40, 50]\n",
    "l2 = l1[:]\n",
    "t1 = (10, 20, 30, 40, 50)\n",
    "t2 = t1[:]\n",
    "s1 = \"test\"\n",
    "s2 = s1[:]"
   ]
  },
  {
   "cell_type": "code",
   "execution_count": 29,
   "metadata": {},
   "outputs": [
    {
     "name": "stdout",
     "output_type": "stream",
     "text": [
      "False\n",
      "True\n",
      "True\n"
     ]
    }
   ],
   "source": [
    "print(l1 is l2)\n",
    "print(t1 is t2)\n",
    "print(s1 is s2)"
   ]
  },
  {
   "cell_type": "markdown",
   "metadata": {},
   "source": [
    "This is because, tuples and strings are immutable, because of which python returns the refernce to same tuple or string. Whereas, in list, a new object is returned.\n"
   ]
  },
  {
   "cell_type": "markdown",
   "metadata": {},
   "source": [
    "# List comprehension in Python\n"
   ]
  },
  {
   "cell_type": "markdown",
   "metadata": {},
   "source": [
    "## Understanding range() function in python.\n",
    "\n",
    "Return an object that produces a sequence of integers from start (inclusive) to stop (exclusive) by step. range(i, j) produces i, i+1, i+2, ..., j-1. start defaults to 0, and stop is omitted! range(4) produces 0, 1, 2, 3. These are exactly the valid indices for a list of 4 elements. When step is given, it specifies the increment (or decrement).\n",
    "\n",
    "Syntax: range(start, stop, step)\n",
    "\n",
    "Parameter :\n",
    "\n",
    "    start: [ optional ] start value of the sequence (inclusive)\n",
    "    stop: next value after the end value of the sequence (exclusive)\n",
    "    step: [ optional ] integer value, denoting the difference between any two numbers in the sequence\n",
    "\n",
    "Return : Returns an object that represents a sequence of numbers\n"
   ]
  },
  {
   "cell_type": "code",
   "execution_count": 30,
   "metadata": {},
   "outputs": [
    {
     "name": "stdout",
     "output_type": "stream",
     "text": [
      "[0, 1, 2, 3, 4, 5, 6, 7, 8, 9]\n",
      "[10, 9, 8, 7, 6, 5, 4, 3, 2, 1]\n",
      "[1, 2, 3, 4, 5, 6, 7, 8, 9, 10]\n"
     ]
    }
   ],
   "source": [
    "print([x for x in range(0, 10, 1)])\n",
    "print([x for x in range(10, 0, -1)])\n",
    "print(list(range(1, 11, 1)))"
   ]
  },
  {
   "cell_type": "code",
   "execution_count": 31,
   "metadata": {},
   "outputs": [
    {
     "name": "stdout",
     "output_type": "stream",
     "text": [
      "[2, 4, 6, 8, 10]\n",
      "[1, 3, 5, 7, 9]\n"
     ]
    }
   ],
   "source": [
    "print([x for x in range(1, 11, 1) if x % 2 == 0])\n",
    "print([x for x in range(1, 11, 1) if x % 2 != 0])"
   ]
  },
  {
   "cell_type": "code",
   "execution_count": 32,
   "metadata": {},
   "outputs": [
    {
     "name": "stdout",
     "output_type": "stream",
     "text": [
      "['o', 'e', 'i']\n",
      "['asd2werwer', 'asaok2hoiu2']\n"
     ]
    }
   ],
   "source": [
    "mystr = \"somestring\"\n",
    "print([x for x in mystr if x in \"aeiou\"])\n",
    "myarr = [\"somestring\", \"asd2werwer\", \"asaok2hoiu2\", \"sdfosoufh2i\"]\n",
    "print([x for x in myarr if x.startswith(\"a\")])"
   ]
  },
  {
   "cell_type": "markdown",
   "metadata": {},
   "source": [
    "## Set Comprehension\n"
   ]
  },
  {
   "cell_type": "code",
   "execution_count": 33,
   "metadata": {},
   "outputs": [
    {
     "name": "stdout",
     "output_type": "stream",
     "text": [
      "{1, 2, 3, 4, 5, 6}\n"
     ]
    }
   ],
   "source": [
    "myarr = [1, 2, 2, 3, 4, 5, 6, 6, 6, 6, 6]\n",
    "print({x for x in myarr})"
   ]
  },
  {
   "cell_type": "markdown",
   "metadata": {},
   "source": [
    "## Dictionary Comprehension\n"
   ]
  },
  {
   "cell_type": "code",
   "execution_count": 34,
   "metadata": {},
   "outputs": [
    {
     "name": "stdout",
     "output_type": "stream",
     "text": [
      "{1: 1, 2: 8, 3: 27, 4: 64, 5: 125, 6: 216}\n"
     ]
    }
   ],
   "source": [
    "myarr = [1, 2, 2, 3, 4, 5, 6, 6, 6, 6, 6]\n",
    "print({x: x**3 for x in myarr})"
   ]
  },
  {
   "cell_type": "markdown",
   "metadata": {},
   "source": [
    "## Creating a dictionary from two lists\n"
   ]
  },
  {
   "cell_type": "markdown",
   "metadata": {},
   "source": [
    "### Naive Way\n"
   ]
  },
  {
   "cell_type": "code",
   "execution_count": 35,
   "metadata": {},
   "outputs": [
    {
     "name": "stdout",
     "output_type": "stream",
     "text": [
      "{1: 'val', 2: 'val2', 3: 'val3', 4: 'val4', 5: 'val5'}\n"
     ]
    }
   ],
   "source": [
    "keylist = [1, 2, 3, 4, 5]\n",
    "vallist = [\"val\", \"val2\", \"val3\", \"val4\", \"val5\"]\n",
    "print({keylist[i]: vallist[i] for i in range(5)})"
   ]
  },
  {
   "cell_type": "markdown",
   "metadata": {},
   "source": [
    "### Better Approach\n",
    "\n",
    "zip creates tuples of value mappings\n"
   ]
  },
  {
   "cell_type": "code",
   "execution_count": 36,
   "metadata": {},
   "outputs": [
    {
     "name": "stdout",
     "output_type": "stream",
     "text": [
      "{1: 'val', 2: 'val2', 3: 'val3', 4: 'val4', 5: 'val5'}\n"
     ]
    }
   ],
   "source": [
    "keylist = [1, 2, 3, 4, 5]\n",
    "vallist = [\"val\", \"val2\", \"val3\", \"val4\", \"val5\"]\n",
    "print(dict(zip(keylist, vallist)))"
   ]
  },
  {
   "cell_type": "markdown",
   "metadata": {},
   "source": [
    "## Inverting Dictionary mappings\n"
   ]
  },
  {
   "cell_type": "code",
   "execution_count": 37,
   "metadata": {},
   "outputs": [
    {
     "name": "stdout",
     "output_type": "stream",
     "text": [
      "{'val': 1, 'val2': 2, 'val3': 3, 'val4': 4, 'val5': 5}\n"
     ]
    }
   ],
   "source": [
    "keylist = [1, 2, 3, 4, 5]\n",
    "vallist = [\"val\", \"val2\", \"val3\", \"val4\", \"val5\"]\n",
    "d2 = dict(zip(keylist, vallist))\n",
    "print({v: k for k, v in d2.items()})"
   ]
  },
  {
   "cell_type": "markdown",
   "metadata": {},
   "source": [
    "## Sort, Sorted, Reverse, Reversed\n"
   ]
  },
  {
   "cell_type": "code",
   "execution_count": 38,
   "metadata": {},
   "outputs": [
    {
     "name": "stdout",
     "output_type": "stream",
     "text": [
      "[1, 3, 2, 4, 5] [1, 2, 3, 4, 5]\n",
      "[1, 3, 2, 4, 5]\n",
      "[1, 2, 3, 4, 5]\n",
      "[1, 3, 2, 4, 5] [5, 4, 2, 3, 1]\n",
      "[1, 3, 2, 4, 5]\n",
      "[5, 4, 2, 3, 1]\n"
     ]
    }
   ],
   "source": [
    "keylist = [1, 3, 2, 4, 5]\n",
    "\n",
    "print(keylist, sorted(keylist))\n",
    "\n",
    "print(keylist)\n",
    "keylist.sort()\n",
    "print(keylist)\n",
    "\n",
    "keylist = [1, 3, 2, 4, 5]\n",
    "\n",
    "print(keylist, list(reversed(keylist)))\n",
    "\n",
    "print(keylist)\n",
    "keylist.reverse()\n",
    "print(keylist)\n",
    "\n"
   ]
  },
  {
   "cell_type": "markdown",
   "metadata": {},
   "source": [
    "| Feature        | List                      | Tuple                     | Set                       | Dictionary               |\n",
    "|----------------|---------------------------|---------------------------|---------------------------|--------------------------|\n",
    "| **Definition** | Ordered, mutable sequence | Ordered, immutable sequence | Unordered, mutable collection | Unordered, mutable key-value pairs |\n",
    "| **Syntax**     | `[]`                       | `()`                       | `{}`                       | `{key: value}`           |\n",
    "| **Indexing**   | Yes                       | Yes                       | No                        | No                       |\n",
    "| **Duplicates** | Yes                       | Yes                       | No                        | N/A (keys are unique)    |\n",
    "| **Mutable**    | Yes                       | No                        | Yes                       | Yes                      |\n",
    "| **Performance**| Slower for membership tests| Faster for membership tests | Faster for membership tests| Fast for lookups by key   |\n",
    "| **Use Case**   | Ordered collections with mutable elements | Fixed-size, ordered collections | Unique elements, fast membership tests | Key-value mappings, fast lookups |\n",
    "| **Methods**    | `.append()`, `.remove()`, `.extend()`, etc. | `.count()`, `.index()`      | `.add()`, `.remove()`, `.discard()`, etc. | `.keys()`, `.values()`, `.items()`, etc. |\n",
    "| **Use Case Example** | List of student names | Coordinates (e.g., `(x, y)`) | Unique set of tags | User profile information (e.g., `{'name': 'Alice', 'age': 30}`) |\n"
   ]
  },
  {
   "cell_type": "markdown",
   "metadata": {},
   "source": [
    "Certainly! Here's a comparison of the time and space complexities for common operations on Python lists, tuples, sets, and dictionaries, presented in a detailed table format using Markdown:\n",
    "\n",
    "\n",
    "| **Data Structure** | **Operation**       | **Time Complexity** | **Space Complexity** | **Description**                                           |\n",
    "|--------------------|----------------------|---------------------|----------------------|-----------------------------------------------------------|\n",
    "| **List**           | Access by Index      | \\(O(1)\\)            | \\(O(n)\\)             | Accessing an element by its index is constant time.      |\n",
    "|                    | Search (Average)     | \\(O(n)\\)            | \\(O(n)\\)             | Searching for an element takes linear time.             |\n",
    "|                    | Search (Worst)       | \\(O(n)\\)            | \\(O(n)\\)             | Worst-case is linear time, e.g., element not found.      |\n",
    "|                    | Insertion (End)      | \\(O(1)\\)            | \\(O(n)\\)             | Inserting at the end is constant time.                  |\n",
    "|                    | Insertion (Middle)   | \\(O(n)\\)            | \\(O(n)\\)             | Inserting in the middle requires shifting elements.      |\n",
    "|                    | Deletion (End)       | \\(O(1)\\)            | \\(O(n)\\)             | Deleting from the end is constant time.                 |\n",
    "|                    | Deletion (Middle)    | \\(O(n)\\)            | \\(O(n)\\)             | Deleting from the middle requires shifting elements.     |\n",
    "| **Tuple**          | Access by Index      | \\(O(1)\\)            | \\(O(n)\\)             | Accessing an element by its index is constant time.      |\n",
    "|                    | Search (Average)     | \\(O(n)\\)            | \\(O(n)\\)             | Searching for an element takes linear time.             |\n",
    "|                    | Search (Worst)       | \\(O(n)\\)            | \\(O(n)\\)             | Worst-case is linear time, e.g., element not found.      |\n",
    "|                    | Insertion            | Not Supported       | \\(O(n)\\)             | Tuples are immutable; insertion is not supported.       |\n",
    "|                    | Deletion             | Not Supported       | \\(O(n)\\)             | Tuples are immutable; deletion is not supported.        |\n",
    "| **Set**            | Access               | \\(O(1)\\)            | \\(O(n)\\)             | Average case for accessing elements.                    |\n",
    "|                    | Search (Average)     | \\(O(1)\\)            | \\(O(n)\\)             | Average case for checking membership.                   |\n",
    "|                    | Search (Worst)       | \\(O(1)\\)            | \\(O(n)\\)             | Worst case is constant time.                            |\n",
    "|                    | Insertion            | \\(O(1)\\)            | \\(O(n)\\)             | Insertion of an element is constant time.               |\n",
    "|                    | Deletion             | \\(O(1)\\)            | \\(O(n)\\)             | Deletion of an element is constant time.                |\n",
    "| **Dictionary**     | Access by Key        | \\(O(1)\\)            | \\(O(n)\\)             | Average case for accessing values by keys.              |\n",
    "|                    | Search by Key        | \\(O(1)\\)            | \\(O(n)\\)             | Average case for checking key membership.               |\n",
    "|                    | Search by Key (Worst)| \\(O(1)\\)            | \\(O(n)\\)             | Worst case is constant time.                            |\n",
    "|                    | Insertion            | \\(O(1)\\)            | \\(O(n)\\)             | Insertion of key-value pairs is constant time.          |\n",
    "|                    | Deletion             | \\(O(1)\\)            | \\(O(n)\\)             | Deletion of key-value pairs is constant time.           |\n",
    "\n",
    "\n",
    "### Explanation:\n",
    "\n",
    "- **Time Complexity**: The amount of time an operation takes relative to the number of elements.\n",
    "- **Space Complexity**: The amount of additional memory required by the data structure to perform the operation.\n",
    "\n",
    "#### List:\n",
    "- **Access by Index**: Fast, \\(O(1)\\) time.\n",
    "- **Search**: Linear time, \\(O(n)\\).\n",
    "- **Insertion/Deletion**: Depends on position; end is faster than middle due to shifting.\n",
    "\n",
    "#### Tuple:\n",
    "- **Access by Index**: Fast, \\(O(1)\\) time.\n",
    "- **Search**: Linear time, \\(O(n)\\).\n",
    "- **Insertion/Deletion**: Not possible as tuples are immutable.\n",
    "\n",
    "#### Set:\n",
    "- **Access/Search/Insertion/Deletion**: Average \\(O(1)\\) due to hash-based implementation. Worst-case can be constant time as well, but this depends on hash collisions.\n",
    "\n",
    "#### Dictionary:\n",
    "- **Access/Search/Insertion/Deletion**: Average \\(O(1)\\) due to hash-based implementation. Worst-case can also be constant time, but collisions might affect performance.\n",
    "\n",
    "This table provides a quick reference to understand the performance characteristics of these common data structures in Python."
   ]
  }
 ],
 "metadata": {
  "kernelspec": {
   "display_name": "Python 3",
   "language": "python",
   "name": "python3"
  },
  "language_info": {
   "codemirror_mode": {
    "name": "ipython",
    "version": 3
   },
   "file_extension": ".py",
   "mimetype": "text/x-python",
   "name": "python",
   "nbconvert_exporter": "python",
   "pygments_lexer": "ipython3",
   "version": "3.12.2"
  },
  "orig_nbformat": 4
 },
 "nbformat": 4,
 "nbformat_minor": 2
}
