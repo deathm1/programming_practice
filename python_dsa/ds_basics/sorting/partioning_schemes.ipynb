{
 "cells": [
  {
   "cell_type": "markdown",
   "metadata": {},
   "source": [
    "# Lomuto Partitioning Scheme\n",
    "\n",
    "Partitioning of an array based on a pivot of last element, in such a way all the equal and smaller elements are in left partition and all the greater elements are in the right partition.\n"
   ]
  },
  {
   "cell_type": "code",
   "execution_count": 15,
   "metadata": {},
   "outputs": [
    {
     "name": "stdout",
     "output_type": "stream",
     "text": [
      "([8, 5, 7, 9, 3, 10, 4], 1)\n"
     ]
    }
   ],
   "source": [
    "def lomuto_partition(arr: list, low: int, high: int):\n",
    "    pivot = arr[high]\n",
    "    i = low - 1\n",
    "    for j in range(low, high):\n",
    "        if(arr[j] <= pivot):\n",
    "            i+=1\n",
    "            arr[i], arr[j] = arr[j], arr[i]\n",
    "    arr[i+1], arr[high] = arr[high], arr[i+1]\n",
    "    return arr, i+1\n",
    "print(lomuto_partition([8,4,7,9,3,10,5], 0, 6))"
   ]
  },
  {
   "cell_type": "markdown",
   "metadata": {},
   "source": [
    "# Hoare's Partioning Scheme\n",
    "\n",
    "Same as Lomuto but the pivot is the first element. O(n)\n",
    "\n",
    "> No guarantee of pivot going to its correct position.\n"
   ]
  },
  {
   "cell_type": "code",
   "execution_count": 16,
   "metadata": {},
   "outputs": [
    {
     "name": "stdout",
     "output_type": "stream",
     "text": [
      "(3, [1, 3, 2, 4, 8, 7, 5, 10])\n",
      "(0, [10, 80, 30, 90, 50, 70])\n"
     ]
    }
   ],
   "source": [
    "def hoares_partition(arr: list, low: int, high: int):\n",
    "    pivot = arr[low]\n",
    "    i = low - 1\n",
    "    j = high + 1\n",
    "    while True:\n",
    "        i+=1\n",
    "        while arr[i] < pivot:\n",
    "            i+=1\n",
    "        j-=1\n",
    "        while arr[j] > pivot:\n",
    "            j-=1\n",
    "        if i>=j:\n",
    "            return j, arr\n",
    "        arr[i], arr[j] = arr[j], arr[i]\n",
    "\n",
    "print(hoares_partition([5,3,8,4,2,7,1,10], 0, 7))\n",
    "print(hoares_partition([10,80,30,90,50,70], 0, 5))"
   ]
  },
  {
   "cell_type": "markdown",
   "metadata": {},
   "source": [
    "# Notes\n",
    "\n",
    "1. Both of these are unstable.\n",
    "2. Hoare's scheme is more efficient than Lomuto’s partition scheme because it does three times fewer swaps on average, and it creates efficient partitions even when all values are equal.\n"
   ]
  }
 ],
 "metadata": {
  "kernelspec": {
   "display_name": "pythondev",
   "language": "python",
   "name": "python3"
  },
  "language_info": {
   "codemirror_mode": {
    "name": "ipython",
    "version": 3
   },
   "file_extension": ".py",
   "mimetype": "text/x-python",
   "name": "python",
   "nbconvert_exporter": "python",
   "pygments_lexer": "ipython3",
   "version": "3.11.4"
  },
  "orig_nbformat": 4
 },
 "nbformat": 4,
 "nbformat_minor": 2
}
