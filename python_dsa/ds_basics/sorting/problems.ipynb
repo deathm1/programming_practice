{
 "cells": [
  {
   "cell_type": "markdown",
   "metadata": {},
   "source": [
    "# Using the Sort Function\n"
   ]
  },
  {
   "cell_type": "code",
   "execution_count": 241,
   "metadata": {},
   "outputs": [
    {
     "name": "stdout",
     "output_type": "stream",
     "text": [
      "[4, 4, 5, 6, 7, 63]\n",
      "[63, 7, 6, 5, 4, 4]\n",
      "['abc', 'js', 'n']\n"
     ]
    }
   ],
   "source": [
    "l1 = [4,5,63,6,7,4]\n",
    "l1.sort()\n",
    "print(l1)\n",
    "l1.sort(reverse=True)\n",
    "print(l1)\n",
    "l1 = [\"n\", \"abc\", \"js\"]\n",
    "l1.sort()\n",
    "print(l1)"
   ]
  },
  {
   "cell_type": "markdown",
   "metadata": {},
   "source": [
    "# Sort accodring to return function\n"
   ]
  },
  {
   "cell_type": "code",
   "execution_count": 242,
   "metadata": {},
   "outputs": [
    {
     "name": "stdout",
     "output_type": "stream",
     "text": [
      "['e', 'pq', 'agh', 'abcd']\n",
      "['abcd', 'agh', 'pq', 'e']\n"
     ]
    }
   ],
   "source": [
    "l1 = [\"pq\", \"e\", \"abcd\", \"agh\"]\n",
    "def get_len(s : str):\n",
    "    return len(s)\n",
    "l1.sort(key=get_len)\n",
    "print(l1)\n",
    "l1.sort(key=get_len, reverse=True)\n",
    "print(l1)"
   ]
  },
  {
   "cell_type": "markdown",
   "metadata": {},
   "source": [
    "# Using Sorted in python\n"
   ]
  },
  {
   "cell_type": "code",
   "execution_count": 243,
   "metadata": {},
   "outputs": [
    {
     "name": "stdout",
     "output_type": "stream",
     "text": [
      "[4, 5, 63, 6, 7, 4] [4, 4, 5, 6, 7, 63]\n"
     ]
    }
   ],
   "source": [
    "l1 = [4,5,63,6,7,4]\n",
    "l2 = sorted(l1)\n",
    "print(l1, l2)"
   ]
  },
  {
   "cell_type": "markdown",
   "metadata": {},
   "source": [
    "## Using return function and key in sorted function\n"
   ]
  },
  {
   "cell_type": "code",
   "execution_count": 244,
   "metadata": {},
   "outputs": [
    {
     "name": "stdout",
     "output_type": "stream",
     "text": [
      "[4, -5, -63, 6, 7, 4] [-63, 7, 6, -5, 4, 4]\n"
     ]
    }
   ],
   "source": [
    "l1 = [4,-5,-63,6,7,4]\n",
    "l2 = sorted(l1, key=abs, reverse=True)\n",
    "print(l1, l2)"
   ]
  },
  {
   "cell_type": "markdown",
   "metadata": {},
   "source": [
    "## Sorting Tuples\n",
    "\n",
    "Returns a list because tuple is IMMUTABLE\n"
   ]
  },
  {
   "cell_type": "code",
   "execution_count": 245,
   "metadata": {},
   "outputs": [
    {
     "name": "stdout",
     "output_type": "stream",
     "text": [
      "(5, 4, 6, 3, 6, 4, 3) [3, 3, 4, 4, 5, 6, 6]\n"
     ]
    }
   ],
   "source": [
    "t1 = (5,4,6,3,6,4,3)\n",
    "t2 = sorted(t1)\n",
    "print(t1, t2)"
   ]
  },
  {
   "cell_type": "markdown",
   "metadata": {},
   "source": [
    "# Sorting sets\n",
    "\n",
    "Returns a list because tuple is IMMUTABLE\n"
   ]
  },
  {
   "cell_type": "code",
   "execution_count": 246,
   "metadata": {},
   "outputs": [
    {
     "name": "stdout",
     "output_type": "stream",
     "text": [
      "{'srt', 'abc', 'hgf', 'def'} ['abc', 'def', 'hgf', 'srt']\n"
     ]
    }
   ],
   "source": [
    "s1 = {\"hgf\", \"srt\", \"abc\", \"def\"}\n",
    "s2 = sorted(s1)\n",
    "print(s1,s2)"
   ]
  },
  {
   "cell_type": "markdown",
   "metadata": {},
   "source": [
    "## Sorting Strings\n"
   ]
  },
  {
   "cell_type": "code",
   "execution_count": 247,
   "metadata": {},
   "outputs": [
    {
     "name": "stdout",
     "output_type": "stream",
     "text": [
      "gfg ['f', 'g', 'g']\n"
     ]
    }
   ],
   "source": [
    "s1 = \"gfg\"\n",
    "s2 = sorted(s1)\n",
    "print(s1,s2)"
   ]
  },
  {
   "cell_type": "markdown",
   "metadata": {},
   "source": [
    "## Sorting dictionaries\n",
    "\n",
    "It returns all the keys in sorted order\n"
   ]
  },
  {
   "cell_type": "code",
   "execution_count": 248,
   "metadata": {},
   "outputs": [
    {
     "name": "stdout",
     "output_type": "stream",
     "text": [
      "{1: 'abc', 2: 'hij', 3: 'def'} [1, 2, 3]\n"
     ]
    }
   ],
   "source": [
    "l1 = [1,2,3]\n",
    "l2 = [\"abc\", \"hij\", \"def\"]\n",
    "mydict = dict(zip(l1,l2))\n",
    "mydict_sor = sorted(mydict)\n",
    "print(mydict, mydict_sor)"
   ]
  },
  {
   "cell_type": "markdown",
   "metadata": {},
   "source": [
    "## Sorting list of tuples\n",
    "\n",
    "Compares first element of the tuple is compared first\n"
   ]
  },
  {
   "cell_type": "code",
   "execution_count": 249,
   "metadata": {},
   "outputs": [
    {
     "name": "stdout",
     "output_type": "stream",
     "text": [
      "[(10, 15), (1, 8), (2, 3)] [(1, 8), (2, 3), (10, 15)]\n"
     ]
    }
   ],
   "source": [
    "lot = [(10,15), (1,8), (2,3)]\n",
    "lot2 = sorted(lot)\n",
    "print(lot, lot2)"
   ]
  },
  {
   "cell_type": "markdown",
   "metadata": {},
   "source": [
    "# Merge two sorted lists\n"
   ]
  },
  {
   "cell_type": "code",
   "execution_count": 250,
   "metadata": {},
   "outputs": [
    {
     "name": "stdout",
     "output_type": "stream",
     "text": [
      "[5, 6, 6, 10, 15, 30, 40]\n"
     ]
    }
   ],
   "source": [
    "def merge_sorted_lists(a : list, b : list):\n",
    "    # theeta(m+n)\n",
    "    i = 0\n",
    "    j = 0\n",
    "    res = []\n",
    "    while i<len(a) and j<len(b):\n",
    "        if(a[i]<=b[j]):\n",
    "            res.append(a[i])\n",
    "            i+=1\n",
    "        else:\n",
    "            res.append(b[j])\n",
    "            j+=1\n",
    "    while i<len(a):\n",
    "        res.append(a[i])\n",
    "        i+=1\n",
    "    while j<len(b):\n",
    "        res.append(b[j])\n",
    "        j+=1\n",
    "    return res\n",
    "print(\n",
    "    merge_sorted_lists(\n",
    "    a = [10, 15],\n",
    "    b = [5, 6, 6, 30, 40]\n",
    "    )\n",
    ")"
   ]
  },
  {
   "cell_type": "markdown",
   "metadata": {},
   "source": [
    "# Merge Subarrays\n"
   ]
  },
  {
   "cell_type": "code",
   "execution_count": 251,
   "metadata": {},
   "outputs": [
    {
     "name": "stdout",
     "output_type": "stream",
     "text": [
      "[8, 10, 11, 15, 20, 40, 55]\n"
     ]
    }
   ],
   "source": [
    "def merge_subarrays(\n",
    "    arr : list, \n",
    "    low : int, \n",
    "    mid: int, \n",
    "    high: int\n",
    "    ):\n",
    "    left = arr[low: mid+1]\n",
    "    right = arr[mid+1: high+1]\n",
    "    i = 0\n",
    "    j = 0\n",
    "    k = low\n",
    "    while i<len(left) and j<len(right):\n",
    "        if(left[i] <= right[j]):\n",
    "            arr[k] = left[i]\n",
    "            k+=1\n",
    "            i+=1\n",
    "        else:\n",
    "            arr[k] = right[i]\n",
    "            k+=1\n",
    "            j+=1\n",
    "    while i<len(left):\n",
    "        arr[k] = left[i]\n",
    "        k+=1\n",
    "        i+=1\n",
    "    while j<len(right):\n",
    "        arr[k] = right[j]\n",
    "        k+=1\n",
    "        j+=1\n",
    "    return arr\n",
    "print(\n",
    "    merge_subarrays(\n",
    "        arr = [10, 15, 20, 40, 8, 11, 55],\n",
    "        low = 0,\n",
    "        mid = 3,\n",
    "        high = 6\n",
    "    )\n",
    ")"
   ]
  }
 ],
 "metadata": {
  "kernelspec": {
   "display_name": "pythondev",
   "language": "python",
   "name": "python3"
  },
  "language_info": {
   "codemirror_mode": {
    "name": "ipython",
    "version": 3
   },
   "file_extension": ".py",
   "mimetype": "text/x-python",
   "name": "python",
   "nbconvert_exporter": "python",
   "pygments_lexer": "ipython3",
   "version": "3.11.4"
  },
  "orig_nbformat": 4
 },
 "nbformat": 4,
 "nbformat_minor": 2
}
