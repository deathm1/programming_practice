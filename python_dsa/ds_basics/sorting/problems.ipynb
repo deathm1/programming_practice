{
 "cells": [
  {
   "cell_type": "markdown",
   "metadata": {},
   "source": [
    "# Using the Sort Function\n"
   ]
  },
  {
   "cell_type": "code",
   "execution_count": 399,
   "metadata": {},
   "outputs": [
    {
     "name": "stdout",
     "output_type": "stream",
     "text": [
      "[4, 4, 5, 6, 7, 63]\n",
      "[63, 7, 6, 5, 4, 4]\n",
      "['abc', 'js', 'n']\n"
     ]
    }
   ],
   "source": [
    "l1 = [4,5,63,6,7,4]\n",
    "l1.sort()\n",
    "print(l1)\n",
    "l1.sort(reverse=True)\n",
    "print(l1)\n",
    "l1 = [\"n\", \"abc\", \"js\"]\n",
    "l1.sort()\n",
    "print(l1)"
   ]
  },
  {
   "cell_type": "markdown",
   "metadata": {},
   "source": [
    "# Sort accodring to return function\n"
   ]
  },
  {
   "cell_type": "code",
   "execution_count": 400,
   "metadata": {},
   "outputs": [
    {
     "name": "stdout",
     "output_type": "stream",
     "text": [
      "['e', 'pq', 'agh', 'abcd']\n",
      "['abcd', 'agh', 'pq', 'e']\n"
     ]
    }
   ],
   "source": [
    "l1 = [\"pq\", \"e\", \"abcd\", \"agh\"]\n",
    "def get_len(s : str):\n",
    "    return len(s)\n",
    "l1.sort(key=get_len)\n",
    "print(l1)\n",
    "l1.sort(key=get_len, reverse=True)\n",
    "print(l1)"
   ]
  },
  {
   "cell_type": "markdown",
   "metadata": {},
   "source": [
    "# Using Sorted in python\n"
   ]
  },
  {
   "cell_type": "code",
   "execution_count": 401,
   "metadata": {},
   "outputs": [
    {
     "name": "stdout",
     "output_type": "stream",
     "text": [
      "[4, 5, 63, 6, 7, 4] [4, 4, 5, 6, 7, 63]\n"
     ]
    }
   ],
   "source": [
    "l1 = [4,5,63,6,7,4]\n",
    "l2 = sorted(l1)\n",
    "print(l1, l2)"
   ]
  },
  {
   "cell_type": "markdown",
   "metadata": {},
   "source": [
    "## Using return function and key in sorted function\n"
   ]
  },
  {
   "cell_type": "code",
   "execution_count": 402,
   "metadata": {},
   "outputs": [
    {
     "name": "stdout",
     "output_type": "stream",
     "text": [
      "[4, -5, -63, 6, 7, 4] [-63, 7, 6, -5, 4, 4]\n"
     ]
    }
   ],
   "source": [
    "l1 = [4,-5,-63,6,7,4]\n",
    "l2 = sorted(l1, key=abs, reverse=True)\n",
    "print(l1, l2)"
   ]
  },
  {
   "cell_type": "markdown",
   "metadata": {},
   "source": [
    "## Sorting Tuples\n",
    "\n",
    "Returns a list because tuple is IMMUTABLE\n"
   ]
  },
  {
   "cell_type": "code",
   "execution_count": 403,
   "metadata": {},
   "outputs": [
    {
     "name": "stdout",
     "output_type": "stream",
     "text": [
      "(5, 4, 6, 3, 6, 4, 3) [3, 3, 4, 4, 5, 6, 6]\n"
     ]
    }
   ],
   "source": [
    "t1 = (5,4,6,3,6,4,3)\n",
    "t2 = sorted(t1)\n",
    "print(t1, t2)"
   ]
  },
  {
   "cell_type": "markdown",
   "metadata": {},
   "source": [
    "# Sorting sets\n",
    "\n",
    "Returns a list because tuple is IMMUTABLE\n"
   ]
  },
  {
   "cell_type": "code",
   "execution_count": 404,
   "metadata": {},
   "outputs": [
    {
     "name": "stdout",
     "output_type": "stream",
     "text": [
      "{'def', 'srt', 'hgf', 'abc'} ['abc', 'def', 'hgf', 'srt']\n"
     ]
    }
   ],
   "source": [
    "s1 = {\"hgf\", \"srt\", \"abc\", \"def\"}\n",
    "s2 = sorted(s1)\n",
    "print(s1,s2)"
   ]
  },
  {
   "cell_type": "markdown",
   "metadata": {},
   "source": [
    "## Sorting Strings\n"
   ]
  },
  {
   "cell_type": "code",
   "execution_count": 405,
   "metadata": {},
   "outputs": [
    {
     "name": "stdout",
     "output_type": "stream",
     "text": [
      "gfg ['f', 'g', 'g']\n"
     ]
    }
   ],
   "source": [
    "s1 = \"gfg\"\n",
    "s2 = sorted(s1)\n",
    "print(s1,s2)"
   ]
  },
  {
   "cell_type": "markdown",
   "metadata": {},
   "source": [
    "## Sorting dictionaries\n",
    "\n",
    "It returns all the keys in sorted order\n"
   ]
  },
  {
   "cell_type": "code",
   "execution_count": 406,
   "metadata": {},
   "outputs": [
    {
     "name": "stdout",
     "output_type": "stream",
     "text": [
      "{1: 'abc', 2: 'hij', 3: 'def'} [1, 2, 3]\n"
     ]
    }
   ],
   "source": [
    "l1 = [1,2,3]\n",
    "l2 = [\"abc\", \"hij\", \"def\"]\n",
    "mydict = dict(zip(l1,l2))\n",
    "mydict_sor = sorted(mydict)\n",
    "print(mydict, mydict_sor)"
   ]
  },
  {
   "cell_type": "markdown",
   "metadata": {},
   "source": [
    "## Sorting list of tuples\n",
    "\n",
    "Compares first element of the tuple is compared first\n"
   ]
  },
  {
   "cell_type": "code",
   "execution_count": 407,
   "metadata": {},
   "outputs": [
    {
     "name": "stdout",
     "output_type": "stream",
     "text": [
      "[(10, 15), (1, 8), (2, 3)] [(1, 8), (2, 3), (10, 15)]\n"
     ]
    }
   ],
   "source": [
    "lot = [(10,15), (1,8), (2,3)]\n",
    "lot2 = sorted(lot)\n",
    "print(lot, lot2)"
   ]
  },
  {
   "cell_type": "markdown",
   "metadata": {},
   "source": [
    "# Merge two sorted lists\n"
   ]
  },
  {
   "cell_type": "code",
   "execution_count": 408,
   "metadata": {},
   "outputs": [
    {
     "name": "stdout",
     "output_type": "stream",
     "text": [
      "[5, 6, 6, 10, 15, 30, 40]\n"
     ]
    }
   ],
   "source": [
    "def merge_sorted_lists(a : list, b : list):\n",
    "    # theeta(m+n)\n",
    "    i = 0\n",
    "    j = 0\n",
    "    res = []\n",
    "    while i<len(a) and j<len(b):\n",
    "        if(a[i]<=b[j]):\n",
    "            res.append(a[i])\n",
    "            i+=1\n",
    "        else:\n",
    "            res.append(b[j])\n",
    "            j+=1\n",
    "    while i<len(a):\n",
    "        res.append(a[i])\n",
    "        i+=1\n",
    "    while j<len(b):\n",
    "        res.append(b[j])\n",
    "        j+=1\n",
    "    return res\n",
    "print(\n",
    "    merge_sorted_lists(\n",
    "    a = [10, 15],\n",
    "    b = [5, 6, 6, 30, 40]\n",
    "    )\n",
    ")"
   ]
  },
  {
   "cell_type": "markdown",
   "metadata": {},
   "source": [
    "# Merge Subarrays\n"
   ]
  },
  {
   "cell_type": "code",
   "execution_count": 409,
   "metadata": {},
   "outputs": [
    {
     "name": "stdout",
     "output_type": "stream",
     "text": [
      "[8, 10, 11, 15, 20, 40, 55]\n"
     ]
    }
   ],
   "source": [
    "def merge_subarrays(\n",
    "    arr : list, \n",
    "    low : int, \n",
    "    mid: int, \n",
    "    high: int\n",
    "    ):\n",
    "    left = arr[low: mid+1]\n",
    "    right = arr[mid+1: high+1]\n",
    "    i = 0\n",
    "    j = 0\n",
    "    k = low\n",
    "    while i<len(left) and j<len(right):\n",
    "        if(left[i] <= right[j]):\n",
    "            arr[k] = left[i]\n",
    "            k+=1\n",
    "            i+=1\n",
    "        else:\n",
    "            arr[k] = right[i]\n",
    "            k+=1\n",
    "            j+=1\n",
    "    while i<len(left):\n",
    "        arr[k] = left[i]\n",
    "        k+=1\n",
    "        i+=1\n",
    "    while j<len(right):\n",
    "        arr[k] = right[j]\n",
    "        k+=1\n",
    "        j+=1\n",
    "    return arr\n",
    "print(\n",
    "    merge_subarrays(\n",
    "        arr = [10, 15, 20, 40, 8, 11, 55],\n",
    "        low = 0,\n",
    "        mid = 3,\n",
    "        high = 6\n",
    "    )\n",
    ")"
   ]
  },
  {
   "cell_type": "markdown",
   "metadata": {},
   "source": [
    "# Union of two sorted arrays\n"
   ]
  },
  {
   "cell_type": "code",
   "execution_count": 410,
   "metadata": {},
   "outputs": [
    {
     "name": "stdout",
     "output_type": "stream",
     "text": [
      "[1, 2, 3, 4, 5]\n"
     ]
    }
   ],
   "source": [
    "def get_union_of_sorted(arr1 : list, arr2 : list):\n",
    "    i = 0\n",
    "    j = 0\n",
    "    m = len(arr1)\n",
    "    n = len(arr2)\n",
    "    res = []\n",
    "    # tracks previous element\n",
    "    prev_elem = None\n",
    "    while(i<m and j<n):\n",
    "        if(arr1[i]<arr2[j]):\n",
    "            if(arr1[i]!=prev_elem):\n",
    "                res.append(arr1[i])\n",
    "                prev_elem = arr1[i]\n",
    "            i+=1\n",
    "        else:\n",
    "            if(arr2[j]!=prev_elem):\n",
    "                res.append(arr2[j])\n",
    "                prev_elem = arr2[j]\n",
    "            j+=1\n",
    "    while(i<m):\n",
    "        if(arr1[i]!=prev_elem):\n",
    "            res.append(arr1[i])\n",
    "        i+=1\n",
    "    while(j<n):\n",
    "        if(arr2[j]!=prev_elem):\n",
    "            res.append(arr2[j])\n",
    "        j+=1\n",
    "    return res\n",
    "print(\n",
    "    get_union_of_sorted(\n",
    "        arr1=[1,2,2,3,4],\n",
    "        arr2=[2,3,3,3,3,4,5]\n",
    "    )\n",
    ")"
   ]
  },
  {
   "cell_type": "markdown",
   "metadata": {},
   "source": [
    "# Intersection of two sorted arrays\n"
   ]
  },
  {
   "cell_type": "code",
   "execution_count": 411,
   "metadata": {},
   "outputs": [
    {
     "name": "stdout",
     "output_type": "stream",
     "text": [
      "[2, 3, 4]\n"
     ]
    }
   ],
   "source": [
    "def get_union_of_sorted(arr1 : list, arr2 : list):\n",
    "    i = 0\n",
    "    j = 0\n",
    "    m = len(arr1)\n",
    "    n = len(arr2)\n",
    "    res = []\n",
    "    prev_elem = None\n",
    "    while(i<m and j<n):\n",
    "        if(arr1[i]<arr2[j]):\n",
    "            i+=1\n",
    "        elif(arr1[i]>arr2[j]):\n",
    "            j+=1\n",
    "        else:\n",
    "            if(arr1[i] != prev_elem):\n",
    "                res.append(arr1[i])\n",
    "                prev_elem = arr1[i]\n",
    "            i+=1\n",
    "            j+=1\n",
    "    return res\n",
    "print(\n",
    "    get_union_of_sorted(\n",
    "        arr1=[1,2,2,3, 2, 4],\n",
    "        arr2=[2,2,3,3,3,4,5]\n",
    "    )\n",
    ")"
   ]
  },
  {
   "cell_type": "markdown",
   "metadata": {},
   "source": [
    "# Count number of inversions in merge sort.\n"
   ]
  },
  {
   "cell_type": "markdown",
   "metadata": {},
   "source": [
    "## Base Function\n"
   ]
  },
  {
   "cell_type": "code",
   "execution_count": 412,
   "metadata": {},
   "outputs": [],
   "source": [
    "def merge_arrays(arr: list, temp_arr: list, left: int, mid: int, right: int):\n",
    "    i = left\n",
    "    j = mid+1\n",
    "    k = left\n",
    "    inv_count = 0\n",
    "    while(i<=mid and j<=right):\n",
    "        if(arr[i] <= arr[j]):\n",
    "            temp_arr[k] = arr[i]\n",
    "            i+=1\n",
    "            k+=1\n",
    "        else:\n",
    "            temp_arr[k] = arr[j]\n",
    "            inv_count += (mid-i+1)\n",
    "            j+=1\n",
    "            k+=1\n",
    "    while i <= mid:\n",
    "        temp_arr[k] = arr[i]\n",
    "        k += 1\n",
    "        i += 1\n",
    "    while j <= right:\n",
    "        temp_arr[k] = arr[j]\n",
    "        k += 1\n",
    "        j += 1\n",
    "    for loop_var in range(left, right + 1):\n",
    "        arr[loop_var] = temp_arr[loop_var]\n",
    "    return inv_count"
   ]
  },
  {
   "cell_type": "markdown",
   "metadata": {},
   "source": [
    "## Driver Code\n"
   ]
  },
  {
   "cell_type": "code",
   "execution_count": 413,
   "metadata": {},
   "outputs": [],
   "source": [
    "def inv_merge_sort_driver(arr: list, temp_arr: list, left: int, right: int):\n",
    "    inv_count = 0\n",
    "    if(left<right):\n",
    "        mid = (left + right)//2\n",
    "        inv_count += inv_merge_sort_driver(arr, temp_arr, left, mid)\n",
    "        inv_count += inv_merge_sort_driver(arr, temp_arr, mid+1, right)\n",
    "        inv_count += merge_arrays(arr, temp_arr, left, mid, right)\n",
    "    return inv_count"
   ]
  },
  {
   "cell_type": "markdown",
   "metadata": {},
   "source": [
    "## test\n"
   ]
  },
  {
   "cell_type": "code",
   "execution_count": 414,
   "metadata": {},
   "outputs": [
    {
     "name": "stdout",
     "output_type": "stream",
     "text": [
      "5\n"
     ]
    }
   ],
   "source": [
    "def get_no_of_inversions(arr, n):\n",
    "    temp_arr = [0]*n\n",
    "    return inv_merge_sort_driver(arr, temp_arr, 0, n-1)\n",
    "print(get_no_of_inversions([10,5,30,15,7], 5))"
   ]
  }
 ],
 "metadata": {
  "kernelspec": {
   "display_name": "pythondev",
   "language": "python",
   "name": "python3"
  },
  "language_info": {
   "codemirror_mode": {
    "name": "ipython",
    "version": 3
   },
   "file_extension": ".py",
   "mimetype": "text/x-python",
   "name": "python",
   "nbconvert_exporter": "python",
   "pygments_lexer": "ipython3",
   "version": "3.11.4"
  },
  "orig_nbformat": 4
 },
 "nbformat": 4,
 "nbformat_minor": 2
}
