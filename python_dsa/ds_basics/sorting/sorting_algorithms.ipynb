{
 "cells": [
  {
   "cell_type": "markdown",
   "metadata": {},
   "source": [
    "# Bubble Sort\n"
   ]
  },
  {
   "cell_type": "code",
   "execution_count": 64,
   "metadata": {},
   "outputs": [
    {
     "data": {
      "text/plain": [
       "[4, 4, 5, 6, 7, 63]"
      ]
     },
     "execution_count": 64,
     "metadata": {},
     "output_type": "execute_result"
    }
   ],
   "source": [
    "def bubble_sort(arr : list):\n",
    "    passes = len(arr)\n",
    "    for i in range(passes-1):\n",
    "        ws_swapped = False\n",
    "        for j in range(passes - i - 1):\n",
    "            if (arr[j] > arr[j+1]):\n",
    "                arr[j], arr[j+1] = arr[j+1], arr[j]\n",
    "                ws_swapped = True\n",
    "        if(ws_swapped == False):\n",
    "            return arr\n",
    "    return arr\n",
    "bubble_sort(arr = [4,5,63,6,7,4])"
   ]
  },
  {
   "cell_type": "markdown",
   "metadata": {},
   "source": [
    "# Selection Sort\n"
   ]
  },
  {
   "cell_type": "code",
   "execution_count": 65,
   "metadata": {},
   "outputs": [
    {
     "name": "stdout",
     "output_type": "stream",
     "text": [
      "[4, 4, 5, 6, 7, 63]\n"
     ]
    }
   ],
   "source": [
    "def selection_sort(arr : list):\n",
    "    n = len(arr)\n",
    "    for i in range(n-1):\n",
    "        minimum = i\n",
    "        for j in range(i+1, n):\n",
    "            if(arr[j] < arr[minimum]):\n",
    "                minimum = j\n",
    "        arr[minimum], arr[i] = arr[i], arr[minimum]\n",
    "    return arr\n",
    "print(selection_sort(arr = [4,5,63,6,7,4]))"
   ]
  },
  {
   "cell_type": "markdown",
   "metadata": {},
   "source": [
    "# Insertion Sort\n"
   ]
  },
  {
   "cell_type": "code",
   "execution_count": 66,
   "metadata": {},
   "outputs": [
    {
     "name": "stdout",
     "output_type": "stream",
     "text": [
      "[4, 4, 5, 6, 7, 63]\n"
     ]
    }
   ],
   "source": [
    "def insertion_sort(arr: list):\n",
    "    for i in range(1, len(arr)):\n",
    "        x = arr[i]\n",
    "        j = i-1\n",
    "        while j>=0 and x<arr[j]:\n",
    "            arr[j+1] = arr[j]\n",
    "            j-=1\n",
    "        arr[j+1] = x\n",
    "    return arr\n",
    "print(insertion_sort(arr = [4,5,63,6,7,4]))"
   ]
  },
  {
   "cell_type": "markdown",
   "metadata": {},
   "source": [
    "# Merge Sort\n"
   ]
  },
  {
   "cell_type": "markdown",
   "metadata": {},
   "source": [
    "### Internal function that merges subarrays based on an index\n"
   ]
  },
  {
   "cell_type": "code",
   "execution_count": 67,
   "metadata": {},
   "outputs": [],
   "source": [
    "def merge_subarrays(arr: list, low: int, mid: int, high: int):\n",
    "    left = arr[low: mid+1]\n",
    "    right = arr[mid+1: high+1]\n",
    "    i = 0\n",
    "    j = 0 \n",
    "    k = low\n",
    "    while(i < len(left) and j< len(right)):\n",
    "        if(left[i] < right[j]):\n",
    "            arr[k] = left[i]\n",
    "            i+=1\n",
    "            k+=1\n",
    "        else:\n",
    "            arr[k] = right[j]\n",
    "            j+=1\n",
    "            k+=1\n",
    "    while(i<len(left)):\n",
    "        arr[k] = left[i]\n",
    "        i+=1\n",
    "        k+=1\n",
    "    while(j<len(right)):\n",
    "        arr[k] = right[j]\n",
    "        j+=1\n",
    "        k+=1\n",
    "    return arr"
   ]
  },
  {
   "cell_type": "markdown",
   "metadata": {},
   "source": [
    "### Driver Function\n"
   ]
  },
  {
   "cell_type": "code",
   "execution_count": 68,
   "metadata": {},
   "outputs": [
    {
     "name": "stdout",
     "output_type": "stream",
     "text": [
      "[5, 7, 10, 15, 30]\n"
     ]
    }
   ],
   "source": [
    "def merge_sort(arr : list, l : int, r : int):\n",
    "    if(r > l):\n",
    "        m = (l+r)//2\n",
    "        merge_sort(arr, l, m)\n",
    "        merge_sort(arr, m+1, r)\n",
    "        merge_subarrays(arr, l, m, r)\n",
    "arr = [10, 5, 30, 15, 7]\n",
    "merge_sort(arr, 0, 4)\n",
    "print(arr)"
   ]
  }
 ],
 "metadata": {
  "kernelspec": {
   "display_name": "pythondev",
   "language": "python",
   "name": "python3"
  },
  "language_info": {
   "codemirror_mode": {
    "name": "ipython",
    "version": 3
   },
   "file_extension": ".py",
   "mimetype": "text/x-python",
   "name": "python",
   "nbconvert_exporter": "python",
   "pygments_lexer": "ipython3",
   "version": "3.11.4"
  },
  "orig_nbformat": 4
 },
 "nbformat": 4,
 "nbformat_minor": 2
}
