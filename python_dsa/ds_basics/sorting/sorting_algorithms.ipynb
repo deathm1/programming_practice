{
 "cells": [
  {
   "cell_type": "markdown",
   "metadata": {},
   "source": [
    "Sure! Here's a comparison of Bubble Sort, Selection Sort, Insertion Sort, and Merge Sort, presented in a detailed table format using Markdown:\n",
    "\n",
    "| **Algorithm**      | **Best Case Time Complexity** | **Average Case Time Complexity** | **Worst Case Time Complexity** | **Space Complexity** | **Stability** | **In-Place** | **Description** |\n",
    "|--------------------|-------------------------------|----------------------------------|-------------------------------|----------------------|---------------|--------------|-----------------|\n",
    "| **Bubble Sort**    | \\(O(n)\\)                      | \\(O(n^2)\\)                        | \\(O(n^2)\\)                     | \\(O(1)\\)             | Stable        | Yes          | Repeatedly swaps adjacent elements if they are in the wrong order. |\n",
    "| **Selection Sort** | \\(O(n^2)\\)                    | \\(O(n^2)\\)                        | \\(O(n^2)\\)                     | \\(O(1)\\)             | Unstable      | Yes          | Selects the minimum (or maximum) element from the unsorted portion and swaps it with the first unsorted element. |\n",
    "| **Insertion Sort** | \\(O(n)\\)                      | \\(O(n^2)\\)                        | \\(O(n^2)\\)                     | \\(O(1)\\)             | Stable        | Yes          | Builds the final sorted array one item at a time by inserting each element into its correct position. |\n",
    "| **Merge Sort**     | \\(O(n \\log n)\\)               | \\(O(n \\log n)\\)                   | \\(O(n \\log n)\\)                | \\(O(n)\\)             | Stable        | No           | Divides the array into halves, recursively sorts each half, and then merges the sorted halves. |\n",
    "\n",
    "\n",
    "### Explanation of Each Column:\n",
    "\n",
    "- **Algorithm**: Name of the sorting algorithm.\n",
    "- **Best Case Time Complexity**: The time complexity of the algorithm in the best-case scenario.\n",
    "- **Average Case Time Complexity**: The time complexity of the algorithm in the average-case scenario.\n",
    "- **Worst Case Time Complexity**: The time complexity of the algorithm in the worst-case scenario.\n",
    "- **Space Complexity**: The amount of extra memory space required by the algorithm.\n",
    "- **Stability**: Whether the algorithm maintains the relative order of equal elements.\n",
    "- **In-Place**: Indicates whether the algorithm sorts the data without needing extra space proportional to the input size.\n",
    "- **Description**: Brief explanation of how the algorithm works.\n",
    "\n",
    "### Additional Notes:\n",
    "\n",
    "- **Bubble Sort**: Best suited for small lists due to its \\(O(n^2)\\) average and worst-case time complexity. It is a stable and in-place sort but generally not used for large datasets due to its inefficiency.\n",
    "- **Selection Sort**: Also has \\(O(n^2)\\) time complexity for all cases. It is not stable and is generally inefficient for large datasets. It is an in-place sort.\n",
    "- **Insertion Sort**: More efficient than Bubble and Selection Sort for small or partially sorted datasets, with best-case time complexity of \\(O(n)\\). It is stable and in-place.\n",
    "- **Merge Sort**: More efficient for large datasets with \\(O(n \\log n)\\) time complexity. It is a stable sort but requires additional space, making it less suitable for situations with very limited memory.\n",
    "\n",
    "This table should help in understanding the comparative aspects of these sorting algorithms."
   ]
  },
  {
   "cell_type": "markdown",
   "metadata": {},
   "source": [
    "# Bubble Sort\n"
   ]
  },
  {
   "cell_type": "code",
   "execution_count": 17,
   "metadata": {},
   "outputs": [
    {
     "data": {
      "text/plain": [
       "[4, 5, 6, 7, 63, 94, 99]"
      ]
     },
     "execution_count": 17,
     "metadata": {},
     "output_type": "execute_result"
    }
   ],
   "source": [
    "def bubble_sort(arr : list):\n",
    "    passes = len(arr)\n",
    "    for i in range(passes-1):\n",
    "        ws_swapped = False\n",
    "        for j in range(passes - i - 1):\n",
    "            if (arr[j] > arr[j+1]):\n",
    "                arr[j], arr[j+1] = arr[j+1], arr[j]\n",
    "                ws_swapped = True\n",
    "        if(ws_swapped == False):\n",
    "            return arr\n",
    "    return arr\n",
    "bubble_sort(arr = [4,5,63,6,7,99,94])"
   ]
  },
  {
   "cell_type": "markdown",
   "metadata": {},
   "source": [
    "# Selection Sort\n"
   ]
  },
  {
   "cell_type": "code",
   "execution_count": 18,
   "metadata": {},
   "outputs": [
    {
     "name": "stdout",
     "output_type": "stream",
     "text": [
      "[4, 4, 5, 6, 7, 63]\n"
     ]
    }
   ],
   "source": [
    "def selection_sort(arr : list):\n",
    "    n = len(arr)\n",
    "    for i in range(n-1):\n",
    "        minimum = i\n",
    "        for j in range(i+1, n):\n",
    "            if(arr[j] < arr[minimum]):\n",
    "                minimum = j\n",
    "        arr[minimum], arr[i] = arr[i], arr[minimum]\n",
    "    return arr\n",
    "print(selection_sort(arr = [4,5,63,6,7,4]))"
   ]
  },
  {
   "cell_type": "markdown",
   "metadata": {},
   "source": [
    "# Insertion Sort\n"
   ]
  },
  {
   "cell_type": "code",
   "execution_count": 20,
   "metadata": {},
   "outputs": [
    {
     "name": "stdout",
     "output_type": "stream",
     "text": [
      "[4, 4, 5, 6, 7, 63]\n"
     ]
    }
   ],
   "source": [
    "def insertion_sort(arr: list):\n",
    "    for i in range(1, len(arr)):\n",
    "\n",
    "        x = arr[i] # second stored 5, 63, 6, this is also arr j+1\n",
    "        j = i-1 # first elem 0, 1, 2\n",
    "\n",
    "        while j>=0 and x<arr[j]:\n",
    "            arr[j+1] = arr[j]\n",
    "            j-=1\n",
    "\n",
    "        arr[j+1] = x\n",
    "\n",
    "    return arr\n",
    "print(insertion_sort(arr = [4,5,63,6,7,4]))"
   ]
  },
  {
   "cell_type": "markdown",
   "metadata": {},
   "source": [
    "# Merge Sort\n"
   ]
  },
  {
   "cell_type": "markdown",
   "metadata": {},
   "source": [
    "### Internal function that merges subarrays based on an index\n"
   ]
  },
  {
   "cell_type": "code",
   "execution_count": null,
   "metadata": {},
   "outputs": [],
   "source": [
    "def merge_subarrays(arr: list, low: int, mid: int, high: int):\n",
    "    left = arr[low: mid+1]\n",
    "    right = arr[mid+1: high+1]\n",
    "    i = 0\n",
    "    j = 0 \n",
    "    k = low\n",
    "    while(i < len(left) and j< len(right)):\n",
    "        if(left[i] < right[j]):\n",
    "            arr[k] = left[i]\n",
    "            i+=1\n",
    "            k+=1\n",
    "        else:\n",
    "            arr[k] = right[j]\n",
    "            j+=1\n",
    "            k+=1\n",
    "    while(i<len(left)):\n",
    "        arr[k] = left[i]\n",
    "        i+=1\n",
    "        k+=1\n",
    "    while(j<len(right)):\n",
    "        arr[k] = right[j]\n",
    "        j+=1\n",
    "        k+=1\n",
    "    return arr"
   ]
  },
  {
   "cell_type": "markdown",
   "metadata": {},
   "source": [
    "### Driver Function\n"
   ]
  },
  {
   "cell_type": "code",
   "execution_count": null,
   "metadata": {},
   "outputs": [
    {
     "name": "stdout",
     "output_type": "stream",
     "text": [
      "[5, 7, 10, 15, 30]\n"
     ]
    }
   ],
   "source": [
    "def merge_sort(arr : list, l : int, r : int):\n",
    "    if(r > l):\n",
    "        m = (l+r)//2\n",
    "        merge_sort(arr, l, m)\n",
    "        merge_sort(arr, m+1, r)\n",
    "        merge_subarrays(arr, l, m, r)\n",
    "arr = [10, 5, 30, 15, 7]\n",
    "merge_sort(arr, 0, 4)\n",
    "print(arr)"
   ]
  },
  {
   "cell_type": "markdown",
   "metadata": {},
   "source": [
    "# Quick Sort using Lomuto\n"
   ]
  },
  {
   "cell_type": "code",
   "execution_count": null,
   "metadata": {},
   "outputs": [
    {
     "name": "stdout",
     "output_type": "stream",
     "text": [
      "2\n"
     ]
    }
   ],
   "source": [
    "def lomuto_partition(arr: list, low: int, high: int):\n",
    "    pivot = arr[high]\n",
    "    i = low - 1\n",
    "    for j in range(low, high):\n",
    "        if(arr[j] <= pivot):\n",
    "            i+=1\n",
    "            arr[i], arr[j] = arr[j], arr[i]\n",
    "    arr[i+1], arr[high] = arr[high], arr[i+1]\n",
    "    return  i+1\n",
    "print(lomuto_partition([8,4,7,9,3,10,5], 0, 6))"
   ]
  },
  {
   "cell_type": "code",
   "execution_count": null,
   "metadata": {},
   "outputs": [
    {
     "name": "stdout",
     "output_type": "stream",
     "text": [
      "[3, 4, 5, 7, 8, 9, 10]\n"
     ]
    }
   ],
   "source": [
    "def driver_quick_sort_lomuto(arr: list, low: int, high: int):\n",
    "    if low<high:\n",
    "        p = lomuto_partition(arr, low, high)\n",
    "        # to sort left side\n",
    "        driver_quick_sort_lomuto(arr, low, p-1)\n",
    "        # to sort right side\n",
    "        driver_quick_sort_lomuto(arr, p+1, high)\n",
    "\n",
    "\n",
    "arr = [8,4,7,9,3,10,5]\n",
    "driver_quick_sort_lomuto(arr, 0, 6)\n",
    "print(arr)"
   ]
  },
  {
   "cell_type": "markdown",
   "metadata": {},
   "source": [
    "# Quick Sort using Hoare's\n"
   ]
  },
  {
   "cell_type": "code",
   "execution_count": null,
   "metadata": {},
   "outputs": [
    {
     "name": "stdout",
     "output_type": "stream",
     "text": [
      "3\n"
     ]
    }
   ],
   "source": [
    "def hoares_partition(arr: list, low: int, high: int):\n",
    "    pivot = arr[low]\n",
    "    i = low - 1\n",
    "    j = high + 1\n",
    "    while True:\n",
    "        i+=1\n",
    "        while arr[i] < pivot:\n",
    "            i+=1\n",
    "        j-=1\n",
    "        while arr[j] > pivot:\n",
    "            j-=1\n",
    "        if i>=j:\n",
    "            return j\n",
    "        arr[i], arr[j] = arr[j], arr[i]\n",
    "print(hoares_partition([8,4,7,9,3,10,5], 0, 6))"
   ]
  },
  {
   "cell_type": "code",
   "execution_count": null,
   "metadata": {},
   "outputs": [
    {
     "name": "stdout",
     "output_type": "stream",
     "text": [
      "[7, 21, 60, 72, 90]\n"
     ]
    }
   ],
   "source": [
    "def quick_sort_hoares(arr: list, low: int, high: int):\n",
    "    if(low < high):\n",
    "        # p is changed becuase in lomuto pivot is fixed but in hares p always changes.\n",
    "        p = hoares_partition(arr, low, high)\n",
    "        quick_sort_hoares(arr, low, p)\n",
    "        quick_sort_hoares(arr, p+1, high)\n",
    "\n",
    "arr = [7, 72, 90, 21, 60]\n",
    "quick_sort_hoares(arr, 0, 4)\n",
    "print(arr) "
   ]
  }
 ],
 "metadata": {
  "kernelspec": {
   "display_name": "pythondev",
   "language": "python",
   "name": "python3"
  },
  "language_info": {
   "codemirror_mode": {
    "name": "ipython",
    "version": 3
   },
   "file_extension": ".py",
   "mimetype": "text/x-python",
   "name": "python",
   "nbconvert_exporter": "python",
   "pygments_lexer": "ipython3",
   "version": "3.12.3"
  },
  "orig_nbformat": 4
 },
 "nbformat": 4,
 "nbformat_minor": 2
}
