{
 "cells": [
  {
   "attachments": {},
   "cell_type": "markdown",
   "metadata": {},
   "source": [
    "## Sum of n natural numbers"
   ]
  },
  {
   "attachments": {},
   "cell_type": "markdown",
   "metadata": {},
   "source": [
    "#### To fetch the sum of n natural numbers we have 3 approaches."
   ]
  },
  {
   "cell_type": "code",
   "execution_count": 18,
   "metadata": {},
   "outputs": [],
   "source": [
    "def using_formula(n : int):\n",
    "    return int(n*(n+1)/2)"
   ]
  },
  {
   "cell_type": "code",
   "execution_count": 19,
   "metadata": {},
   "outputs": [],
   "source": [
    "def using_for_loop(n : int):\n",
    "    sum = 0\n",
    "    for i in range(1, n+1):\n",
    "        sum+=i\n",
    "    return sum\n"
   ]
  },
  {
   "cell_type": "code",
   "execution_count": 20,
   "metadata": {},
   "outputs": [],
   "source": [
    "def using_nested_for_loop(n : int):\n",
    "    sum = 0\n",
    "    for i in range(1, n+1):\n",
    "        # gives us sequence 1,2,3,4,5,6,7,8,9 and so on\n",
    "        # finally the whole sequence resolves to 1 + (1+1) + (1+1+1) and so on\n",
    "        for j in range(1, i+1):\n",
    "            sum+=1\n",
    "    return sum"
   ]
  },
  {
   "cell_type": "code",
   "execution_count": 21,
   "metadata": {},
   "outputs": [
    {
     "name": "stdout",
     "output_type": "stream",
     "text": [
      "55\n",
      "55\n",
      "55\n"
     ]
    }
   ],
   "source": [
    "print(using_formula(10))\n",
    "print(using_for_loop(10))\n",
    "print(using_nested_for_loop(10))"
   ]
  },
  {
   "attachments": {},
   "cell_type": "markdown",
   "metadata": {},
   "source": [
    "### Asymtotic Analysis (Theoritical Analysis)\n",
    "\n",
    "1. No dependence on machine, programming language etc.\n",
    "2. We do not have to implement all the idea/algorithm, the pseudocode only can also work.\n",
    "3. Asymptotic analysis is about measuring 'Order of growth' in terms of 'input size'."
   ]
  },
  {
   "attachments": {},
   "cell_type": "markdown",
   "metadata": {},
   "source": [
    "### Which is efficient ?\n",
    "\n",
    "#### Order of growth of the 3 functions\n",
    "\n",
    "1. using_formula -> C1 -> constant order of growth, why because for every n it is going to do one addition, one multiplication and one division and we consider these as constant operations. All these operations take same time. Number of operations are fixed. (Constant Growth)\n",
    "2.  using_for_loop -> C2*n + C3 -> order of growth -> sum+=i (C2) is happening n numbers of times and some operations are happening C3 times. (Linear Growth)\n",
    "3. using_nested_for_loop -> C4*n^2 + C5*n + C6 -> here sum+=1 is going to be execute n*(n+1)/2 times. (Quadratic Growth)"
   ]
  }
 ],
 "metadata": {
  "kernelspec": {
   "display_name": "python_webdev",
   "language": "python",
   "name": "python3"
  },
  "language_info": {
   "codemirror_mode": {
    "name": "ipython",
    "version": 3
   },
   "file_extension": ".py",
   "mimetype": "text/x-python",
   "name": "python",
   "nbconvert_exporter": "python",
   "pygments_lexer": "ipython3",
   "version": "3.11.3"
  },
  "orig_nbformat": 4
 },
 "nbformat": 4,
 "nbformat_minor": 2
}
