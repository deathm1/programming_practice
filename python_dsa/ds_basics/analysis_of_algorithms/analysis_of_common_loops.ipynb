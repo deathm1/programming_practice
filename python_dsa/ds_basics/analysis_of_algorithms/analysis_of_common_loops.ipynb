{
 "cells": [
  {
   "attachments": {},
   "cell_type": "markdown",
   "metadata": {},
   "source": [
    "## Example 1"
   ]
  },
  {
   "cell_type": "code",
   "execution_count": 12,
   "metadata": {},
   "outputs": [
    {
     "name": "stdout",
     "output_type": "stream",
     "text": [
      "0\n",
      "2\n",
      "4\n",
      "6\n",
      "8\n",
      "10\n"
     ]
    }
   ],
   "source": [
    "# loop runs for ceiling of (n/c) times\n",
    "# so we can ignore the constants c and the ceiling, so order of growth is theeta(n) \n",
    "n = 11\n",
    "c = 2\n",
    "i = 0\n",
    "while(i<n):\n",
    "    print(i)\n",
    "    i = i+c"
   ]
  },
  {
   "cell_type": "code",
   "execution_count": 2,
   "metadata": {},
   "outputs": [
    {
     "name": "stdout",
     "output_type": "stream",
     "text": [
      "0\n",
      "2\n",
      "4\n",
      "6\n",
      "8\n",
      "10\n"
     ]
    }
   ],
   "source": [
    "for i in range(0, 11, 2):\n",
    "    print(i)"
   ]
  },
  {
   "attachments": {},
   "cell_type": "markdown",
   "metadata": {},
   "source": [
    "## Example 2"
   ]
  },
  {
   "cell_type": "code",
   "execution_count": 3,
   "metadata": {},
   "outputs": [
    {
     "name": "stdout",
     "output_type": "stream",
     "text": [
      "11\n",
      "9\n",
      "7\n",
      "5\n",
      "3\n",
      "1\n"
     ]
    }
   ],
   "source": [
    "# the time complexity is again theeta(n)\n",
    "n = 11\n",
    "c = 2\n",
    "i = n\n",
    "\n",
    "while(i>0):\n",
    "    print(i)\n",
    "    i = i - c"
   ]
  },
  {
   "cell_type": "code",
   "execution_count": 4,
   "metadata": {},
   "outputs": [
    {
     "name": "stdout",
     "output_type": "stream",
     "text": [
      "11\n",
      "9\n",
      "7\n",
      "5\n",
      "3\n",
      "1\n"
     ]
    }
   ],
   "source": [
    "for i in range(n, 0, -c):\n",
    "    print(i)"
   ]
  },
  {
   "attachments": {},
   "cell_type": "markdown",
   "metadata": {},
   "source": [
    "## Example 3"
   ]
  },
  {
   "cell_type": "code",
   "execution_count": 5,
   "metadata": {},
   "outputs": [
    {
     "name": "stdout",
     "output_type": "stream",
     "text": [
      "1\n",
      "2\n",
      "4\n",
      "8\n",
      "16\n",
      "1\n",
      "2\n",
      "4\n",
      "8\n",
      "16\n",
      "32\n"
     ]
    }
   ],
   "source": [
    "n = 32\n",
    "\n",
    "i = 1\n",
    "c = 2\n",
    "while (i<n):\n",
    "    print(i)\n",
    "    i = i*c\n",
    "\n",
    "n = 33\n",
    "\n",
    "i = 1\n",
    "c = 2\n",
    "while (i<n):\n",
    "    print(i)\n",
    "    i = i*c\n"
   ]
  },
  {
   "attachments": {},
   "cell_type": "markdown",
   "metadata": {},
   "source": [
    "### Explanation\n",
    "Let's say the loop runs for k times\n",
    "c^0, c^1, c^2, c^3, c^k-1\n",
    "\n",
    "c^(k-1) < n\n",
    "\n",
    "take log on both sides\n",
    "\n",
    "k < logc(n+1)\n",
    "\n",
    "So the order of growth / time complexity is theeta(log n)"
   ]
  },
  {
   "attachments": {},
   "cell_type": "markdown",
   "metadata": {},
   "source": [
    "## Example 4"
   ]
  },
  {
   "cell_type": "code",
   "execution_count": 6,
   "metadata": {},
   "outputs": [
    {
     "name": "stdout",
     "output_type": "stream",
     "text": [
      "33\n",
      "16.5\n",
      "8.25\n",
      "4.125\n",
      "2.0625\n",
      "1.03125\n"
     ]
    }
   ],
   "source": [
    "n = 33\n",
    "c = 2\n",
    "i = n\n",
    "\n",
    "\n",
    "while (i>1):\n",
    "    print(i)\n",
    "    i = i / c\n"
   ]
  },
  {
   "attachments": {},
   "cell_type": "markdown",
   "metadata": {},
   "source": [
    "It is a similar case like the above one, here the OOG is theeta(log n)"
   ]
  },
  {
   "attachments": {},
   "cell_type": "markdown",
   "metadata": {},
   "source": [
    "## Example 5"
   ]
  },
  {
   "cell_type": "code",
   "execution_count": 7,
   "metadata": {},
   "outputs": [
    {
     "name": "stdout",
     "output_type": "stream",
     "text": [
      "2\n",
      "4\n",
      "16\n"
     ]
    }
   ],
   "source": [
    "i = 2\n",
    "c = 2\n",
    "while(i<n):\n",
    "    print(i)\n",
    "    i = i**c"
   ]
  },
  {
   "attachments": {},
   "cell_type": "markdown",
   "metadata": {},
   "source": [
    "### Explanation\n",
    "\n",
    "2, 2^c, (2^c)^c, ((2^c)^c)^c, ... , 2^(c^(k-1))\n",
    "\n",
    "\n",
    "2^(c^(k-1)) < n\n",
    "\n",
    "taking log\n",
    "\n",
    "k < logclog2(n) + 1\n",
    "\n",
    "i.e. OOG / TC is theeta(loglog(n))"
   ]
  },
  {
   "attachments": {},
   "cell_type": "markdown",
   "metadata": {},
   "source": [
    "## Example 6 : subsequent Loops"
   ]
  },
  {
   "cell_type": "code",
   "execution_count": 8,
   "metadata": {},
   "outputs": [],
   "source": [
    "i = 0\n",
    "n = 32\n",
    "while (i<n):\n",
    "    i = i+2\n",
    "# OOG/TC : theeta(n)\n",
    "\n",
    "i = 1\n",
    "\n",
    "while(i<n):\n",
    "    i = i*3\n",
    "\n",
    "# OOG / TC : theeta(log(n))\n",
    "\n",
    "i = 1\n",
    "while(i<100):\n",
    "    i=i+1\n",
    "\n",
    "# OOG / TC : theeta(1)\n",
    "\n",
    "# Total : theeta(n) + theeta(log(n)) + theeta(1) = theeta(n)"
   ]
  },
  {
   "attachments": {},
   "cell_type": "markdown",
   "metadata": {},
   "source": [
    "## Example 7 : Nested Loops"
   ]
  },
  {
   "cell_type": "code",
   "execution_count": 9,
   "metadata": {},
   "outputs": [],
   "source": [
    "i = 0\n",
    "n = 30\n",
    "while(i<n):# theeta(n)\n",
    "    j = 1\n",
    "    while(j<n): # theeta(log(n))\n",
    "        j = j*2\n",
    "    i = i + 1\n",
    "\n",
    "\n",
    "# theeta(n) * theeta(log(n)) = theeta(nlog(n))"
   ]
  },
  {
   "attachments": {},
   "cell_type": "markdown",
   "metadata": {},
   "source": [
    "## Example 8"
   ]
  },
  {
   "cell_type": "code",
   "execution_count": 10,
   "metadata": {},
   "outputs": [],
   "source": [
    "i = 0\n",
    "n = 30\n",
    "while(i<n):# theeta(n)\n",
    "    j = 1\n",
    "    while(j<n): # theeta(log(n))\n",
    "        j = j*2\n",
    "    i = i + 1\n",
    "\n",
    "i = 0\n",
    "\n",
    "# theeta(n^2)\n",
    "while (i<n):\n",
    "    j = 1\n",
    "    while(j<n):\n",
    "        j = j + 1\n",
    "    i = i + 1\n",
    "\n",
    "# total : theeta(n^2)"
   ]
  },
  {
   "attachments": {},
   "cell_type": "markdown",
   "metadata": {},
   "source": [
    "## Example 9 : Multiple Inputs"
   ]
  },
  {
   "cell_type": "code",
   "execution_count": 11,
   "metadata": {},
   "outputs": [],
   "source": [
    "i = 0\n",
    "n = 30\n",
    "m = 40\n",
    "while(i<n):# theeta(n)\n",
    "    j = 1\n",
    "    while(j<n): # theeta(log(n))\n",
    "        j = j*2\n",
    "    i = i + 1\n",
    "\n",
    "i = 0\n",
    "\n",
    "# theeta(m^2)\n",
    "while (i<m):\n",
    "    j = 1\n",
    "    while(j<m):\n",
    "        j = j + 1\n",
    "    i = i + 1\n",
    "\n",
    "# OOG / TC : theeta(m^2 + nlog(n))"
   ]
  }
 ],
 "metadata": {
  "kernelspec": {
   "display_name": "python_webdev",
   "language": "python",
   "name": "python3"
  },
  "language_info": {
   "codemirror_mode": {
    "name": "ipython",
    "version": 3
   },
   "file_extension": ".py",
   "mimetype": "text/x-python",
   "name": "python",
   "nbconvert_exporter": "python",
   "pygments_lexer": "ipython3",
   "version": "3.10.4"
  },
  "orig_nbformat": 4
 },
 "nbformat": 4,
 "nbformat_minor": 2
}
