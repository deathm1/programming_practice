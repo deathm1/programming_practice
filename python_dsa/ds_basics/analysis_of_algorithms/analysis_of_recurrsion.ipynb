{
 "cells": [
  {
   "attachments": {},
   "cell_type": "markdown",
   "metadata": {},
   "source": [
    "### Analysis of Recurssion"
   ]
  },
  {
   "cell_type": "code",
   "execution_count": 3,
   "metadata": {},
   "outputs": [
    {
     "name": "stdout",
     "output_type": "stream",
     "text": [
      "exec\n",
      "exec\n",
      "exec\n",
      "exec\n",
      "exec\n",
      "exec\n",
      "exec\n",
      "exec\n",
      "exec\n",
      "exec\n",
      "exec\n",
      "exec\n",
      "exec\n",
      "exec\n",
      "exec\n",
      "exec\n",
      "exec\n",
      "exec\n",
      "exec\n",
      "exec\n",
      "exec\n",
      "exec\n",
      "exec\n",
      "exec\n",
      "exec\n",
      "exec\n",
      "exec\n",
      "exec\n"
     ]
    },
    {
     "ename": "",
     "evalue": "",
     "output_type": "error",
     "traceback": [
      "\u001b[1;31mThe Kernel crashed while executing code in the current cell or a previous cell. \n",
      "\u001b[1;31mPlease review the code in the cell(s) to identify a possible cause of the failure. \n",
      "\u001b[1;31mClick <a href='https://aka.ms/vscodeJupyterKernelCrash'>here</a> for more info. \n",
      "\u001b[1;31mView Jupyter <a href='command:jupyter.viewOutput'>log</a> for further details."
     ]
    }
   ],
   "source": [
    "def fun1(n):\n",
    "    if(n==1):\n",
    "        return\n",
    "    for i in range(n):\n",
    "        print(\"exec\")\n",
    "    fun1(int(n/2))\n",
    "    fun1(int(n/2))\n",
    "\n",
    "fun1(10)"
   ]
  },
  {
   "attachments": {},
   "cell_type": "markdown",
   "metadata": {},
   "source": [
    "## Recurrence Relation\n",
    "\n",
    "T(n) = 2T(n/2) + theeta(n)\n",
    "<br>\n",
    "T(1) = theeta(1)"
   ]
  },
  {
   "cell_type": "code",
   "execution_count": 5,
   "metadata": {},
   "outputs": [
    {
     "name": "stdout",
     "output_type": "stream",
     "text": [
      "exec\n",
      "exec\n",
      "exec\n",
      "exec\n",
      "exec\n",
      "exec\n",
      "exec\n"
     ]
    }
   ],
   "source": [
    "def fun2(n):\n",
    "    if(n==1):\n",
    "        return \n",
    "    print(\"exec\")\n",
    "    fun2(int(n/2))\n",
    "    fun2(int(n/2))\n",
    "\n",
    "fun2(10)"
   ]
  },
  {
   "attachments": {},
   "cell_type": "markdown",
   "metadata": {},
   "source": [
    "## Recurrence Relation\n",
    "\n",
    "T(n) = 2T(n/2) + theeta(1)\n",
    "<br>\n",
    "T(1) = theeta(1)"
   ]
  },
  {
   "cell_type": "code",
   "execution_count": 7,
   "metadata": {},
   "outputs": [
    {
     "name": "stdout",
     "output_type": "stream",
     "text": [
      "5\n",
      "4\n",
      "3\n",
      "2\n"
     ]
    }
   ],
   "source": [
    "def fun3(n):\n",
    "    if (n==1):\n",
    "        return\n",
    "    print(n)\n",
    "    fun3(n-1)\n",
    "fun3(5)"
   ]
  },
  {
   "attachments": {},
   "cell_type": "markdown",
   "metadata": {},
   "source": [
    "## Recurrence Relation\n",
    "\n",
    "T(n) = T(n-1) + theeta(1) n > 1\n",
    "<br>\n",
    "T(1) = theeta(1)"
   ]
  }
 ],
 "metadata": {
  "kernelspec": {
   "display_name": "python_webdev",
   "language": "python",
   "name": "python3"
  },
  "language_info": {
   "codemirror_mode": {
    "name": "ipython",
    "version": 3
   },
   "file_extension": ".py",
   "mimetype": "text/x-python",
   "name": "python",
   "nbconvert_exporter": "python",
   "pygments_lexer": "ipython3",
   "version": "3.12.2"
  },
  "orig_nbformat": 4
 },
 "nbformat": 4,
 "nbformat_minor": 2
}
