{
 "cells": [
  {
   "attachments": {},
   "cell_type": "markdown",
   "metadata": {},
   "source": [
    "### Analysis of Recurssion"
   ]
  },
  {
   "cell_type": "code",
   "execution_count": 3,
   "metadata": {},
   "outputs": [
    {
     "name": "stdout",
     "output_type": "stream",
     "text": [
      "exec\n",
      "exec\n",
      "exec\n",
      "exec\n",
      "exec\n",
      "exec\n",
      "exec\n",
      "exec\n",
      "exec\n",
      "exec\n",
      "exec\n",
      "exec\n",
      "exec\n",
      "exec\n",
      "exec\n",
      "exec\n",
      "exec\n",
      "exec\n",
      "exec\n",
      "exec\n",
      "exec\n",
      "exec\n",
      "exec\n",
      "exec\n",
      "exec\n",
      "exec\n",
      "exec\n",
      "exec\n"
     ]
    }
   ],
   "source": [
    "def fun1(n):\n",
    "    if(n==1):\n",
    "        return\n",
    "    for i in range(n):\n",
    "        print(\"exec\")\n",
    "    fun1(int(n/2))\n",
    "    fun1(int(n/2))\n",
    "\n",
    "fun1(10)"
   ]
  },
  {
   "attachments": {},
   "cell_type": "markdown",
   "metadata": {},
   "source": [
    "## Recurrence Relation\n",
    "\n",
    "T(n) = 2T(n/2) + theeta(n)\n",
    "<br>\n",
    "T(1) = theeta(1)"
   ]
  }
 ],
 "metadata": {
  "kernelspec": {
   "display_name": "python_webdev",
   "language": "python",
   "name": "python3"
  },
  "language_info": {
   "codemirror_mode": {
    "name": "ipython",
    "version": 3
   },
   "file_extension": ".py",
   "mimetype": "text/x-python",
   "name": "python",
   "nbconvert_exporter": "python",
   "pygments_lexer": "ipython3",
   "version": "3.11.3"
  },
  "orig_nbformat": 4
 },
 "nbformat": 4,
 "nbformat_minor": 2
}
