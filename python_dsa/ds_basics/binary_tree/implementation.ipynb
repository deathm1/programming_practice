{
 "cells": [
  {
   "cell_type": "markdown",
   "metadata": {},
   "source": [
    "# Binary Tree\n",
    "\n",
    "A binary tree is a hierarchical data structure in which each node has at most two children, referred to as the left child and the right child. It's a fundamental structure in computer science, widely used in various algorithms, including searching, sorting, and storing hierarchical data.\n",
    "\n",
    "## Structure of a Binary Tree\n",
    "\n",
    "1. **Node**: Each element in the binary tree is called a node. A node contains three parts:\n",
    "\n",
    "   - **Data**: The value or data stored in the node.\n",
    "   - **Left Child**: A reference or pointer to the left child node.\n",
    "   - **Right Child**: A reference or pointer to the right child node.\n",
    "\n",
    "2. **Root**: The topmost node of the binary tree is called the root. The entire structure is accessible starting from the root node.\n",
    "\n",
    "3. **Leaf Node**: A node that does not have any children is called a leaf node or terminal node.\n",
    "\n",
    "4. **Parent Node**: A node that has one or more child nodes is called a parent node.\n",
    "\n",
    "5. **Sibling Nodes**: Nodes that share the same parent are called siblings.\n",
    "\n",
    "6. **Subtree**: A subtree consists of a node and all of its descendants in the tree.\n",
    "\n",
    "7. **Height of a Node**: The height of a node is the number of edges on the longest path from the node to a leaf.\n",
    "\n",
    "8. **Depth of a Node**: The depth of a node is the number of edges from the root to the node.\n",
    "\n",
    "9. **Level of a Node**: The level of a node corresponds to the depth of that node, with the root being at level 0.\n",
    "\n",
    "10. **Height of the Tree**: The height of a binary tree is the height of the root node.\n",
    "\n",
    "## Types of Binary Trees\n",
    "\n",
    "1. **Full Binary Tree**: A binary tree in which every node other than the leaves has two children.\n",
    "\n",
    "2. **Perfect Binary Tree**: A binary tree in which all internal nodes have two children, and all leaves are at the same level.\n",
    "\n",
    "3. **Complete Binary Tree**: A binary tree that is fully filled, with the possible exception of the last level, which is filled from left to right.\n",
    "\n",
    "4. **Balanced Binary Tree**: A binary tree where the height of the left and right subtrees of any node differ by no more than one.\n",
    "\n",
    "5. **Degenerate (or Pathological) Tree**: A binary tree where each parent node has only one child. This tree resembles a linked list.\n",
    "\n",
    "## Binary Tree Operations\n",
    "\n",
    "1. **Traversal**:\n",
    "\n",
    "   - **In-order Traversal**: Traverse the left subtree, visit the node, and then traverse the right subtree. This gives nodes in non-decreasing order.\n",
    "   - **Pre-order Traversal**: Visit the node, traverse the left subtree, and then traverse the right subtree. This is used to create a copy of the tree.\n",
    "   - **Post-order Traversal**: Traverse the left subtree, traverse the right subtree, and then visit the node. This is used to delete the tree.\n",
    "   - **Level-order Traversal**: Traverse the tree level by level, from left to right. This is often implemented using a queue.\n",
    "\n",
    "2. **Insertion**: In a binary tree, insertion is typically done at the first vacant position in level-order traversal to maintain the structure.\n",
    "\n",
    "3. **Deletion**: Deletion in a binary tree generally involves replacing the node to be deleted with the deepest rightmost node, and then deleting that node.\n",
    "\n",
    "4. **Searching**: Searching in a binary tree involves traversing the tree to find a node with the given value.\n",
    "\n",
    "## Applications of Binary Trees\n",
    "\n",
    "- **Expression Trees**: Used in parsing expressions.\n",
    "- **Binary Search Trees (BST)**: A type of binary tree used for efficient searching, where the left child contains nodes with values less than the parent, and the right child contains nodes with values greater than the parent.\n",
    "- **Heaps**: A special type of binary tree used to implement priority queues.\n",
    "- **Syntax Trees**: Used in compilers to represent the structure of source code.\n",
    "\n",
    "## Example\n",
    "\n",
    "Consider the following binary tree:\n",
    "\n",
    "```\n",
    "        1\n",
    "       / \\\n",
    "      2   3\n",
    "     / \\   \\\n",
    "    4   5   6\n",
    "```\n",
    "\n",
    "- **Root**: Node 1 is the root.\n",
    "- **Leaf Nodes**: Nodes 4, 5, and 6 are leaf nodes.\n",
    "- **Height of Node 2**: The height of node 2 is 1.\n",
    "- **Depth of Node 3**: The depth of node 3 is 1.\n",
    "- **In-order Traversal**: 4, 2, 5, 1, 3, 6\n",
    "- **Pre-order Traversal**: 1, 2, 4, 5, 3, 6\n",
    "- **Post-order Traversal**: 4, 5, 2, 6, 3, 1\n",
    "\n",
    "Binary trees are versatile and form the basis for many complex data structures and algorithms.\n"
   ]
  },
  {
   "cell_type": "markdown",
   "metadata": {},
   "source": [
    "# Implementation\n"
   ]
  },
  {
   "cell_type": "code",
   "execution_count": 26,
   "metadata": {},
   "outputs": [],
   "source": [
    "class BTNode:\n",
    "    def __init__(self, value) -> None:\n",
    "        self.value = value\n",
    "        self.left = None\n",
    "        self.right = None"
   ]
  },
  {
   "cell_type": "markdown",
   "metadata": {},
   "source": [
    "# Create Binary Tree\n"
   ]
  },
  {
   "cell_type": "code",
   "execution_count": 27,
   "metadata": {},
   "outputs": [],
   "source": [
    "# generate data\n",
    "a = BTNode(\"a\")\n",
    "b = BTNode(\"b\")\n",
    "c = BTNode(\"c\")\n",
    "d = BTNode(\"d\")\n",
    "e = BTNode(\"e\")\n",
    "f = BTNode(\"f\")\n",
    "\n",
    "# create connections\n",
    "\n",
    "a.left = b\n",
    "a.right = c\n",
    "\n",
    "b.left = d\n",
    "b.right = e\n",
    "\n",
    "c.right = f"
   ]
  },
  {
   "cell_type": "markdown",
   "metadata": {},
   "source": [
    "# Depth First Values\n",
    "\n",
    "## Iterative Approach\n"
   ]
  },
  {
   "cell_type": "code",
   "execution_count": 28,
   "metadata": {},
   "outputs": [
    {
     "name": "stdout",
     "output_type": "stream",
     "text": [
      "['a', 'b', 'd', 'e', 'c', 'f']\n"
     ]
    }
   ],
   "source": [
    "def dfv(root):\n",
    "    if root == None:\n",
    "        return []\n",
    "\n",
    "    result = []\n",
    "    stack = [root]\n",
    "\n",
    "    while len(stack) > 0:\n",
    "        curr = stack.pop()\n",
    "        result.append(curr.value)\n",
    "        if curr.right:\n",
    "            stack.append(curr.right)\n",
    "\n",
    "        if curr.left:\n",
    "            stack.append(curr.left)\n",
    "\n",
    "    return result\n",
    "\n",
    "\n",
    "print(dfv(a))"
   ]
  },
  {
   "cell_type": "markdown",
   "metadata": {},
   "source": [
    "## Recursive Approach\n"
   ]
  },
  {
   "cell_type": "code",
   "execution_count": 29,
   "metadata": {},
   "outputs": [
    {
     "name": "stdout",
     "output_type": "stream",
     "text": [
      "['a', 'b', 'd', 'e', 'c', 'f']\n"
     ]
    }
   ],
   "source": [
    "def dfv_rec(root):\n",
    "    if root is None:\n",
    "        return []\n",
    "\n",
    "    left_values = dfv_rec(root.left)\n",
    "    right_values = dfv_rec(root.right)\n",
    "\n",
    "    return [root.value] + left_values + right_values\n",
    "\n",
    "\n",
    "print(dfv_rec(a))"
   ]
  },
  {
   "cell_type": "markdown",
   "metadata": {},
   "source": [
    "# Breadth First Values\n"
   ]
  },
  {
   "cell_type": "markdown",
   "metadata": {},
   "source": [
    "## Iterative Approach\n"
   ]
  },
  {
   "cell_type": "code",
   "execution_count": 30,
   "metadata": {},
   "outputs": [
    {
     "name": "stdout",
     "output_type": "stream",
     "text": [
      "['a', 'b', 'c', 'd', 'e', 'f']\n"
     ]
    }
   ],
   "source": [
    "def bfv(root):\n",
    "    result = []\n",
    "    if root == None:\n",
    "        return []\n",
    "\n",
    "    queue = [root]\n",
    "\n",
    "    while len(queue) > 0:\n",
    "        curr = queue.pop(0)\n",
    "        result.append(curr.value)\n",
    "\n",
    "        if curr.left:\n",
    "            queue.append(curr.left)\n",
    "\n",
    "        if curr.right:\n",
    "            queue.append(curr.right)\n",
    "\n",
    "    return result\n",
    "\n",
    "\n",
    "print(bfv(a))"
   ]
  },
  {
   "cell_type": "markdown",
   "metadata": {},
   "source": [
    "# Tree Includes\n"
   ]
  },
  {
   "cell_type": "code",
   "execution_count": null,
   "metadata": {},
   "outputs": [],
   "source": []
  }
 ],
 "metadata": {
  "kernelspec": {
   "display_name": "Python 3",
   "language": "python",
   "name": "python3"
  },
  "language_info": {
   "codemirror_mode": {
    "name": "ipython",
    "version": 3
   },
   "file_extension": ".py",
   "mimetype": "text/x-python",
   "name": "python",
   "nbconvert_exporter": "python",
   "pygments_lexer": "ipython3",
   "version": "3.12.2"
  }
 },
 "nbformat": 4,
 "nbformat_minor": 2
}
