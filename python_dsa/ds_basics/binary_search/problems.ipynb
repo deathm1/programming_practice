{
 "cells": [
  {
   "cell_type": "markdown",
   "metadata": {},
   "source": [
    "# Iterative Implementation of Binary serach\n"
   ]
  },
  {
   "cell_type": "code",
   "execution_count": 9,
   "metadata": {},
   "outputs": [
    {
     "name": "stdout",
     "output_type": "stream",
     "text": [
      "4\n",
      "3\n"
     ]
    }
   ],
   "source": [
    "def binary_search(mylist : list, elem: int):\n",
    "    low = 0\n",
    "    high = len(mylist) - 1\n",
    "\n",
    "    while low <= high:\n",
    "        mid = (low+high)//2\n",
    "        if(mylist[mid] == elem):\n",
    "            return mid\n",
    "        elif(mylist[mid] < elem):\n",
    "            low = mid + 1\n",
    "        elif(mylist[mid] > elem):\n",
    "            high = mid - 1\n",
    "    return -1\n",
    "\n",
    "print(binary_search([1,2,3,4,5], 5))\n",
    "print(binary_search([1,2,3,4,5, 6], 4))"
   ]
  },
  {
   "cell_type": "markdown",
   "metadata": {},
   "source": [
    "# Recursive Binary Search\n"
   ]
  },
  {
   "cell_type": "code",
   "execution_count": 10,
   "metadata": {},
   "outputs": [
    {
     "name": "stdout",
     "output_type": "stream",
     "text": [
      "3\n",
      "0\n",
      "4\n"
     ]
    }
   ],
   "source": [
    "def binary_search_rec(mylist: list, low: int, high: int, elem: int):\n",
    "    if(low>high):\n",
    "        return -1\n",
    "    mid = (low+high)//2\n",
    "    if(mylist[mid] == elem):\n",
    "        return mid\n",
    "    elif(mylist[mid] < elem):\n",
    "        return binary_search_rec(mylist, mid+1, high, elem)\n",
    "    elif(mylist[mid] > elem):\n",
    "        return binary_search_rec(mylist, low, mid-1, elem)\n",
    "    \n",
    "print(binary_search_rec([1,2,3,4,5,6],0,5, 4))\n",
    "print(binary_search_rec([1,2,3,4,5,6],0,5, 1))\n",
    "print(binary_search_rec([1,2,3,4,5,6],0,5, 5))\n"
   ]
  },
  {
   "cell_type": "markdown",
   "metadata": {},
   "source": [
    "# Return index of First Occurrences\n"
   ]
  },
  {
   "cell_type": "code",
   "execution_count": 11,
   "metadata": {},
   "outputs": [
    {
     "name": "stdout",
     "output_type": "stream",
     "text": [
      "3\n",
      "3\n"
     ]
    }
   ],
   "source": [
    "def binary_search_fo(mylist: list, elem: int):\n",
    "    low = 0\n",
    "    high = len(mylist) - 1\n",
    "    \n",
    "\n",
    "    while(low<=high):\n",
    "        mid = (low+high)//2\n",
    "        if(mylist[mid] < elem):\n",
    "            low = mid+1\n",
    "        elif(mylist[mid] > elem):\n",
    "            high = mid-1\n",
    "        else:\n",
    "            if(mid == 0 or mylist[mid-1] != mylist[mid]):\n",
    "                return mid\n",
    "            else:\n",
    "                high = mid-1\n",
    "    return -1\n",
    "\n",
    "    \n",
    "def binary_search_rec_fo(mylist: list, low: int, high: int, elem: int):\n",
    "    if(low > high):\n",
    "        return -1\n",
    "    mid = (low+high)//2\n",
    "    if(mylist[mid] < elem):\n",
    "        return binary_search_rec_fo(mylist, mid+1, high, elem)\n",
    "    elif(mylist[mid] > elem):\n",
    "        return binary_search_rec_fo(mylist, low, mid-1, elem)\n",
    "    else:\n",
    "        if(mid == 0 or mylist[mid-1] != mylist[mid]):\n",
    "            return mid\n",
    "        else:\n",
    "            return binary_search_rec_fo(mylist, low, mid-1, elem)\n",
    "\n",
    "print(binary_search_rec_fo([10,20,30,40,40,40],0,5, 40))\n",
    "print(binary_search_fo([10,20,30,40,40,40], 40))"
   ]
  },
  {
   "cell_type": "markdown",
   "metadata": {},
   "source": [
    "# Return Index of Last Occurrences\n"
   ]
  },
  {
   "cell_type": "code",
   "execution_count": 12,
   "metadata": {},
   "outputs": [
    {
     "name": "stdout",
     "output_type": "stream",
     "text": [
      "3\n",
      "-1\n"
     ]
    }
   ],
   "source": [
    "def binary_search_lo(mylist: list, elem: int):\n",
    "    low = 0\n",
    "    high = len(mylist) - 1\n",
    "    \n",
    "\n",
    "    while(low<=high):\n",
    "        mid = (low+high)//2\n",
    "        if(mylist[mid] < elem):\n",
    "            low = mid+1\n",
    "        elif(mylist[mid] > elem):\n",
    "            high = mid-1\n",
    "        else:\n",
    "            if(mid == high or mylist[mid+1] != mylist[mid]):\n",
    "                return mid\n",
    "            else:\n",
    "                low = mid+1\n",
    "    return -1\n",
    "\n",
    "    \n",
    "def binary_search_rec_lo(mylist: list, low: int, high: int, elem: int):\n",
    "    if(low > high):\n",
    "        return -1\n",
    "    mid = (low+high)//2\n",
    "    if(mylist[mid] < elem):\n",
    "        return binary_search_rec_lo(mylist, mid+1, high, elem)\n",
    "    elif(mylist[mid] > elem):\n",
    "        return binary_search_rec_lo(mylist, low, mid-1, elem)\n",
    "    else:\n",
    "        if(mid == high or mylist[mid+1] != mylist[mid]):\n",
    "            return mid\n",
    "        else:\n",
    "            return binary_search_rec_lo(mylist, mid+1, high, elem)\n",
    "\n",
    "print(binary_search_rec_lo([5,20,20,20,40,40],0,5, 20))\n",
    "print(binary_search_lo([1,1 ,1 ,1, 1 ,0 ,0 ,0], 20))"
   ]
  },
  {
   "cell_type": "markdown",
   "metadata": {},
   "source": [
    "# Count Number of Occurrences\n"
   ]
  },
  {
   "cell_type": "code",
   "execution_count": 13,
   "metadata": {},
   "outputs": [
    {
     "name": "stdout",
     "output_type": "stream",
     "text": [
      "3\n",
      "0\n"
     ]
    }
   ],
   "source": [
    "def count_occurrences(mylist: list, elem: int):\n",
    "    first = binary_search_fo(mylist, elem)\n",
    "    if(first == -1):\n",
    "        return -1\n",
    "    else:\n",
    "        return binary_search_lo(mylist, elem) - first + 1\n",
    "print(count_occurrences([5,20,20,20,40,40], 20))\n",
    "print(count_occurrences([1,1 ,1 ,1, 1 ,0 ,0 ,0], 1))"
   ]
  },
  {
   "cell_type": "markdown",
   "metadata": {},
   "source": [
    "# Find Square Root of A Number Using Binary Search\n"
   ]
  },
  {
   "cell_type": "code",
   "execution_count": 14,
   "metadata": {},
   "outputs": [
    {
     "name": "stdout",
     "output_type": "stream",
     "text": [
      "483\n"
     ]
    }
   ],
   "source": [
    "def find_square_root(my_elm: int):\n",
    "    low = 1\n",
    "    high = my_elm\n",
    "    ans = -1\n",
    "    while low <= high:\n",
    "        mid = (low+high) // 2\n",
    "        midsq = mid * mid\n",
    "        if midsq == my_elm:\n",
    "            return mid\n",
    "        elif midsq > my_elm:\n",
    "            high = mid - 1\n",
    "        else:\n",
    "            low = mid + 1\n",
    "            ans = mid\n",
    "    return ans\n",
    "print(find_square_root(234214))"
   ]
  },
  {
   "cell_type": "markdown",
   "metadata": {},
   "source": [
    "# Find Peak Element\n"
   ]
  },
  {
   "cell_type": "code",
   "execution_count": 15,
   "metadata": {},
   "outputs": [
    {
     "name": "stdout",
     "output_type": "stream",
     "text": [
      "1\n"
     ]
    }
   ],
   "source": [
    "def find_peak_element(mylist: list):\n",
    "    low = 0 \n",
    "    high = len(mylist) - 1\n",
    "\n",
    "    while low<high:\n",
    "        mid = (low+high) // 2\n",
    "\n",
    "        if(mylist[mid] < mylist[mid+1]):\n",
    "            low = mid+1\n",
    "        else:\n",
    "            high = mid\n",
    "    return low\n",
    "print(find_peak_element([3,4,2]))"
   ]
  },
  {
   "cell_type": "markdown",
   "metadata": {},
   "source": [
    "# Floor in a Sorted Array\n"
   ]
  },
  {
   "cell_type": "code",
   "execution_count": 16,
   "metadata": {},
   "outputs": [
    {
     "name": "stdout",
     "output_type": "stream",
     "text": [
      "1\n"
     ]
    }
   ],
   "source": [
    "def floor_in_a_sorted_array(mylist: list, my_elm: int):\n",
    "    low = 1\n",
    "    high = len(mylist)-1\n",
    "    ans = -1\n",
    "    while low <= high:\n",
    "        mid = (low+high) // 2\n",
    "        if mylist[mid] == my_elm:\n",
    "            return mid\n",
    "        elif mylist[mid] >= my_elm:\n",
    "            high = mid - 1\n",
    "        else:\n",
    "            low = mid + 1\n",
    "            ans = mid\n",
    "    return ans\n",
    "print(floor_in_a_sorted_array([1,2,4,5], 3))"
   ]
  }
 ],
 "metadata": {
  "kernelspec": {
   "display_name": "pythondev",
   "language": "python",
   "name": "python3"
  },
  "language_info": {
   "codemirror_mode": {
    "name": "ipython",
    "version": 3
   },
   "file_extension": ".py",
   "mimetype": "text/x-python",
   "name": "python",
   "nbconvert_exporter": "python",
   "pygments_lexer": "ipython3",
   "version": "3.11.4"
  },
  "orig_nbformat": 4
 },
 "nbformat": 4,
 "nbformat_minor": 2
}
