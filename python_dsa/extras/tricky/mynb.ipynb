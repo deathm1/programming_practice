{
 "cells": [
  {
   "cell_type": "markdown",
   "metadata": {},
   "source": [
    "# Problem 1\n"
   ]
  },
  {
   "cell_type": "code",
   "execution_count": 48,
   "metadata": {},
   "outputs": [
    {
     "name": "stdout",
     "output_type": "stream",
     "text": [
      "['Learn', 'quiz', 'practice', 'contribute']\n",
      "['Learn', 'quiz', 'practice', 'contribute']\n",
      "['Learn', 'quiz', 'practice', 'contribute']\n"
     ]
    }
   ],
   "source": [
    "check1 = [\"Learn\", \"quiz\", \"practice\", \"contribute\"]\n",
    "print(check1)\n",
    "check2 = check1\n",
    "print(check2)\n",
    "check3 = check1[:]\n",
    "print(check3)\n"
   ]
  },
  {
   "cell_type": "code",
   "execution_count": 49,
   "metadata": {},
   "outputs": [
    {
     "name": "stdout",
     "output_type": "stream",
     "text": [
      "['Learn', 'quiz', 'practice', 'contribute']\n",
      "['Learn', 'quiz', 'practice', 'contribute']\n",
      "['Learn', 'quiz', 'practice', 'contribute']\n"
     ]
    }
   ],
   "source": [
    "print(check1)\n",
    "print(check2)\n",
    "print(check3)"
   ]
  },
  {
   "cell_type": "code",
   "execution_count": 50,
   "metadata": {},
   "outputs": [
    {
     "name": "stdout",
     "output_type": "stream",
     "text": [
      "['code', 'quiz', 'practice', 'contribute']\n"
     ]
    }
   ],
   "source": [
    "check2[0] = \"code\"\n",
    "print(check1)\n",
    "check3[1] = \"something new\""
   ]
  },
  {
   "cell_type": "code",
   "execution_count": 51,
   "metadata": {},
   "outputs": [
    {
     "name": "stdout",
     "output_type": "stream",
     "text": [
      "['code', 'quiz', 'practice', 'contribute']\n",
      "['code', 'quiz', 'practice', 'contribute']\n",
      "['Learn', 'something new', 'practice', 'contribute']\n",
      "True False\n"
     ]
    }
   ],
   "source": [
    "print(check1)\n",
    "print(check2)\n",
    "print(check3)\n",
    "print(check2 == check1, check3 == check1)"
   ]
  },
  {
   "cell_type": "code",
   "execution_count": 52,
   "metadata": {},
   "outputs": [
    {
     "name": "stdout",
     "output_type": "stream",
     "text": [
      "12\n"
     ]
    }
   ],
   "source": [
    "count = 0\n",
    "for c in (check1, check2, check3):\n",
    "    if c[0] == \"code\":\n",
    "        count +=1\n",
    "    if c[1] == \"something new\":\n",
    "        count +=10\n",
    "print(count)"
   ]
  }
 ],
 "metadata": {
  "kernelspec": {
   "display_name": "data_science_and_engineering",
   "language": "python",
   "name": "python3"
  },
  "language_info": {
   "codemirror_mode": {
    "name": "ipython",
    "version": 3
   },
   "file_extension": ".py",
   "mimetype": "text/x-python",
   "name": "python",
   "nbconvert_exporter": "python",
   "pygments_lexer": "ipython3",
   "version": "3.10.12"
  },
  "orig_nbformat": 4
 },
 "nbformat": 4,
 "nbformat_minor": 2
}
