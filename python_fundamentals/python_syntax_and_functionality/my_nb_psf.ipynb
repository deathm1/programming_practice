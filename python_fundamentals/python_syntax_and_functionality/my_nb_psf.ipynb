{
 "cells": [
  {
   "cell_type": "markdown",
   "metadata": {},
   "source": [
    "## The use of global keyword\n"
   ]
  },
  {
   "cell_type": "code",
   "execution_count": 7,
   "metadata": {},
   "outputs": [
    {
     "name": "stdout",
     "output_type": "stream",
     "text": [
      "Python is fantastic\n",
      "Variable is not defined.\n"
     ]
    }
   ],
   "source": [
    "def myfunc():\n",
    "    global x\n",
    "    x = \"fantastic\"\n",
    "\n",
    "\n",
    "def myfunc2():\n",
    "    y = \"not fantastic\"\n",
    "\n",
    "\n",
    "myfunc()\n",
    "myfunc2()\n",
    "\n",
    "print(\"Python is \" + x)\n",
    "\n",
    "try:\n",
    "    print(\"Python is \" + y)\n",
    "except NameError as e:\n",
    "    print(\"Variable is not defined.\")"
   ]
  },
  {
   "cell_type": "code",
   "execution_count": 8,
   "metadata": {},
   "outputs": [
    {
     "data": {
      "text/plain": [
       "range"
      ]
     },
     "execution_count": 8,
     "metadata": {},
     "output_type": "execute_result"
    }
   ],
   "source": [
    "type(range(6))"
   ]
  },
  {
   "cell_type": "markdown",
   "metadata": {},
   "source": [
    "## Python Data Types\n"
   ]
  },
  {
   "cell_type": "code",
   "execution_count": 8,
   "metadata": {},
   "outputs": [],
   "source": [
    "# Text Type:\tstr\n",
    "# Numeric Types:\tint, float, complex\n",
    "# Sequence Types:\tlist, tuple, range\n",
    "# Mapping Type:\tdict\n",
    "# Set Types:\tset, frozenset\n",
    "# Boolean Type:\tbool\n",
    "# Binary Types:\tbytes, bytearray, memoryview\n",
    "# None Type:\tNoneType\n",
    "\n",
    "\n",
    "# x = \"Hello World\"\tstr\n",
    "# x = 20\tint\n",
    "# x = 20.5\tfloat\n",
    "# x = 1j\tcomplex\n",
    "# x = [\"apple\", \"banana\", \"cherry\"]\tlist\n",
    "# x = (\"apple\", \"banana\", \"cherry\")\ttuple\n",
    "# x = range(6)\trange\n",
    "# x = {\"name\" : \"John\", \"age\" : 36}\tdict\n",
    "# x = {\"apple\", \"banana\", \"cherry\"}\tset\n",
    "# x = frozenset({\"apple\", \"banana\", \"cherry\"})\tfrozenset\n",
    "# x = True\tbool\n",
    "# x = b\"Hello\"\tbytes\n",
    "# x = bytearray(5)\tbytearray\n",
    "# x = memoryview(bytes(5))\tmemoryview\n",
    "# x = None\tNoneType\n",
    "\n",
    "\n",
    "# Example\tData Type\tTry it\n",
    "# x = str(\"Hello World\")\tstr\n",
    "# x = int(20)\tint\n",
    "# x = float(20.5)\tfloat\n",
    "# x = complex(1j)\tcomplex\n",
    "# x = list((\"apple\", \"banana\", \"cherry\"))\tlist\n",
    "# x = tuple((\"apple\", \"banana\", \"cherry\"))\ttuple\n",
    "# x = range(6)\trange\n",
    "# x = dict(name=\"John\", age=36)\tdict\n",
    "# x = set((\"apple\", \"banana\", \"cherry\"))\tset\n",
    "# x = frozenset((\"apple\", \"banana\", \"cherry\"))\tfrozenset\n",
    "# x = bool(5)\tbool\n",
    "# x = bytes(5)\tbytes\n",
    "# x = bytearray(5)\tbytearray\n",
    "# x = memoryview(bytes(5))\tmemoryview"
   ]
  },
  {
   "cell_type": "markdown",
   "metadata": {},
   "source": [
    "# Python Operators\n"
   ]
  },
  {
   "cell_type": "markdown",
   "metadata": {},
   "source": [
    "## Modulus\n"
   ]
  },
  {
   "cell_type": "code",
   "execution_count": 9,
   "metadata": {},
   "outputs": [
    {
     "data": {
      "text/plain": [
       "0"
      ]
     },
     "execution_count": 9,
     "metadata": {},
     "output_type": "execute_result"
    }
   ],
   "source": [
    "x = 8\n",
    "y = 4\n",
    "x % y"
   ]
  },
  {
   "cell_type": "markdown",
   "metadata": {},
   "source": [
    "## Exponentiation\n"
   ]
  },
  {
   "cell_type": "code",
   "execution_count": 10,
   "metadata": {},
   "outputs": [
    {
     "data": {
      "text/plain": [
       "4096"
      ]
     },
     "execution_count": 10,
     "metadata": {},
     "output_type": "execute_result"
    }
   ],
   "source": [
    "x = 8\n",
    "y = 4\n",
    "x ** y"
   ]
  },
  {
   "cell_type": "markdown",
   "metadata": {},
   "source": [
    "## Floor division\n"
   ]
  },
  {
   "cell_type": "code",
   "execution_count": 11,
   "metadata": {},
   "outputs": [
    {
     "name": "stdout",
     "output_type": "stream",
     "text": [
      "2.0 2.05\n"
     ]
    }
   ],
   "source": [
    "x = 8.2\n",
    "y = 4\n",
    "print(x//y, x/y)"
   ]
  },
  {
   "cell_type": "markdown",
   "metadata": {},
   "source": [
    "# Python Assignment Operators\n"
   ]
  },
  {
   "cell_type": "markdown",
   "metadata": {},
   "source": [
    "## Increment\n"
   ]
  },
  {
   "cell_type": "code",
   "execution_count": 12,
   "metadata": {},
   "outputs": [
    {
     "data": {
      "text/plain": [
       "13"
      ]
     },
     "execution_count": 12,
     "metadata": {},
     "output_type": "execute_result"
    }
   ],
   "source": [
    "x = 10\n",
    "x += 3\n",
    "x"
   ]
  },
  {
   "cell_type": "markdown",
   "metadata": {},
   "source": [
    "## Decrement\n"
   ]
  },
  {
   "cell_type": "code",
   "execution_count": 13,
   "metadata": {},
   "outputs": [
    {
     "data": {
      "text/plain": [
       "7"
      ]
     },
     "execution_count": 13,
     "metadata": {},
     "output_type": "execute_result"
    }
   ],
   "source": [
    "x = 10\n",
    "x -= 3\n",
    "x"
   ]
  },
  {
   "cell_type": "markdown",
   "metadata": {},
   "source": [
    "## Mutiply\n"
   ]
  },
  {
   "cell_type": "code",
   "execution_count": 14,
   "metadata": {},
   "outputs": [
    {
     "data": {
      "text/plain": [
       "30"
      ]
     },
     "execution_count": 14,
     "metadata": {},
     "output_type": "execute_result"
    }
   ],
   "source": [
    "x = 10\n",
    "x *= 3\n",
    "x"
   ]
  },
  {
   "cell_type": "markdown",
   "metadata": {},
   "source": [
    "## Divide\n"
   ]
  },
  {
   "cell_type": "code",
   "execution_count": 15,
   "metadata": {},
   "outputs": [
    {
     "data": {
      "text/plain": [
       "2.0"
      ]
     },
     "execution_count": 15,
     "metadata": {},
     "output_type": "execute_result"
    }
   ],
   "source": [
    "x = 10\n",
    "x /= 5\n",
    "x"
   ]
  },
  {
   "cell_type": "markdown",
   "metadata": {},
   "source": [
    "## Assignement Modulo\n",
    "\n",
    "Gets remainder of a number when divided\n"
   ]
  },
  {
   "cell_type": "code",
   "execution_count": 16,
   "metadata": {},
   "outputs": [
    {
     "data": {
      "text/plain": [
       "0"
      ]
     },
     "execution_count": 16,
     "metadata": {},
     "output_type": "execute_result"
    }
   ],
   "source": [
    "x = 10\n",
    "x %= 5\n",
    "x"
   ]
  },
  {
   "cell_type": "markdown",
   "metadata": {},
   "source": [
    "## Assignment Floor Division\n",
    "\n",
    "Gets rounded off quotient\n"
   ]
  },
  {
   "cell_type": "code",
   "execution_count": 17,
   "metadata": {},
   "outputs": [
    {
     "data": {
      "text/plain": [
       "2"
      ]
     },
     "execution_count": 17,
     "metadata": {},
     "output_type": "execute_result"
    }
   ],
   "source": [
    "x = 10\n",
    "x //= 5\n",
    "x"
   ]
  },
  {
   "cell_type": "markdown",
   "metadata": {},
   "source": [
    "## Assignment Exponentiation\n"
   ]
  },
  {
   "cell_type": "code",
   "execution_count": 18,
   "metadata": {},
   "outputs": [
    {
     "data": {
      "text/plain": [
       "100"
      ]
     },
     "execution_count": 18,
     "metadata": {},
     "output_type": "execute_result"
    }
   ],
   "source": [
    "x = 10\n",
    "x **= 2\n",
    "x"
   ]
  },
  {
   "cell_type": "markdown",
   "metadata": {},
   "source": [
    "## Assignment AND\n"
   ]
  },
  {
   "cell_type": "code",
   "execution_count": 19,
   "metadata": {},
   "outputs": [
    {
     "data": {
      "text/plain": [
       "10"
      ]
     },
     "execution_count": 19,
     "metadata": {},
     "output_type": "execute_result"
    }
   ],
   "source": [
    "x = 10\n",
    "x &= 10\n",
    "x"
   ]
  },
  {
   "cell_type": "markdown",
   "metadata": {},
   "source": [
    "## Assignment OR\n"
   ]
  },
  {
   "cell_type": "code",
   "execution_count": 20,
   "metadata": {},
   "outputs": [
    {
     "data": {
      "text/plain": [
       "3"
      ]
     },
     "execution_count": 20,
     "metadata": {},
     "output_type": "execute_result"
    }
   ],
   "source": [
    "x = 1\n",
    "x |= 2\n",
    "x"
   ]
  },
  {
   "cell_type": "markdown",
   "metadata": {},
   "source": [
    "## Assignment XOR\n"
   ]
  },
  {
   "cell_type": "code",
   "execution_count": 21,
   "metadata": {},
   "outputs": [
    {
     "data": {
      "text/plain": [
       "0"
      ]
     },
     "execution_count": 21,
     "metadata": {},
     "output_type": "execute_result"
    }
   ],
   "source": [
    "x = 1\n",
    "x ^= 1\n",
    "x"
   ]
  },
  {
   "cell_type": "markdown",
   "metadata": {},
   "source": [
    "## Assignment Bit Wise Right Shift\n"
   ]
  },
  {
   "cell_type": "code",
   "execution_count": 22,
   "metadata": {},
   "outputs": [
    {
     "data": {
      "text/plain": [
       "0"
      ]
     },
     "execution_count": 22,
     "metadata": {},
     "output_type": "execute_result"
    }
   ],
   "source": [
    "x = 1\n",
    "x >>= 20\n",
    "x"
   ]
  },
  {
   "cell_type": "markdown",
   "metadata": {},
   "source": [
    "## Assignment Bit Wise Left Shift\n"
   ]
  },
  {
   "cell_type": "code",
   "execution_count": 23,
   "metadata": {},
   "outputs": [
    {
     "data": {
      "text/plain": [
       "2"
      ]
     },
     "execution_count": 23,
     "metadata": {},
     "output_type": "execute_result"
    }
   ],
   "source": [
    "x = 1\n",
    "x <<= 1\n",
    "x"
   ]
  },
  {
   "cell_type": "markdown",
   "metadata": {},
   "source": [
    "# Comparison operators are used to compare two values\n",
    "\n",
    "1.  \"==\" Equal\n",
    "2.  \"!=\" Not equal\n",
    "3.  \">\" Greater than\n",
    "4.  \"<\" Less than\n",
    "5.  \">=\" Greater than or equal to\n",
    "6.  \"<=\" Less than or equal to\n"
   ]
  },
  {
   "cell_type": "markdown",
   "metadata": {},
   "source": [
    "# Python Logical Operators\n",
    "\n",
    "1. and Returns True if both statements are true\n",
    "2. or Returns True if one of the statements is true\n",
    "3. not Reverse the result, returns False if the result is true\n"
   ]
  },
  {
   "cell_type": "markdown",
   "metadata": {},
   "source": [
    "# Python Identity Operators\n",
    "\n",
    "1. is Returns True if both variables are the same object x is y\n",
    "2. is not Returns True if both variables are not the same object\n"
   ]
  },
  {
   "cell_type": "code",
   "execution_count": 24,
   "metadata": {},
   "outputs": [
    {
     "name": "stdout",
     "output_type": "stream",
     "text": [
      "True False\n"
     ]
    }
   ],
   "source": [
    "a = 100\n",
    "b = 100\n",
    "\n",
    "print(a is b, a is not b)"
   ]
  },
  {
   "cell_type": "markdown",
   "metadata": {},
   "source": [
    "## Python Membership Operators\n",
    "\n",
    "1. in Returns True if a sequence with the specified value is present in the object\n",
    "2. not in Returns True if a sequence with the specified value is not present in the object\n"
   ]
  },
  {
   "cell_type": "code",
   "execution_count": 25,
   "metadata": {},
   "outputs": [
    {
     "name": "stdout",
     "output_type": "stream",
     "text": [
      "True True\n"
     ]
    }
   ],
   "source": [
    "x = [1, 2, 3, 4]\n",
    "\n",
    "print(1 in x, 10 not in x)"
   ]
  },
  {
   "cell_type": "markdown",
   "metadata": {},
   "source": [
    "## Python Bitwise Operators\n",
    "\n",
    "1. & AND Sets each bit to 1 if both bits are 1 x & y\n",
    "2. | OR Sets each bit to 1 if one of two bits is 1 x | y\n",
    "3. ^ XOR Sets each bit to 1 if only one of two bits is 1 x ^ y\n",
    "4. ~ NOT Inverts all the bits ~x\n",
    "5. << Zero fill left shift Shift left by pushing zeros in from the right and let the leftmost bits fall off x << 2\n",
    "6. \">>\" Signed right shift Shift right by pushing copies of the leftmost bit in from the left, and let the rightmost bits fall off x >> 2\n"
   ]
  },
  {
   "cell_type": "code",
   "execution_count": 26,
   "metadata": {},
   "outputs": [
    {
     "name": "stdout",
     "output_type": "stream",
     "text": [
      "1\n",
      "1\n",
      "0\n",
      "0b1 -0b10\n",
      "0b1 0b10000\n",
      "0b10 0b1\n"
     ]
    }
   ],
   "source": [
    "print(1 & 1)\n",
    "print(1 | 0)\n",
    "print(1 ^ 1)\n",
    "print(bin(1), bin(~1))\n",
    "print(bin(1), bin(1 << 4))\n",
    "print(bin(2), bin(2 >> 1))"
   ]
  },
  {
   "cell_type": "markdown",
   "metadata": {},
   "source": [
    "## Operator Precedence\n",
    "\n",
    "1. () Parentheses\n",
    "2. \\*\\* Exponentiation\n",
    "3. +x -x ~x Unary plus, unary minus, and bitwise NOT\n",
    "4. \"\\*\" / // % Multiplication, division, floor division, and modulus\n",
    "5. \"+ -\" Addition and subtraction\n",
    "6. \"<<\" \">>\" Bitwise left and right shifts\n",
    "7. & Bitwise AND\n",
    "8. ^ Bitwise XOR\n",
    "9. | Bitwise OR\n",
    "10. == != \">\" >= < <= is is not in not in Comparisons, identity, and membership operators\n",
    "11. not Logical NOT\n",
    "12. and AND\n",
    "13. or OR\n"
   ]
  },
  {
   "cell_type": "markdown",
   "metadata": {},
   "source": [
    "# Python with operator\n",
    "\n",
    "In Python, with statement is used in exception handling to make the code cleaner and much more readable. It simplifies the management of common resources like file streams. Observe the following code example on how the use of with statement makes code cleaner.\n",
    "\n",
    "Notice that unlike the first two implementations, there is no need to call file.close() when using with statement. The with statement itself ensures proper acquisition and release of resources. An exception during the file.write() call in the first implementation can prevent the file from closing properly which may introduce several bugs in the code, i.e. many changes in files do not go into effect until the file is properly closed. The second approach in the above example takes care of all the exceptions but using the with statement makes the code compact and much more readable.\n"
   ]
  },
  {
   "cell_type": "markdown",
   "metadata": {},
   "source": [
    "## Without with statement\n"
   ]
  },
  {
   "cell_type": "code",
   "execution_count": 27,
   "metadata": {},
   "outputs": [],
   "source": [
    "file = open('file_path', 'w')\n",
    "try:\n",
    "    file.write('hello world')\n",
    "finally:\n",
    "    file.close()"
   ]
  },
  {
   "cell_type": "markdown",
   "metadata": {},
   "source": [
    "## With with statement\n"
   ]
  },
  {
   "cell_type": "code",
   "execution_count": 28,
   "metadata": {},
   "outputs": [],
   "source": [
    "with open('file_path', 'w') as file:\n",
    "    file.write('hello world !222')"
   ]
  },
  {
   "cell_type": "markdown",
   "metadata": {},
   "source": [
    "# understanding Decorators"
   ]
  },
  {
   "cell_type": "code",
   "execution_count": 14,
   "metadata": {},
   "outputs": [
    {
     "name": "stdout",
     "output_type": "stream",
     "text": [
      "dict_keys(['my_arg'])\n",
      "Before func!\n",
      "My name is Jack\n",
      "2\n",
      "After func!\n"
     ]
    }
   ],
   "source": [
    "def my_deco(func):\n",
    "    def wrapper(*args, **kwargs):\n",
    "\n",
    "        print(\"Before func!\") \n",
    "        func(*args, **kwargs)\n",
    "        print(\"After func!\") \n",
    "    return wrapper\n",
    "\n",
    "@my_deco\n",
    "def foo(bar, my_arg):\n",
    "  print(\"My name is \" + bar)\n",
    "  print(my_arg)\n",
    "\n",
    "foo(\"Jack\", my_arg=2)\n"
   ]
  },
  {
   "cell_type": "markdown",
   "metadata": {},
   "source": [
    "# OOPS in Python\n",
    "\n",
    "## Encapsulation\n",
    "Encapsulation is one of the fundamental concepts of object-oriented programming, which helps to protect the data and methods of an object from unauthorized access and modification. \n"
   ]
  },
  {
   "cell_type": "code",
   "execution_count": null,
   "metadata": {},
   "outputs": [],
   "source": [
    "class MyClass:\n",
    "    def __init__(self):\n",
    "\n",
    "        # Define a protected variable with an initial value of 10\n",
    "        # The variable name starts with a single underscore, which indicates protected access\n",
    "        self._protected_var = 10\n",
    "\n",
    "        # Define a private variable with an initial value of 20\n",
    "        # The variable name starts with two underscores, which indicates private access\n",
    "        self.__private_var = 20\n",
    "\n",
    "# Create an object of MyClass class\n",
    "obj = MyClass()\n",
    "\n",
    "# Access the protected variable using the object name and print its value\n",
    "# The protected variable can be accessed outside the class but\n",
    "# it is intended to be used within the class or its subclasses\n",
    "print(obj._protected_var)   # output: 10\n",
    "\n",
    "# Try to access the private variable using the object name and print its value\n",
    "# The private variable cannot be accessed outside the class, even by its subclasses\n",
    "# This will raise an AttributeError because the variable is not accessible outside the class\n",
    "print(obj.__private_var)    # AttributeError: 'MyClass' object has no attribute '__private_var'"
   ]
  },
  {
   "cell_type": "markdown",
   "metadata": {},
   "source": [
    "### Summary of Access Levels\n",
    "\n",
    "| Access Level | Naming Convention | Access From Outside the Class |\n",
    "|--------------|-------------------|-------------------------------|\n",
    "| Public       | No prefix         | Yes                           |\n",
    "| Protected    | Single underscore `_` | Discouraged but possible |\n",
    "| Private      | Double underscores `__` | No (name mangling applied) |\n",
    "\n",
    "### Name Mangling\n",
    "\n",
    "Definition: Python performs name mangling on private variables to make them harder to accidentally access from outside the class. This involves prefixing the variable name with _ClassName, where ClassName is the name of the class.\n",
    "\n"
   ]
  },
  {
   "cell_type": "code",
   "execution_count": null,
   "metadata": {},
   "outputs": [],
   "source": [
    "class MyClass:\n",
    "    def __init__(self, value):\n",
    "        self.__private_var = value\n",
    "\n",
    "obj = MyClass(10)\n",
    "# Accessing directly will fail\n",
    "# print(obj.__private_var)  # Raises AttributeError\n",
    "\n",
    "# Accessing using the mangled name\n",
    "print(obj._MyClass__private_var)  # Output: 10"
   ]
  },
  {
   "cell_type": "markdown",
   "metadata": {},
   "source": [
    "## Inheritance\n",
    "Inheritance promotes code reuse and allows you to create a hierarchy of classes that **share common attributes and methods**. It helps in creating clean and organized code by keeping related functionality in one place and promoting the concept of modularity. The base class from which a new class is derived is also known as a parent class, and the new class is known as the child class or subclass."
   ]
  },
  {
   "cell_type": "code",
   "execution_count": null,
   "metadata": {},
   "outputs": [],
   "source": [
    "# Define a class named Animal\n",
    "class Animal:\n",
    "\n",
    "    # Constructor method that initializes the class object with a name attribute\n",
    "    def __init__(self, name):\n",
    "        self.name = name\n",
    "\n",
    "    # Method that is defined in the Animal class but does not have a body\n",
    "    # This method will be overridden in the subclasses of Animal\n",
    "    def speak(self):\n",
    "        print(\"\")\n",
    "\n",
    "# Define a subclass named Dog that inherits from the Animal class\n",
    "class Dog(Animal):\n",
    "\n",
    "    # Override the speak method of the Animal class\n",
    "    def speak(self):\n",
    "        print(\"Woof!\")\n",
    "\n",
    "# Define a subclass named Cat that inherits from the Animal class\n",
    "class Cat(Animal):\n",
    "\n",
    "    # Override the speak method of the Animal class\n",
    "    def speak(self):\n",
    "        print(\"Meow!\")\n",
    "\n",
    "# Create a Dog object with a name attribute \"Rover\"\n",
    "dog = Dog(\"Rover\")\n",
    "\n",
    "# Create a Cat object with a name attribute \"Whiskers\"\n",
    "cat = Cat(\"Whiskers\")\n",
    "\n",
    "# Call the speak method of the Dog class and print the output\n",
    "# The speak method of the Dog class overrides the speak method of the Animal class\n",
    "# Therefore, when we call the speak method of the Dog object, it will print \"Woof!\"\n",
    "dog.speak()   # output: Woof!\n",
    "\n",
    "# Call the speak method of the Cat class and print the output\n",
    "# The speak method of the Cat class overrides the speak method of the Animal class\n",
    "# Therefore, when we call the speak method of the Cat object, it will print \"Meow!\"\n",
    "cat.speak()   # output: Meow!"
   ]
  },
  {
   "cell_type": "markdown",
   "metadata": {},
   "source": [
    "Inheritance in Python allows one class (the child or derived class) to inherit attributes and methods from another class (the parent or base class). This promotes code reuse and helps create a hierarchy of classes. Python supports several types of inheritance:\n",
    "\n",
    "## Types of Inheritance in Python\n",
    "\n",
    "### 1. **Single Inheritance**\n",
    "\n",
    "In single inheritance, a class inherits from one parent class. This is the simplest form of inheritance.\n",
    "\n",
    "**Example:**\n",
    "\n",
    "```python\n",
    "class Parent:\n",
    "    def parent_method(self):\n",
    "        print(\"This is a method in the Parent class.\")\n",
    "\n",
    "class Child(Parent):\n",
    "    def child_method(self):\n",
    "        print(\"This is a method in the Child class.\")\n",
    "\n",
    "# Usage\n",
    "obj = Child()\n",
    "obj.parent_method()  # Output: This is a method in the Parent class.\n",
    "obj.child_method()   # Output: This is a method in the Child class.\n",
    "```\n",
    "\n",
    "### 2. **Multiple Inheritance**\n",
    "\n",
    "In multiple inheritance, a class can inherit from more than one parent class. This allows the derived class to combine behaviors from multiple base classes.\n",
    "\n",
    "**Example:**\n",
    "\n",
    "```python\n",
    "class Father:\n",
    "    def father_method(self):\n",
    "        print(\"This is a method in the Father class.\")\n",
    "\n",
    "class Mother:\n",
    "    def mother_method(self):\n",
    "        print(\"This is a method in the Mother class.\")\n",
    "\n",
    "class Child(Father, Mother):\n",
    "    def child_method(self):\n",
    "        print(\"This is a method in the Child class.\")\n",
    "\n",
    "# Usage\n",
    "obj = Child()\n",
    "obj.father_method()  # Output: This is a method in the Father class.\n",
    "obj.mother_method()  # Output: This is a method in the Mother class.\n",
    "obj.child_method()   # Output: This is a method in the Child class.\n",
    "```\n",
    "\n",
    "### 3. **Multilevel Inheritance**\n",
    "\n",
    "In multilevel inheritance, a class inherits from a parent class, and then another class inherits from this derived class. This creates a chain of inheritance.\n",
    "\n",
    "**Example:**\n",
    "\n",
    "```python\n",
    "class Grandparent:\n",
    "    def grandparent_method(self):\n",
    "        print(\"This is a method in the Grandparent class.\")\n",
    "\n",
    "class Parent(Grandparent):\n",
    "    def parent_method(self):\n",
    "        print(\"This is a method in the Parent class.\")\n",
    "\n",
    "class Child(Parent):\n",
    "    def child_method(self):\n",
    "        print(\"This is a method in the Child class.\")\n",
    "\n",
    "# Usage\n",
    "obj = Child()\n",
    "obj.grandparent_method()  # Output: This is a method in the Grandparent class.\n",
    "obj.parent_method()       # Output: This is a method in the Parent class.\n",
    "obj.child_method()        # Output: This is a method in the Child class.\n",
    "```\n",
    "\n",
    "### 4. **Hierarchical Inheritance**\n",
    "\n",
    "In hierarchical inheritance, multiple classes inherit from a single parent class. Each derived class can have its own methods and attributes.\n",
    "\n",
    "**Example:**\n",
    "\n",
    "```python\n",
    "class Parent:\n",
    "    def parent_method(self):\n",
    "        print(\"This is a method in the Parent class.\")\n",
    "\n",
    "class Child1(Parent):\n",
    "    def child1_method(self):\n",
    "        print(\"This is a method in Child1.\")\n",
    "\n",
    "class Child2(Parent):\n",
    "    def child2_method(self):\n",
    "        print(\"This is a method in Child2.\")\n",
    "\n",
    "# Usage\n",
    "obj1 = Child1()\n",
    "obj2 = Child2()\n",
    "obj1.parent_method()  # Output: This is a method in the Parent class.\n",
    "obj1.child1_method()  # Output: This is a method in Child1.\n",
    "\n",
    "obj2.parent_method()  # Output: This is a method in the Parent class.\n",
    "obj2.child2_method()  # Output: This is a method in Child2.\n",
    "```\n",
    "\n",
    "### 5. **Hybrid Inheritance**\n",
    "\n",
    "Hybrid inheritance is a combination of two or more types of inheritance. This can sometimes lead to complex hierarchies and is less common due to potential issues like the Diamond Problem.\n",
    "\n",
    "**Example:**\n",
    "\n",
    "```python\n",
    "class Base:\n",
    "    def base_method(self):\n",
    "        print(\"This is a method in the Base class.\")\n",
    "\n",
    "class A(Base):\n",
    "    def a_method(self):\n",
    "        print(\"This is a method in class A.\")\n",
    "\n",
    "class B(Base):\n",
    "    def b_method(self):\n",
    "        print(\"This is a method in class B.\")\n",
    "\n",
    "class C(A, B):\n",
    "    def c_method(self):\n",
    "        print(\"This is a method in class C.\")\n",
    "\n",
    "# Usage\n",
    "obj = C()\n",
    "obj.base_method()  # Output: This is a method in the Base class.\n",
    "obj.a_method()     # Output: This is a method in class A.\n",
    "obj.b_method()     # Output: This is a method in class B.\n",
    "obj.c_method()     # Output: This is a method in class C.\n",
    "```\n",
    "\n",
    "### Key Points\n",
    "\n",
    "- **Method Resolution Order (MRO)**: In complex inheritance scenarios (especially with multiple and hybrid inheritance), Python uses the C3 linearization algorithm to determine the method resolution order. You can inspect the MRO of a class using `ClassName.__mro__` or `ClassName.mro()`.\n",
    "  \n",
    "- **The Diamond Problem**: This occurs in multiple inheritance where a class inherits from two classes that both inherit from the same base class. Python’s MRO helps to resolve potential conflicts by defining a consistent order.\n",
    "\n",
    "### Summary\n",
    "\n",
    "Python supports various types of inheritance, each offering different benefits and complexities. Understanding these inheritance types helps in designing better class hierarchies and ensures code reusability and organization."
   ]
  },
  {
   "cell_type": "markdown",
   "metadata": {},
   "source": [
    "Certainly! Here’s a detailed comparison of **method overriding** and **method overloading** in tabular format:\n",
    "\n",
    "| Feature                | Method Overriding                                                                                     | Method Overloading                                                                                   |\n",
    "|------------------------|------------------------------------------------------------------------------------------------------|------------------------------------------------------------------------------------------------------|\n",
    "| **Definition**         | Re-defining a method in a subclass that is already defined in its superclass.                        | Creating multiple methods with the same name but different parameters in the same class.            |\n",
    "| **Purpose**            | To modify or extend the behavior of an inherited method from a superclass.                          | To provide multiple implementations of a method based on different parameter lists.                |\n",
    "| **Method Signature**   | The method in the subclass must have the same name, return type, and parameter list as in the superclass. | Methods must have the same name but different parameter types or counts.                           |\n",
    "| **Access Control**     | Overridden method can have the same or less restrictive access level compared to the superclass method. | Overloaded methods must have the same access level as defined in the class.                         |\n",
    "| **Inheritance**        | Involves inheritance. Overriding happens between a base class and a derived class.                  | Does not involve inheritance; it's within a single class.                                           |\n",
    "| **Polymorphism**       | Supports runtime polymorphism (dynamic method dispatch).                                           | Supports compile-time polymorphism (method resolution during compilation).                         |\n",
    "| **Java Example**       | ```java                                                                                             | ```java                                                                                             |\n",
    "|                        | class Parent {                                                                                     | class Calculator {                                                                                 |\n",
    "|                        |   void display() { System.out.println(\"Parent display\"); }                                        |   int add(int a, int b) { return a + b; }                                                          |\n",
    "|                        | }                                                                                                 |   double add(double a, double b) { return a + b; }                                                  |\n",
    "|                        | class Child extends Parent {                                                                      |   int add(int a, int b, int c) { return a + b + c; }                                                |\n",
    "|                        |   @Override                                                                                       | }                                                                                                  |\n",
    "|                        |   void display() { System.out.println(\"Child display\"); }                                         | // Method Overloading in the same class                                                             |\n",
    "|                        | }                                                                                                 | ```                                                                                                 |\n",
    "| **Python Example**     | ```python                                                                                          | ```python                                                                                          |\n",
    "|                        | class Parent:                                                                                      | class Calculator:                                                                                  |\n",
    "|                        |     def display(self):                                                                           |     def add(self, a, b): return a + b                                                               |\n",
    "|                        |         print(\"Parent display\")                                                                   |     def add(self, a, b, c): return a + b + c                                                        |\n",
    "|                        |                                                                                                  |     def add(self, a, b, c, d=0): return a + b + c + d                                              |\n",
    "|                        | class Child(Parent):                                                                             |                                                                                                     |\n",
    "|                        |     def display(self):                                                                           | # Method Overloading through different parameters                                                   |\n",
    "|                        |         print(\"Child display\")                                                                    | ```                                                                                                 |\n",
    "|                        | ```                                                                                              |                                                                                                     |\n",
    "\n",
    "### Summary\n",
    "\n",
    "- **Method Overriding**: Focuses on redefining a method inherited from a superclass. It supports runtime polymorphism and involves inheritance. The method signature remains the same.\n",
    "\n",
    "- **Method Overloading**: Focuses on providing multiple methods with the same name but different parameter lists within the same class. It supports compile-time polymorphism and does not involve inheritance.\n",
    "\n",
    "These concepts enhance flexibility and functionality in object-oriented programming by allowing methods to be customized or extended according to specific needs."
   ]
  },
  {
   "cell_type": "code",
   "execution_count": 16,
   "metadata": {},
   "outputs": [
    {
     "name": "stdout",
     "output_type": "stream",
     "text": [
      "This is a method in the Father class.\n",
      "This is a method in the Mother class.\n",
      "This is a method in the Child class.\n",
      "child talks\n"
     ]
    }
   ],
   "source": [
    "class Father:\n",
    "    def father_method(self):\n",
    "        print(\"This is a method in the Father class.\")\n",
    "\n",
    "    def talk(self):\n",
    "        print(\"father talks\")\n",
    "\n",
    "class Mother:\n",
    "    def mother_method(self):\n",
    "        print(\"This is a method in the Mother class.\")\n",
    "\n",
    "    def talk(self):\n",
    "        print(\"mother talks\")\n",
    "\n",
    "class Child(Father, Mother):\n",
    "    def child_method(self):\n",
    "        print(\"This is a method in the Child class.\")\n",
    "    def talk(self):\n",
    "        print(\"child talks\")\n",
    "\n",
    "# Usage\n",
    "obj = Child()\n",
    "obj.father_method()  # Output: This is a method in the Father class.\n",
    "obj.mother_method()  # Output: This is a method in the Mother class.\n",
    "obj.child_method()   # Output: This is a method in the Child class.\n",
    "obj.talk()   # Output: This is a method in the Child class."
   ]
  },
  {
   "cell_type": "markdown",
   "metadata": {},
   "source": [
    "# Polymorphism\n",
    "Polymorphism is an important concept in object-oriented programming that allows you to write code that can work with objects of different classes in a uniform way. In Python, polymorphism is achieved by using method overriding or method overloading."
   ]
  },
  {
   "cell_type": "code",
   "execution_count": null,
   "metadata": {},
   "outputs": [],
   "source": [
    "#The Shape class is defined with an abstract area method, which is intended to be overridden by subclasses.\n",
    "class Shape:\n",
    "    def area(self):\n",
    "        pass\n",
    "\n",
    "class Rectangle(Shape):\n",
    "    # The Rectangle class is defined with an __init__ method that initializes\n",
    "    # width and height instance variables.\n",
    "    # It also defines an area method that calculates and returns\n",
    "    # the area of a rectangle using the width and height instance variables.\n",
    "    def __init__(self, width, height):\n",
    "        self.width = width  # Initialize width instance variable\n",
    "        self.height = height  # Initialize height instance variable\n",
    "\n",
    "    def area(self):\n",
    "        return self.width * self.height  # Return area of rectangle\n",
    "\n",
    "\n",
    " # The Circle class is defined with an __init__ method\n",
    " # that initializes a radius instance variable.\n",
    " # It also defines an area method that calculates and\n",
    " # returns the area of a circle using the radius instance variable.\n",
    "class Circle(Shape):\n",
    "    def __init__(self, radius):\n",
    "        self.radius = radius  # Initialize radius instance variable\n",
    "\n",
    "    def area(self):\n",
    "        return 3.14 * self.radius ** 2  # Return area of circle using pi * r^2\n",
    "\n",
    "# The shapes list is created with one Rectangle object and one Circle object. The for\n",
    "# loop iterates over each object in the list and calls the area method of each object\n",
    "# The output will be the area of the rectangle (20) and the area of the circle (153.86).\n",
    "shapes = [Rectangle(4, 5), Circle(7)]  # Create a list of Shape objects\n",
    "for shape in shapes:\n",
    "    print(shape.area())  # Output the area of each Shape object"
   ]
  },
  {
   "cell_type": "markdown",
   "metadata": {},
   "source": [
    "# Abstraction\n",
    "Abstraction is an important concept in object-oriented programming (OOP) because it allows you to focus on the essential features of an object or system while ignoring the details that aren’t relevant to the current context. By reducing complexity and hiding unnecessary details, abstraction can make code more modular, easier to read, and easier to maintain."
   ]
  },
  {
   "cell_type": "code",
   "execution_count": 22,
   "metadata": {},
   "outputs": [
    {
     "name": "stdout",
     "output_type": "stream",
     "text": [
      "20\n",
      "153.86\n"
     ]
    }
   ],
   "source": [
    "# Import the abc module to define abstract classes and methods\n",
    "\n",
    "# In Python, an ABC class refers to an \"Abstract Base Class.\" These are classes from which other classes can inherit but cannot instantiate directly. \n",
    "# They provide a way to define common interfaces for a set of related classes. \n",
    "# The abc module in Python provides the infrastructure for defining abstract base classes.\n",
    "from abc import ABC, abstractmethod\n",
    "\n",
    "# Define an abstract class called Shape that has an abstract method called area\n",
    "class Shape(ABC):\n",
    "    @abstractmethod\n",
    "    def area(self):\n",
    "        pass\n",
    "\n",
    "# Define a Rectangle class that inherits from Shape\n",
    "class Rectangle(Shape):\n",
    "    def __init__(self, width, height):\n",
    "        self.width = width\n",
    "        self.height = height\n",
    "\n",
    "    # Implement the area method for Rectangles\n",
    "    def area(self):\n",
    "        return self.width * self.height\n",
    "\n",
    "# Define a Circle class that also inherits from Shape\n",
    "class Circle(Shape):\n",
    "    def __init__(self, radius):\n",
    "        self.radius = radius\n",
    "\n",
    "    # Implement the area method for Circles\n",
    "    def area(self):\n",
    "        return 3.14 * self.radius ** 2\n",
    "\n",
    "# Create a list of shapes that includes both Rectangles and Circles\n",
    "shapes = [Rectangle(4, 5), Circle(7)]\n",
    "\n",
    "# Loop through each shape in the list and print its area\n",
    "for shape in shapes:\n",
    "    print(shape.area())"
   ]
  },
  {
   "cell_type": "markdown",
   "metadata": {},
   "source": [
    "| **Feature**                   | **Compile-Time Polymorphism**                                                            | **Runtime Polymorphism**                                                                 |\n",
    "|-------------------------------|-------------------------------------------------------------------------------------------|-----------------------------------------------------------------------------------------|\n",
    "| **Definition**               | Also known as static polymorphism, resolved during compilation.                         | Also known as dynamic polymorphism, resolved during runtime.                          |\n",
    "| **Method Type**              | Method Overloading: Multiple methods with the same name but different parameters.        | Method Overriding: Subclass provides a specific implementation of a method from a superclass. |\n",
    "| **Resolution**               | Not explicitly supported in Python; method resolution based on parameter lists.          | Achieved through inheritance and method overriding, with method resolution at runtime. |\n",
    "| **Binding**                  | Early Binding (Static Binding).                                                           | Late Binding (Dynamic Binding).                                                        |\n",
    "| **Support in Python**        | Python does not support compile-time polymorphism as seen in statically typed languages. | Python fully supports runtime polymorphism through method overriding.                |\n",
    "| **Example**                  | Not applicable; Python does not support method overloading based on parameter lists.    | ```python                                                                             |\n",
    "|                               |                                                                                           | class Animal:                                                                         |\n",
    "|                               |                                                                                           |     def make_sound(self):                                                              |\n",
    "|                               |                                                                                           |         print(\"Some sound\")                                                           |\n",
    "|                               |                                                                                           |                                                                                         |\n",
    "|                               |                                                                                           | class Dog(Animal):                                                                    |\n",
    "|                               |                                                                                           |     def make_sound(self):                                                              |\n",
    "|                               |                                                                                           |         print(\"Bark\")                                                                  |\n",
    "|                               |                                                                                           |                                                                                         |\n",
    "|                               |                                                                                           | animal = Dog()                                                                        |\n",
    "|                               |                                                                                           | animal.make_sound()  # Output: Bark                                                   |\n",
    "|                               |                                                                                           | ```                                                                                   |\n",
    "| **Language Examples**        | Java, C++ (supports method overloading).                                                  | Python (supports method overriding).                                                   |\n",
    "| **Binding Timing**           | Resolved at compile time in statically typed languages.                                    | Resolved at runtime based on the actual object type in dynamically typed languages.   |\n",
    "| **Usage in Python**          | Not applicable; Python's dynamic nature does not use compile-time polymorphism.          | Widely used; Python relies on runtime polymorphism to resolve method calls dynamically. |\n"
   ]
  }
 ],
 "metadata": {
  "kernelspec": {
   "display_name": "Python 3",
   "language": "python",
   "name": "python3"
  },
  "language_info": {
   "codemirror_mode": {
    "name": "ipython",
    "version": 3
   },
   "file_extension": ".py",
   "mimetype": "text/x-python",
   "name": "python",
   "nbconvert_exporter": "python",
   "pygments_lexer": "ipython3",
   "version": "3.12.3"
  },
  "orig_nbformat": 4
 },
 "nbformat": 4,
 "nbformat_minor": 2
}
